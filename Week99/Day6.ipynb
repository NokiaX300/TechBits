{
 "cells": [
  {
   "cell_type": "markdown",
   "metadata": {},
   "source": [
    "八股"
   ]
  },
  {
   "cell_type": "code",
   "execution_count": null,
   "metadata": {
    "vscode": {
     "languageId": "plaintext"
    }
   },
   "outputs": [],
   "source": [
    "在设计公安局与商业银行之间的查账系统时，数据传输的模式和数据格式非常重要。\n",
    "\n",
    "实时查询：可以使用请求-响应模式，采用 JSON、XML 等格式。\n",
    "批量处理：可以使用批量模式，采用 CSV、Parquet 等格式。\n",
    "异步高并发：可以使用消息队列模式，采用 Protobuf 等高效格式。"
   ]
  },
  {
   "cell_type": "code",
   "execution_count": null,
   "metadata": {
    "vscode": {
     "languageId": "plaintext"
    }
   },
   "outputs": [],
   "source": [
    "大数据模型的原理是通过大规模的数据收集、存储、处理和分析来提取有价值的信息和模式。\n",
    "\n",
    "ChatGPT 工作的核心原理：\n",
    "1. 数据收集和预处理\n",
    "    去重和清洗\n",
    "    分词和标注\n",
    "2. 数据存储和分布式计算\n",
    "3. 模型构建\n",
    "    ChatGPT 是基于 Transformer 架构构建的\n",
    "    自注意力机制\n",
    "4. 训练过程\n",
    "    自监督学习\n",
    "    损失函数\n",
    "    优化算法\n",
    "5. 推理和生成\n",
    "6. 模型部署和优化"
   ]
  },
  {
   "cell_type": "code",
   "execution_count": null,
   "metadata": {
    "vscode": {
     "languageId": "plaintext"
    }
   },
   "outputs": [],
   "source": [
    "HTTPS（HyperText Transfer Protocol Secure）是 HTTP 的安全版本，它在 HTTP 基础上增加了数据加密和身份认证\n",
    "通过 SSL/TLS 协议对数据进行加密\n",
    "\n",
    "HTTP：使用默认端口 80。\n",
    "HTTPS：使用默认端口 443。"
   ]
  },
  {
   "cell_type": "code",
   "execution_count": null,
   "metadata": {
    "vscode": {
     "languageId": "plaintext"
    }
   },
   "outputs": [],
   "source": [
    "SWOT分析是一种评估内部优势和劣势，以及外部机会和威胁的工具，用于制定战略决策。"
   ]
  },
  {
   "cell_type": "code",
   "execution_count": null,
   "metadata": {
    "vscode": {
     "languageId": "plaintext"
    }
   },
   "outputs": [],
   "source": [
    "回归模型\n",
    "\n",
    "线性回归：这是最简单、常用的回归模型，假设因变量和自变量之间存在线性关系。常见的线性回归模型有普通最小二乘法（OLS）和岭回归（Ridge Regression）等。\n",
    "\n",
    "多元线性回归：在线性回归的基础上引入多个自变量来预测因变量，适用于多个因素共同影响目标变量的情况。\n",
    "\n",
    "逻辑回归：尽管名为“回归”，逻辑回归是一种分类模型，常用于二元分类问题，通过对概率进行对数变换来预测事件发生的可能性。\n",
    "\n",
    "多项式回归：适用于因变量和自变量呈现非线性关系的情况。通过引入自变量的多项式项（例如平方、立方）来更好地拟合非线性数据。\n",
    "\n",
    "岭回归（Ridge）与套索回归（Lasso）：这两种是带有正则化的线性回归模型，用于解决线性回归中多重共线性问题。岭回归通过L2正则化，Lasso通过L1正则化，还可以进行变量选择。\n",
    "\n",
    "广义线性模型（GLM）：是一种扩展的回归模型，适用于不同类型的响应变量。GLM包括泊松回归、负二项回归等，用于计数数据的回归分析。\n",
    "\n",
    "弹性网络回归（Elastic Net）：结合了岭回归和套索回归的优点，既能解决多重共线性问题，又能进行变量选择，适合高维数据。\n",
    "\n",
    "贝叶斯回归：基于贝叶斯统计原理，通过先验信息和观测数据的结合来估计参数，适合不确定性较大的情况。\n",
    "\n",
    "支持向量回归（SVR）：SVR是支持向量机（SVM）的回归形式，适合高维数据的回归问题，常用于解决非线性回归问题。\n",
    "\n",
    "决策树回归和随机森林回归：基于树的结构进行回归分析，随机森林回归通过集成多棵决策树来提高预测的准确性，能处理非线性、复杂的数据。"
   ]
  },
  {
   "cell_type": "code",
   "execution_count": null,
   "metadata": {
    "vscode": {
     "languageId": "plaintext"
    }
   },
   "outputs": [],
   "source": [
    "主键一定是一个索引：主键会自动创建唯一索引，以便快速定位记录。\n",
    "索引不一定是主键：你可以为任意列创建索引，即使该列不是主键。"
   ]
  }
 ],
 "metadata": {
  "language_info": {
   "name": "python"
  }
 },
 "nbformat": 4,
 "nbformat_minor": 2
}
