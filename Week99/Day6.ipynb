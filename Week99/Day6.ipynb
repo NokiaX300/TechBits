{
 "cells": [
  {
   "cell_type": "markdown",
   "metadata": {},
   "source": [
    "八股"
   ]
  },
  {
   "cell_type": "code",
   "execution_count": null,
   "metadata": {
    "vscode": {
     "languageId": "plaintext"
    }
   },
   "outputs": [],
   "source": [
    "在设计公安局与商业银行之间的查账系统时，数据传输的模式和数据格式非常重要。\n",
    "\n",
    "实时查询：可以使用请求-响应模式，采用 JSON、XML 等格式。\n",
    "批量处理：可以使用批量模式，采用 CSV、Parquet 等格式。\n",
    "异步高并发：可以使用消息队列模式，采用 Protobuf 等高效格式。"
   ]
  },
  {
   "cell_type": "code",
   "execution_count": null,
   "metadata": {
    "vscode": {
     "languageId": "plaintext"
    }
   },
   "outputs": [],
   "source": [
    "大数据模型的原理是通过大规模的数据收集、存储、处理和分析来提取有价值的信息和模式。\n",
    "\n",
    "ChatGPT 工作的核心原理：\n",
    "1. 数据收集和预处理\n",
    "    去重和清洗\n",
    "    分词和标注\n",
    "2. 数据存储和分布式计算\n",
    "3. 模型构建\n",
    "    ChatGPT 是基于 Transformer 架构构建的\n",
    "    自注意力机制\n",
    "4. 训练过程\n",
    "    自监督学习\n",
    "    损失函数\n",
    "    优化算法\n",
    "5. 推理和生成\n",
    "6. 模型部署和优化"
   ]
  },
  {
   "cell_type": "code",
   "execution_count": null,
   "metadata": {
    "vscode": {
     "languageId": "plaintext"
    }
   },
   "outputs": [],
   "source": [
    "HTTPS（HyperText Transfer Protocol Secure）是 HTTP 的安全版本，它在 HTTP 基础上增加了数据加密和身份认证\n",
    "通过 SSL/TLS 协议对数据进行加密\n",
    "\n",
    "HTTP：使用默认端口 80。\n",
    "HTTPS：使用默认端口 443。"
   ]
  }
 ],
 "metadata": {
  "language_info": {
   "name": "python"
  }
 },
 "nbformat": 4,
 "nbformat_minor": 2
}
