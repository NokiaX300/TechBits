{
 "cells": [
  {
   "cell_type": "code",
   "execution_count": null,
   "metadata": {
    "vscode": {
     "languageId": "sql"
    }
   },
   "outputs": [],
   "source": [
    "-- 1757. 可回收且低脂的产品\n",
    "-- https://leetcode.cn/problems/recyclable-and-low-fat-products/description/?envType=study-plan-v2&envId=sql-free-50\n",
    "\n",
    "SELECT product_id\n",
    "FROM Products\n",
    "WHERE low_fats='Y' AND recyclable='Y'"
   ]
  },
  {
   "cell_type": "code",
   "execution_count": null,
   "metadata": {
    "vscode": {
     "languageId": "sql"
    }
   },
   "outputs": [],
   "source": [
    "-- 584. 寻找用户推荐人\n",
    "-- https://leetcode.cn/problems/find-customer-referee/?envType=study-plan-v2&envId=sql-free-50\n",
    "\n",
    "-- SELECT name\n",
    "-- FROM Customer\n",
    "-- WHERE name NOT IN(\n",
    "--     SELECT referee_id\n",
    "--     FROM Customer\n",
    "--     WHERE id=2 AND referee_id is not NULL\n",
    "-- )\n",
    "\n",
    "SELECT name\n",
    "FROM Customer\n",
    "WHERE referee_id != 2 OR referee_id IS NULL"
   ]
  },
  {
   "cell_type": "code",
   "execution_count": null,
   "metadata": {
    "vscode": {
     "languageId": "sql"
    }
   },
   "outputs": [],
   "source": [
    "-- 595. 大的国家\n",
    "-- https://leetcode.cn/problems/big-countries/description/?envType=study-plan-v2&envId=sql-free-50\n",
    "\n",
    "SELECT name, population, area\n",
    "FROM World\n",
    "WHERE area>=3000000 OR population>=25000000"
   ]
  },
  {
   "cell_type": "code",
   "execution_count": null,
   "metadata": {
    "vscode": {
     "languageId": "sql"
    }
   },
   "outputs": [],
   "source": [
    "-- 1148. 文章浏览 I\n",
    "-- https://leetcode.cn/problems/article-views-i/description/?envType=study-plan-v2&envId=sql-free-50\n",
    "\n",
    "SELECT DISTINCT(viewer_id) id\n",
    "FROM Views\n",
    "WHERE author_id=viewer_id\n",
    "ORDER BY id ASC"
   ]
  },
  {
   "cell_type": "code",
   "execution_count": null,
   "metadata": {
    "vscode": {
     "languageId": "sql"
    }
   },
   "outputs": [],
   "source": [
    "-- 1683. 无效的推文\n",
    "-- https://leetcode.cn/problems/invalid-tweets/?envType=study-plan-v2&envId=sql-free-50\n",
    "\n",
    "-- 注意 length 函数返回字符串 str 的字节数，某些字符包含多于 1 个字节\n",
    "SELECT tweet_id\n",
    "FROM Tweets\n",
    "WHERE CHAR_LENGTH(content)>15"
   ]
  },
  {
   "cell_type": "code",
   "execution_count": null,
   "metadata": {
    "vscode": {
     "languageId": "sql"
    }
   },
   "outputs": [],
   "source": [
    "-- 1378. 使用唯一标识码替换员工ID\n",
    "-- https://leetcode.cn/problems/replace-employee-id-with-the-unique-identifier/description/?envType=study-plan-v2&envId=sql-free-50\n",
    "\n",
    "SELECT B.unique_id, A.name\n",
    "FROM Employees A LEFT JOIN EmployeeUNI B on A.id=B.id"
   ]
  },
  {
   "cell_type": "code",
   "execution_count": null,
   "metadata": {
    "vscode": {
     "languageId": "sql"
    }
   },
   "outputs": [],
   "source": [
    "-- 1068. 产品销售分析 I\n",
    "-- https://leetcode.cn/problems/product-sales-analysis-i/description/?envType=study-plan-v2&envId=sql-free-50\n",
    "\n",
    "SELECT B.product_name, A.year, A.price\n",
    "FROM Sales A LEFT JOIN Product B on A.product_id=B.product_id"
   ]
  },
  {
   "cell_type": "code",
   "execution_count": null,
   "metadata": {
    "vscode": {
     "languageId": "sql"
    }
   },
   "outputs": [],
   "source": [
    "-- 1581. 进店却未进行过交易的顾客\n",
    "-- https://leetcode.cn/problems/customer-who-visited-but-did-not-make-any-transactions/?envType=study-plan-v2&envId=sql-free-50\n",
    "\n",
    "-- 使用聚合函数（如 COUNT()、SUM()、AVG() 等）时，通常需要配对 GROUP BY 子句，除非你想对整个结果集进行聚合。\n",
    "SELECT A.customer_id, COUNT(*) count_no_trans\n",
    "FROM Visits A LEFT JOIN Transactions B\n",
    "ON A.visit_id = B.visit_id\n",
    "WHERE B.transaction_id IS NULL\n",
    "GROUP BY A.customer_id"
   ]
  },
  {
   "cell_type": "code",
   "execution_count": null,
   "metadata": {
    "vscode": {
     "languageId": "sql"
    }
   },
   "outputs": [],
   "source": [
    "-- 197. 上升的温度\n",
    "-- https://leetcode.cn/problems/rising-temperature/description/?envType=study-plan-v2&envId=sql-free-50\n",
    "\n",
    "SELECT B.id Id\n",
    "FROM Weather A, Weather B\n",
    "WHERE DATEDIFF(B.recordDate, A.recordDate) = 1\n",
    "AND A.temperature < B.temperature"
   ]
  },
  {
   "cell_type": "code",
   "execution_count": null,
   "metadata": {
    "vscode": {
     "languageId": "sql"
    }
   },
   "outputs": [],
   "source": [
    "-- 1661. 每台机器的进程平均运行时间\n",
    "-- https://leetcode.cn/problems/average-time-of-process-per-machine/description/?envType=study-plan-v2&envId=sql-free-50\n",
    "\n",
    "SELECT a.machine_id,\n",
    "ROUND(AVG(a.timestamp - b.timestamp),3) AS processing_time\n",
    "FROM Activity a\n",
    "JOIN Activity b \n",
    "ON\n",
    "a.machine_id = b.machine_id AND\n",
    "a.process_id = b.process_id AND\n",
    "a.activity_type = 'end' AND\n",
    "b.activity_type = 'start'\n",
    "GROUP BY a.machine_id"
   ]
  }
 ],
 "metadata": {
  "language_info": {
   "name": "python"
  }
 },
 "nbformat": 4,
 "nbformat_minor": 2
}
