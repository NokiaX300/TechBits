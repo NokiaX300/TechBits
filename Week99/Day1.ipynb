{
 "cells": [
  {
   "cell_type": "code",
   "execution_count": null,
   "metadata": {
    "vscode": {
     "languageId": "sql"
    }
   },
   "outputs": [],
   "source": [
    "-- 175. 组合两个表\n",
    "-- https://leetcode.cn/problems/combine-two-tables/description/\n",
    "\n",
    "SELECT\n",
    "    firstName, lastName, city, state\n",
    "FROM Person LEFT JOIN Address\n",
    "ON Person.PersonId = Address.PersonId;"
   ]
  },
  {
   "cell_type": "code",
   "execution_count": null,
   "metadata": {
    "vscode": {
     "languageId": "sql"
    }
   },
   "outputs": [],
   "source": [
    "-- 182. 查找重复的电子邮箱\n",
    "-- https://leetcode.cn/problems/duplicate-emails/description/\n",
    "\n",
    "SELECT email\n",
    "FROM person\n",
    "GROUP BY email\n",
    "HAVING count(email)>1"
   ]
  }
 ],
 "metadata": {
  "language_info": {
   "name": "python"
  }
 },
 "nbformat": 4,
 "nbformat_minor": 2
}
