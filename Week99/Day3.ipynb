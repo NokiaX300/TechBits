{
 "cells": [
  {
   "cell_type": "markdown",
   "metadata": {},
   "source": [
    "项目"
   ]
  },
  {
   "cell_type": "code",
   "execution_count": null,
   "metadata": {
    "vscode": {
     "languageId": "plaintext"
    }
   },
   "outputs": [],
   "source": [
    "数据集中有多个变量，包括客户的个人信息（如年龄、婚姻状况、工作等），以及营销过程中的一些详细信息（如通话时长、通话方式等\n",
    "我这个项目的目标是什么？是用来预测未来客户是否会订购？还是确定影响客户订购的因子？\n",
    "用众数代替缺失值，从而排除了替换后过于极端的因子\n",
    "星期的柱状图十分平均，对目标变量影响不大，排除该因子\n",
    "age 变量存在许多异常值，于是对该变量进行了对数变换"
   ]
  },
  {
   "cell_type": "code",
   "execution_count": null,
   "metadata": {
    "vscode": {
     "languageId": "plaintext"
    }
   },
   "outputs": [],
   "source": [
    "50%-25%-25% 拆分，对训练集进行 EDA\n",
    "可视化，在相关性矩阵中发现有几个变量的相关性过高\n",
    "对所有变量和目标变量进行卡方检验和fisher检验，排除了p>0.05的变量\n",
    "对部分方法进行one-hot处理：\n",
    "    kNN 通过计算样本之间的距离来进行分类\n",
    "可以处理分类变量的方法：\n",
    "    LDA QDA\n",
    "    SVM\n",
    "    决策树、随机森林\n",
    "注意 one-hot 导致多出来很多维度"
   ]
  },
  {
   "cell_type": "code",
   "execution_count": null,
   "metadata": {
    "vscode": {
     "languageId": "plaintext"
    }
   },
   "outputs": [],
   "source": []
  },
  {
   "cell_type": "code",
   "execution_count": null,
   "metadata": {
    "vscode": {
     "languageId": "plaintext"
    }
   },
   "outputs": [],
   "source": []
  },
  {
   "cell_type": "code",
   "execution_count": null,
   "metadata": {
    "vscode": {
     "languageId": "plaintext"
    }
   },
   "outputs": [],
   "source": [
    "Q: 因子是如何选取的？\n",
    "\n",
    "A:  1.初步筛选：用众数代替缺失值，从而排除了替换后过于极端的因子\n",
    "    2.星期的柱状图十分平均，对目标变量影响不大，排除该因子\n",
    "    3.相关性矩阵发现高度相关的变量，保留对目标影响更大的变量\n",
    "    4.对所有变量和目标变量进行卡方检验和fisher检验，排除了p>0.05的变量\n",
    "    5.通过交叉验证和超参数调优，最终选择随机森林作为最佳模型，确定了最终重要的特征"
   ]
  }
 ],
 "metadata": {
  "language_info": {
   "name": "python"
  }
 },
 "nbformat": 4,
 "nbformat_minor": 2
}
