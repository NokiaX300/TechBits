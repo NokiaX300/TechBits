{
 "cells": [
  {
   "cell_type": "markdown",
   "metadata": {},
   "source": [
    "面试笔记"
   ]
  },
  {
   "cell_type": "code",
   "execution_count": null,
   "metadata": {
    "vscode": {
     "languageId": "plaintext"
    }
   },
   "outputs": [],
   "source": [
    "Hello, my name is __. \n",
    "I graduated from __.\n",
    "\n",
    "I am proficient in Python, particularly in data structures and algorithms, \n",
    "\n",
    "and I have led several machine learning projects. \n",
    "\n",
    "In these projects, I have taken responsibility for driving team progress and ensuring high-quality outcomes."
   ]
  },
  {
   "cell_type": "code",
   "execution_count": null,
   "metadata": {
    "vscode": {
     "languageId": "plaintext"
    }
   },
   "outputs": [],
   "source": [
    "Q: 如果给你offer，你会做哪三件事？\n",
    "A: 深入了解、积极沟通、快速学习"
   ]
  },
  {
   "cell_type": "code",
   "execution_count": null,
   "metadata": {
    "vscode": {
     "languageId": "plaintext"
    }
   },
   "outputs": [],
   "source": [
    "Q: 数学计算机专业，为什么想去做商业分析师\n",
    "A: 坚实的定量分析基础，希望将这些技术运用于现实中的商业决策，将数据转化为对业务有价值的洞察"
   ]
  },
  {
   "cell_type": "code",
   "execution_count": null,
   "metadata": {
    "vscode": {
     "languageId": "plaintext"
    }
   },
   "outputs": [],
   "source": [
    "Q: 对风控的了解\n",
    "A:  识别风险、量化风险、控制风险\n",
    "    信用风险、市场风险、操作风险\n",
    "    信用评分模型、大数据分析"
   ]
  },
  {
   "cell_type": "code",
   "execution_count": null,
   "metadata": {
    "vscode": {
     "languageId": "plaintext"
    }
   },
   "outputs": [],
   "source": [
    "Q: 多种思路估算星巴克营业额\n",
    "A:  从咖啡供应量及工作时长角度考虑\n",
    "    从人流量及餐厅可容纳人数考虑"
   ]
  },
  {
   "cell_type": "code",
   "execution_count": null,
   "metadata": {
    "vscode": {
     "languageId": "plaintext"
    }
   },
   "outputs": [],
   "source": [
    "Q: tutor给你一个不可能完成的任务，超级大压力你能扛得住吗\n",
    "A:  首先要进行心理建设，一定能够完成这个看似不能完成的任务\n",
    "    拆解任务、求助与合作、多沟通"
   ]
  },
  {
   "cell_type": "code",
   "execution_count": null,
   "metadata": {
    "vscode": {
     "languageId": "plaintext"
    }
   },
   "outputs": [],
   "source": [
    "Q: 将项目包装一下，学习企业完整的流程，包括最后产生了什么样的价值"
   ]
  }
 ],
 "metadata": {
  "language_info": {
   "name": "python"
  }
 },
 "nbformat": 4,
 "nbformat_minor": 2
}
