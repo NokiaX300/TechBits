{
 "cells": [
  {
   "cell_type": "markdown",
   "metadata": {},
   "source": [
    "SQL 练习"
   ]
  },
  {
   "cell_type": "code",
   "execution_count": null,
   "metadata": {
    "vscode": {
     "languageId": "sql"
    }
   },
   "outputs": [],
   "source": [
    "-- 595. 大的国家\n",
    "-- https://leetcode.cn/problems/big-countries/description/\n",
    "\n",
    "SELECT name,\n",
    "    population,\n",
    "    area\n",
    "FROM\n",
    "    World\n",
    "WHERE\n",
    "    area >= 3000000\n",
    "    OR population >= 25000000;"
   ]
  },
  {
   "cell_type": "code",
   "execution_count": null,
   "metadata": {
    "vscode": {
     "languageId": "sql"
    }
   },
   "outputs": [],
   "source": [
    "-- 627. 变更性别\n",
    "-- https://leetcode.cn/problems/swap-salary/description/\n",
    "\n",
    "UPDATE salary\n",
    "SET\n",
    "    sex = CASE sex\n",
    "        WHEN 'm' THEN 'f'\n",
    "        ELSE 'm'\n",
    "    END;"
   ]
  },
  {
   "cell_type": "code",
   "execution_count": null,
   "metadata": {
    "vscode": {
     "languageId": "sql"
    }
   },
   "outputs": [],
   "source": [
    "-- 620. 有趣的电影\n",
    "-- https://leetcode.cn/problems/not-boring-movies/description/\n",
    "\n",
    "-- 注意是 id%2=1\n",
    "SELECT id, movie, description, rating\n",
    "FROM cinema\n",
    "WHERE description != 'boring' AND id%2=1\n",
    "ORDER BY rating DESC"
   ]
  },
  {
   "cell_type": "code",
   "execution_count": null,
   "metadata": {
    "vscode": {
     "languageId": "sql"
    }
   },
   "outputs": [],
   "source": [
    "-- 596. 超过 5 名学生的课\n",
    "-- https://leetcode.cn/problems/classes-more-than-5-students/description/\n",
    "\n",
    "SELECT class\n",
    "FROM Courses\n",
    "GROUP BY class\n",
    "HAVING COUNT(student)>=5"
   ]
  },
  {
   "cell_type": "code",
   "execution_count": null,
   "metadata": {
    "vscode": {
     "languageId": "sql"
    }
   },
   "outputs": [],
   "source": [
    "-- 182. 查找重复的电子邮箱\n",
    "-- https://leetcode.cn/problems/duplicate-emails/description/\n",
    "\n",
    "SELECT email\n",
    "FROM person\n",
    "GROUP BY email\n",
    "HAVING count(email)>1"
   ]
  },
  {
   "cell_type": "code",
   "execution_count": null,
   "metadata": {
    "vscode": {
     "languageId": "sql"
    }
   },
   "outputs": [],
   "source": [
    "-- 196. 删除重复的电子邮箱\n",
    "-- https://leetcode.cn/problems/delete-duplicate-emails/description/\n",
    "\n",
    "DELETE p1\n",
    "FROM\n",
    "    Person p1,\n",
    "    Person p2\n",
    "WHERE\n",
    "    p1.Email = p2.Email\n",
    "    AND p1.Id > p2.Id"
   ]
  },
  {
   "cell_type": "code",
   "execution_count": null,
   "metadata": {
    "vscode": {
     "languageId": "sql"
    }
   },
   "outputs": [],
   "source": [
    "-- 175. 组合两个表\n",
    "-- https://leetcode.cn/problems/combine-two-tables/description/\n",
    "\n",
    "SELECT\n",
    "    firstName, lastName, city, state\n",
    "FROM Person LEFT JOIN Address\n",
    "ON Person.PersonId = Address.PersonId;"
   ]
  },
  {
   "cell_type": "code",
   "execution_count": null,
   "metadata": {
    "vscode": {
     "languageId": "sql"
    }
   },
   "outputs": [],
   "source": [
    "-- 181. 超过经理收入的员工\n",
    "-- https://leetcode.cn/problems/employees-earning-more-than-their-managers/description/\n",
    "\n",
    "SELECT\n",
    "    a.Name AS 'Employee'\n",
    "FROM\n",
    "    Employee AS a,\n",
    "    Employee AS b\n",
    "WHERE\n",
    "    a.ManagerId = b.Id\n",
    "        AND a.Salary > b.Salary;"
   ]
  },
  {
   "cell_type": "code",
   "execution_count": null,
   "metadata": {
    "vscode": {
     "languageId": "sql"
    }
   },
   "outputs": [],
   "source": [
    "-- 183. 从不订购的客户\n",
    "-- https://leetcode.cn/problems/customers-who-never-order/description/\n",
    "\n",
    "SELECT\n",
    "    Name AS Customers\n",
    "FROM\n",
    "    Customers\n",
    "WHERE\n",
    "    Id NOT IN ( \n",
    "        SELECT CustomerId \n",
    "        FROM Orders \n",
    "    );"
   ]
  },
  {
   "cell_type": "code",
   "execution_count": null,
   "metadata": {
    "vscode": {
     "languageId": "sql"
    }
   },
   "outputs": [],
   "source": [
    "-- 184. 部门工资最高的员工\n",
    "-- https://leetcode.cn/problems/department-highest-salary/description/\n",
    "\n",
    "SELECT\n",
    "    Department.name AS 'Department',\n",
    "    Employee.name AS 'Employee',\n",
    "    Salary\n",
    "FROM\n",
    "    Employee\n",
    "        JOIN\n",
    "    Department ON Employee.DepartmentId = Department.Id\n",
    "WHERE\n",
    "    (Employee.DepartmentId , Salary) IN\n",
    "    (   SELECT\n",
    "            DepartmentId, MAX(Salary)\n",
    "        FROM\n",
    "            Employee\n",
    "        GROUP BY DepartmentId\n",
    "    );"
   ]
  },
  {
   "cell_type": "code",
   "execution_count": null,
   "metadata": {
    "vscode": {
     "languageId": "sql"
    }
   },
   "outputs": [],
   "source": [
    "-- 176. 第二高的薪水\n",
    "-- https://leetcode.cn/problems/second-highest-salary/description/\n",
    "\n",
    "-- LIMIT 1 表示只取一行，OFFSET 1 表示跳过第一行\n",
    "SELECT\n",
    "    (SELECT DISTINCT\n",
    "            Salary\n",
    "        FROM\n",
    "            Employee\n",
    "        ORDER BY Salary DESC\n",
    "        LIMIT 1 OFFSET 1) AS SecondHighestSalary\n",
    ";"
   ]
  },
  {
   "cell_type": "code",
   "execution_count": null,
   "metadata": {
    "vscode": {
     "languageId": "sql"
    }
   },
   "outputs": [],
   "source": [
    "-- 176. 第二高的薪水\n",
    "-- https://leetcode.cn/problems/second-highest-salary/description/\n",
    "\n",
    "-- LIMIT 1 表示只取一行，OFFSET 1 表示跳过第一行\n",
    "SELECT\n",
    "    (SELECT DISTINCT\n",
    "            Salary\n",
    "        FROM\n",
    "            Employee\n",
    "        ORDER BY Salary DESC\n",
    "        LIMIT 1, 1) AS SecondHighestSalary\n",
    ";"
   ]
  },
  {
   "cell_type": "code",
   "execution_count": null,
   "metadata": {
    "vscode": {
     "languageId": "sql"
    }
   },
   "outputs": [],
   "source": [
    "-- 178. 分数排名\n",
    "-- https://leetcode.cn/problems/rank-scores/description/\n",
    "\n",
    "SELECT\n",
    "  S1.score,\n",
    "  (\n",
    "    SELECT\n",
    "      COUNT(DISTINCT S2.score)\n",
    "    FROM\n",
    "      Scores S2\n",
    "    WHERE\n",
    "      S2.score >= S1.score\n",
    "  ) AS 'rank'\n",
    "FROM\n",
    "  Scores S1\n",
    "ORDER BY\n",
    "  S1.score DESC;"
   ]
  },
  {
   "cell_type": "code",
   "execution_count": null,
   "metadata": {
    "vscode": {
     "languageId": "sql"
    }
   },
   "outputs": [],
   "source": [
    "-- 180. 连续出现的数字\n",
    "-- https://leetcode.cn/problems/consecutive-numbers/description/\n",
    "\n",
    "SELECT\n",
    "    DISTINCT L1.num ConsecutiveNums\n",
    "FROM\n",
    "    Logs L1,\n",
    "    Logs L2,\n",
    "    Logs L3\n",
    "WHERE L1.id = l2.id - 1\n",
    "    AND L2.id = L3.id - 1\n",
    "    AND L1.num = L2.num\n",
    "    AND l2.num = l3.num;"
   ]
  },
  {
   "cell_type": "code",
   "execution_count": null,
   "metadata": {
    "vscode": {
     "languageId": "sql"
    }
   },
   "outputs": [],
   "source": [
    "-- 626. 换座位\n",
    "-- https://leetcode.cn/problems/exchange-seats/description/\n",
    "\n",
    "SELECT\n",
    "    (CASE\n",
    "        WHEN MOD(id, 2) != 0 AND counts != id THEN id + 1\n",
    "        WHEN MOD(id, 2) != 0 AND counts = id THEN id\n",
    "        ELSE id - 1\n",
    "    END) AS id,\n",
    "    student\n",
    "FROM\n",
    "    seat,\n",
    "    (SELECT\n",
    "        COUNT(*) AS counts\n",
    "    FROM\n",
    "        seat) AS seat_counts\n",
    "ORDER BY id ASC;"
   ]
  }
 ],
 "metadata": {
  "kernelspec": {
   "display_name": "base",
   "language": "python",
   "name": "python3"
  },
  "language_info": {
   "codemirror_mode": {
    "name": "ipython",
    "version": 3
   },
   "file_extension": ".py",
   "mimetype": "text/x-python",
   "name": "python",
   "nbconvert_exporter": "python",
   "pygments_lexer": "ipython3",
   "version": "3.11.5"
  }
 },
 "nbformat": 4,
 "nbformat_minor": 2
}
