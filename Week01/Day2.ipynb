{
 "cells": [
  {
   "cell_type": "code",
   "execution_count": null,
   "metadata": {},
   "outputs": [],
   "source": [
    "# Anaconda Prompt\n",
    "# 启动后会自动激活 base 环境（Anaconda 的默认环境）\n",
    "\n",
    "# VS Code 新建终端\n",
    "# 默认使用的是系统的终端（如 cmd、PowerShell 或 bash）"
   ]
  },
  {
   "cell_type": "code",
   "execution_count": null,
   "metadata": {},
   "outputs": [],
   "source": [
    "# 可以将类声明为变量的类型\n",
    "class Person:\n",
    "    def __init__(self, name: str):\n",
    "        self.name = name\n",
    "\n",
    "\n",
    "def get_person_name(one_person: Person):\n",
    "    return one_person.name"
   ]
  },
  {
   "cell_type": "code",
   "execution_count": null,
   "metadata": {},
   "outputs": [],
   "source": [
    "# Pydantic 的核心功能就是验证和转换数据类型"
   ]
  },
  {
   "cell_type": "code",
   "execution_count": null,
   "metadata": {},
   "outputs": [],
   "source": [
    "# 并发：任务之间可能交替执行\n",
    "#  \"I/O 密集型\" \n",
    "\n",
    "# 并行：同一时刻真正同时运行多个任务\n",
    "# \"CPU 密集型\"（大多数执行时间是由实际工作（而不是等待）占用的）\n",
    "\n",
    "# 异步是一种并发技术"
   ]
  },
  {
   "cell_type": "code",
   "execution_count": null,
   "metadata": {},
   "outputs": [],
   "source": [
    "# FastAPI并发处理web\n",
    "# 并行处理深度学习"
   ]
  },
  {
   "cell_type": "code",
   "execution_count": null,
   "metadata": {},
   "outputs": [
    {
     "name": "stdout",
     "output_type": "stream",
     "text": [
      "Start cooking...\n",
      "another\n",
      "Burgers are ready!\n"
     ]
    },
    {
     "data": {
      "text/plain": [
       "[None, None]"
      ]
     },
     "metadata": {},
     "output_type": "display_data"
    }
   ],
   "source": [
    "# 只能在被 async def 创建的函数内使用 await\n",
    "import asyncio\n",
    "\n",
    "async def main():\n",
    "    print(\"Start cooking...\")\n",
    "    await asyncio.sleep(1)\n",
    "    print(\"Burgers are ready!\")\n",
    "\n",
    "# 新增异步任务\n",
    "async def print_a():\n",
    "    await asyncio.sleep(0.5)\n",
    "    print(\"another\")\n",
    "\n",
    "# 同时运行两个任务\n",
    "await asyncio.gather(main(), print_a())"
   ]
  },
  {
   "cell_type": "code",
   "execution_count": null,
   "metadata": {},
   "outputs": [],
   "source": [
    "# 环境变量是系统中的一个变量，可以被程序使用\n",
    "\n",
    "# 虚拟环境是一个包含一些文件的目录\n",
    "# venv Python 原生的虚拟环境工具\n",
    "# conda 独立的包管理和环境管理工具（跨语言支持）"
   ]
  },
  {
   "cell_type": "code",
   "execution_count": null,
   "metadata": {},
   "outputs": [],
   "source": [
    "# 由于路径操作是按顺序依次运行的，因此，一定要在 /users/{user_id} 之前声明 /users/me"
   ]
  },
  {
   "cell_type": "code",
   "execution_count": null,
   "metadata": {},
   "outputs": [],
   "source": [
    "# 关闭之前的uvicorn进程只需要在终端中 Ctrl+C"
   ]
  },
  {
   "cell_type": "code",
   "execution_count": null,
   "metadata": {},
   "outputs": [],
   "source": [
    "# 通过从 str 继承，API 文档就能把值的类型定义为字符串，并且能正确渲染\n",
    "# 创建包含固定值的类属性，这些固定值是可用的有效值"
   ]
  }
 ],
 "metadata": {
  "language_info": {
   "name": "python"
  }
 },
 "nbformat": 4,
 "nbformat_minor": 2
}
