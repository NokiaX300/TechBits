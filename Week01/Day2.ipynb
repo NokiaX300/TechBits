{
 "cells": [
  {
   "cell_type": "markdown",
   "metadata": {},
   "source": [
    "SQL 练习"
   ]
  },
  {
   "cell_type": "code",
   "execution_count": null,
   "metadata": {
    "vscode": {
     "languageId": "sql"
    }
   },
   "outputs": [],
   "source": [
    "-- 595. 大的国家\n",
    "-- https://leetcode.cn/problems/big-countries/description/\n",
    "\n",
    "SELECT name,\n",
    "    population,\n",
    "    area\n",
    "FROM\n",
    "    World\n",
    "WHERE\n",
    "    area >= 3000000\n",
    "    OR population >= 25000000;"
   ]
  },
  {
   "cell_type": "code",
   "execution_count": null,
   "metadata": {
    "vscode": {
     "languageId": "sql"
    }
   },
   "outputs": [],
   "source": [
    "-- 627. 变更性别\n",
    "-- https://leetcode.cn/problems/swap-salary/description/\n",
    "\n",
    "UPDATE salary\n",
    "SET\n",
    "    sex = CASE sex\n",
    "        WHEN 'm' THEN 'f'\n",
    "        ELSE 'm'\n",
    "    END;"
   ]
  },
  {
   "cell_type": "code",
   "execution_count": null,
   "metadata": {
    "vscode": {
     "languageId": "sql"
    }
   },
   "outputs": [],
   "source": [
    "-- 620. 有趣的电影\n",
    "-- https://leetcode.cn/problems/not-boring-movies/description/\n",
    "\n",
    "-- 注意是 id%2=1\n",
    "SELECT id, movie, description, rating\n",
    "FROM cinema\n",
    "WHERE description != 'boring' AND id%2=1\n",
    "ORDER BY rating DESC"
   ]
  },
  {
   "cell_type": "code",
   "execution_count": null,
   "metadata": {
    "vscode": {
     "languageId": "sql"
    }
   },
   "outputs": [],
   "source": [
    "-- 596. 超过 5 名学生的课\n",
    "-- https://leetcode.cn/problems/classes-more-than-5-students/description/\n",
    "\n",
    "SELECT class\n",
    "FROM Courses\n",
    "GROUP BY class\n",
    "HAVING COUNT(student)>=5"
   ]
  },
  {
   "cell_type": "code",
   "execution_count": null,
   "metadata": {
    "vscode": {
     "languageId": "sql"
    }
   },
   "outputs": [],
   "source": [
    "-- 182. 查找重复的电子邮箱\n",
    "-- https://leetcode.cn/problems/duplicate-emails/description/\n",
    "\n",
    "SELECT email\n",
    "FROM person\n",
    "GROUP BY email\n",
    "HAVING count(email)>1"
   ]
  },
  {
   "cell_type": "code",
   "execution_count": null,
   "metadata": {
    "vscode": {
     "languageId": "sql"
    }
   },
   "outputs": [],
   "source": [
    "-- 196. 删除重复的电子邮箱\n",
    "-- https://leetcode.cn/problems/delete-duplicate-emails/description/\n",
    "\n",
    "DELETE p1\n",
    "FROM\n",
    "    Person p1,\n",
    "    Person p2\n",
    "WHERE\n",
    "    p1.Email = p2.Email\n",
    "    AND p1.Id > p2.Id"
   ]
  },
  {
   "cell_type": "code",
   "execution_count": null,
   "metadata": {
    "vscode": {
     "languageId": "sql"
    }
   },
   "outputs": [],
   "source": [
    "-- 175. 组合两个表\n",
    "-- https://leetcode.cn/problems/combine-two-tables/description/\n",
    "\n",
    "SELECT\n",
    "    firstName, lastName, city, state\n",
    "FROM Person LEFT JOIN Address\n",
    "ON Person.PersonId = Address.PersonId;"
   ]
  },
  {
   "cell_type": "code",
   "execution_count": null,
   "metadata": {
    "vscode": {
     "languageId": "sql"
    }
   },
   "outputs": [],
   "source": [
    "-- 181. 超过经理收入的员工\n",
    "-- https://leetcode.cn/problems/employees-earning-more-than-their-managers/description/\n",
    "\n",
    "SELECT\n",
    "    a.Name AS 'Employee'\n",
    "FROM\n",
    "    Employee AS a,\n",
    "    Employee AS b\n",
    "WHERE\n",
    "    a.ManagerId = b.Id\n",
    "        AND a.Salary > b.Salary;"
   ]
  },
  {
   "cell_type": "code",
   "execution_count": null,
   "metadata": {
    "vscode": {
     "languageId": "sql"
    }
   },
   "outputs": [],
   "source": [
    "-- 183. 从不订购的客户\n",
    "-- https://leetcode.cn/problems/customers-who-never-order/description/\n",
    "\n",
    "SELECT\n",
    "    Name AS Customers\n",
    "FROM\n",
    "    Customers\n",
    "WHERE\n",
    "    Id NOT IN ( \n",
    "        SELECT CustomerId \n",
    "        FROM Orders \n",
    "    );"
   ]
  },
  {
   "cell_type": "code",
   "execution_count": null,
   "metadata": {
    "vscode": {
     "languageId": "sql"
    }
   },
   "outputs": [],
   "source": [
    "-- 184. 部门工资最高的员工\n",
    "-- https://leetcode.cn/problems/department-highest-salary/description/\n",
    "\n",
    "SELECT\n",
    "    Department.name AS 'Department',\n",
    "    Employee.name AS 'Employee',\n",
    "    Salary\n",
    "FROM\n",
    "    Employee\n",
    "        JOIN\n",
    "    Department ON Employee.DepartmentId = Department.Id\n",
    "WHERE\n",
    "    (Employee.DepartmentId , Salary) IN\n",
    "    (   SELECT\n",
    "            DepartmentId, MAX(Salary)\n",
    "        FROM\n",
    "            Employee\n",
    "        GROUP BY DepartmentId\n",
    "    );"
   ]
  }
 ],
 "metadata": {
  "kernelspec": {
   "display_name": "base",
   "language": "python",
   "name": "python3"
  },
  "language_info": {
   "codemirror_mode": {
    "name": "ipython",
    "version": 3
   },
   "file_extension": ".py",
   "mimetype": "text/x-python",
   "name": "python",
   "nbconvert_exporter": "python",
   "pygments_lexer": "ipython3",
   "version": "3.11.5"
  }
 },
 "nbformat": 4,
 "nbformat_minor": 2
}
