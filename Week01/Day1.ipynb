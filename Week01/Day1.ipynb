{
 "cells": [
  {
   "cell_type": "markdown",
   "metadata": {},
   "source": [
    "SQL 语法"
   ]
  },
  {
   "cell_type": "code",
   "execution_count": null,
   "metadata": {
    "vscode": {
     "languageId": "sql"
    }
   },
   "outputs": [],
   "source": [
    "CREATE TABLE mytable (\n",
    "  id INT NOT NULL AUTO_INCREMENT,\n",
    "  -- int 类型，不可为空，默认值为 1，不为空\n",
    "  col1 INT NOT NULL DEFAULT 1,\n",
    "  -- 变长字符串类型，最长为 45 个字符，可以为空\n",
    "  col2 VARCHAR(45) NULL,\n",
    "  -- 日期类型，可为空\n",
    "  col3 DATE NULL,\n",
    "  -- 设置主键为 id\n",
    "  PRIMARY KEY (`id`));"
   ]
  },
  {
   "cell_type": "code",
   "execution_count": null,
   "metadata": {
    "vscode": {
     "languageId": "sql"
    }
   },
   "outputs": [],
   "source": [
    "-- 返回第 3 ~ 5 行\n",
    "SELECT *\n",
    "FROM mytable\n",
    "LIMIT 2, 3;"
   ]
  },
  {
   "cell_type": "code",
   "execution_count": null,
   "metadata": {
    "vscode": {
     "languageId": "sql"
    }
   },
   "outputs": [],
   "source": [
    "SELECT *\n",
    "FROM mytable\n",
    "ORDER BY col1 DESC, col2 ASC;"
   ]
  },
  {
   "cell_type": "code",
   "execution_count": null,
   "metadata": {
    "vscode": {
     "languageId": "sql"
    }
   },
   "outputs": [],
   "source": [
    "-- % 匹配 >=0 个任意字符；\n",
    "\n",
    "-- _ 匹配 ==1 个任意字符；\n",
    "\n",
    "-- [ ] 可以匹配集合内的字符，例如 [ab] 将匹配字符 a 或者 b。用脱字符 ^ 可以对其进行否定，也就是不匹配集合内的字符。\n",
    "\n",
    "-- 使用 Like 来进行通配符匹配。"
   ]
  },
  {
   "cell_type": "code",
   "execution_count": null,
   "metadata": {
    "vscode": {
     "languageId": "sql"
    }
   },
   "outputs": [],
   "source": [
    "SELECT *\n",
    "FROM mytable\n",
    "WHERE col LIKE '[^AB]%'; -- 不以 A 和 B 开头的任意文本"
   ]
  },
  {
   "cell_type": "code",
   "execution_count": null,
   "metadata": {
    "vscode": {
     "languageId": "sql"
    }
   },
   "outputs": [],
   "source": [
    "-- WHERE 过滤行，HAVING 过滤分组，行过滤应当先于分组过滤\n",
    "SELECT col, COUNT(*) AS num\n",
    "FROM mytable\n",
    "WHERE col > 2\n",
    "GROUP BY col\n",
    "HAVING num >= 2;"
   ]
  },
  {
   "cell_type": "code",
   "execution_count": null,
   "metadata": {
    "vscode": {
     "languageId": "sql"
    }
   },
   "outputs": [],
   "source": [
    "SELECT A.value, B.value\n",
    "FROM tablea AS A INNER JOIN tableb AS B\n",
    "ON A.key = B.key;"
   ]
  },
  {
   "cell_type": "code",
   "execution_count": null,
   "metadata": {
    "vscode": {
     "languageId": "sql"
    }
   },
   "outputs": [],
   "source": [
    "-- 外连接保留了没有关联的那些行。分为左外连接，右外连接以及全外连接，左外连接就是保留左表没有关联的行。\n",
    "-- 检索所有顾客的订单信息，包括还没有订单信息的顾客。\n",
    "SELECT Customers.cust_id, Customers.cust_name, Orders.order_id\n",
    "FROM Customers LEFT JOIN Orders\n",
    "ON Customers.cust_id = Orders.cust_id;"
   ]
  },
  {
   "cell_type": "code",
   "execution_count": null,
   "metadata": {
    "vscode": {
     "languageId": "sql"
    }
   },
   "outputs": [],
   "source": [
    "-- 视图是虚拟的表，本身不包含数据，也就不能对其进行索引操作。\n",
    "-- 对视图的操作和对普通表的操作一样。\n",
    "\n",
    "-- 视图具有如下好处：\n",
    "\n",
    "-- 简化复杂的 SQL 操作，比如复杂的连接；\n",
    "-- 只使用实际表的一部分数据；\n",
    "-- 通过只给用户访问视图的权限，保证数据的安全性；\n",
    "-- 更改数据格式和表示。"
   ]
  },
  {
   "cell_type": "code",
   "execution_count": null,
   "metadata": {
    "vscode": {
     "languageId": "sql"
    }
   },
   "outputs": [],
   "source": [
    "-- 使用存储过程的好处：\n",
    "\n",
    "-- 代码封装，保证了一定的安全性；\n",
    "-- 代码复用；\n",
    "-- 由于是预先编译，因此具有很高的性能。"
   ]
  },
  {
   "cell_type": "code",
   "execution_count": null,
   "metadata": {
    "vscode": {
     "languageId": "sql"
    }
   },
   "outputs": [],
   "source": [
    "-- 存储过程更像是完成一个任务或一系列复杂操作的工具\n",
    "CREATE PROCEDURE add_numbers( IN a INT, IN b INT, OUT sum_result INT )\n",
    "BEGIN\n",
    "    SET sum_result = a + b;\n",
    "END;\n",
    "\n",
    "-- 调用存储过程\n",
    "CALL add_numbers(5, 10, @sum_result);\n",
    "SELECT @sum_result;"
   ]
  },
  {
   "cell_type": "code",
   "execution_count": null,
   "metadata": {
    "vscode": {
     "languageId": "sql"
    }
   },
   "outputs": [],
   "source": [
    "-- 命令行中创建存储过程需要自定义分隔符，因为命令行是以 ; 为结束符，而存储过程中也包含了分号，因此会错误把这部分分号当成是结束符，造成语法错误。\n",
    "delimiter //\n",
    "//\n",
    " delimiter ;"
   ]
  },
  {
   "cell_type": "code",
   "execution_count": null,
   "metadata": {
    "vscode": {
     "languageId": "sql"
    }
   },
   "outputs": [],
   "source": [
    "-- 在存储过程中使用游标可以对一个结果集进行移动遍历。\n",
    "-- 游标主要用于交互式应用，其中用户需要对数据集中的任意行进行浏览和修改。\n",
    "\n",
    "-- 使用游标的四个步骤：\n",
    "\n",
    "-- 声明游标，这个过程没有实际检索出数据；\n",
    "-- 打开游标；\n",
    "-- 取出数据；\n",
    "-- 关闭游标；\n",
    "delimiter //\n",
    "create procedure myprocedure(out ret int)\n",
    "    begin\n",
    "        declare done boolean default 0;\n",
    "\n",
    "        declare mycursor cursor for\n",
    "        select col1 from mytable;\n",
    "        -- 定义了一个 continue handler，当 sqlstate '02000' 这个条件出现时，会执行 set done = 1\n",
    "        declare continue handler for sqlstate '02000' set done = 1;\n",
    "\n",
    "        open mycursor;\n",
    "\n",
    "        repeat\n",
    "            fetch mycursor into ret;\n",
    "            select ret;\n",
    "        until done end repeat;\n",
    "\n",
    "        close mycursor;\n",
    "    end //\n",
    " delimiter ;"
   ]
  },
  {
   "cell_type": "code",
   "execution_count": null,
   "metadata": {
    "vscode": {
     "languageId": "sql"
    }
   },
   "outputs": [],
   "source": [
    "-- 触发器会在某个表执行以下语句时而自动执行：DELETE、INSERT、UPDATE。\n",
    "-- 触发器必须指定在语句执行之前还是之后自动执行，之前执行使用 BEFORE 关键字，之后执行使用 AFTER 关键字。\n",
    "-- BEFORE 用于数据验证和净化，AFTER 用于审计跟踪，将修改记录到另外一张表中。\n",
    "CREATE TRIGGER mytrigger AFTER INSERT ON mytable\n",
    "FOR EACH ROW SELECT NEW.col into @result;"
   ]
  }
 ],
 "metadata": {
  "language_info": {
   "name": "python"
  }
 },
 "nbformat": 4,
 "nbformat_minor": 2
}
