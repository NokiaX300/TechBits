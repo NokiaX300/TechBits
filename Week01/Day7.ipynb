{
 "cells": [
  {
   "cell_type": "code",
   "execution_count": null,
   "metadata": {
    "vscode": {
     "languageId": "sql"
    }
   },
   "outputs": [],
   "source": [
    "-- 626. 换座位\n",
    "-- https://leetcode.cn/problems/exchange-seats/description/?envType=study-plan-v2&envId=sql-free-50\n",
    "\n",
    "-- 首先查询座位的数量\n",
    "-- SELECT COUNT(*) C\n",
    "-- FROM Seat\n",
    "SELECT\n",
    "(\n",
    "    CASE\n",
    "    WHEN MOD(id,2)!=0 AND id!=C THEN id+1\n",
    "    WHEN MOD(id,2)!=0 AND id=C THEN id\n",
    "    ELSE id-1\n",
    "    END\n",
    ") id,\n",
    "student\n",
    "FROM\n",
    "Seat,\n",
    "(\n",
    "    SELECT COUNT(*) C\n",
    "    FROM Seat\n",
    ") A\n",
    "ORDER BY id"
   ]
  },
  {
   "cell_type": "code",
   "execution_count": null,
   "metadata": {
    "vscode": {
     "languageId": "sql"
    }
   },
   "outputs": [],
   "source": [
    "-- 1341. 电影评分\n",
    "-- https://leetcode.cn/problems/movie-rating/description/?envType=study-plan-v2&envId=sql-free-50\n",
    "\n",
    "(SELECT\n",
    "U.name results\n",
    "FROM Users U\n",
    "JOIN MovieRating M\n",
    "ON U.user_id=M.user_id\n",
    "GROUP BY U.user_id\n",
    "ORDER BY COUNT(*) DESC, U.name\n",
    "LIMIT 1)\n",
    "\n",
    "UNION ALL\n",
    "\n",
    "(SELECT\n",
    "M.title results\n",
    "FROM Movies M\n",
    "JOIN MovieRating R\n",
    "ON M.movie_id=R.movie_id\n",
    "AND R.created_at LIKE '2020-02%'\n",
    "GROUP BY M.title\n",
    "ORDER BY AVG(R.rating) DESC, M.title\n",
    "LIMIT 1)"
   ]
  },
  {
   "cell_type": "code",
   "execution_count": null,
   "metadata": {
    "vscode": {
     "languageId": "sql"
    }
   },
   "outputs": [],
   "source": [
    "-- 1321. 餐馆营业额变化增长\n",
    "-- https://leetcode.cn/problems/restaurant-growth/description/?envType=study-plan-v2&envId=sql-free-50\n",
    "\n",
    "-- 隐式连接\n",
    "-- 注意不是每七天分组\n",
    "select \n",
    "    t1.visited_on, \n",
    "    sum(t2.amount) amount, \n",
    "    round(sum(amount)/7, 2) average_amount\n",
    "from (\n",
    "    select distinct visited_on from Customer) t1,\n",
    "    Customer t2, (\n",
    "    select min(visited_on) min_date from Customer) t3\n",
    "where \n",
    "    datediff(t1.visited_on, t2.visited_on) <= 6\n",
    "    and datediff(t1.visited_on, t2.visited_on) >= 0\n",
    "    and datediff(t1.visited_on, min_date) >= 6\n",
    "group by t1.visited_on"
   ]
  },
  {
   "cell_type": "code",
   "execution_count": null,
   "metadata": {
    "vscode": {
     "languageId": "sql"
    }
   },
   "outputs": [],
   "source": [
    "-- 602. 好友申请 II ：谁有最多的好友\n",
    "-- https://leetcode.cn/problems/friend-requests-ii-who-has-the-most-friends/?envType=study-plan-v2&envId=sql-free-50\n",
    "\n",
    "SELECT id, \n",
    "COUNT(*) num\n",
    "FROM (\n",
    "    SELECT requester_id id FROM RequestAccepted\n",
    "    UNION ALL\n",
    "    SELECT accepter_id id FROM RequestAccepted\n",
    ") A\n",
    "GROUP BY id\n",
    "ORDER BY num DESC\n",
    "LIMIT 1"
   ]
  },
  {
   "cell_type": "code",
   "execution_count": null,
   "metadata": {
    "vscode": {
     "languageId": "sql"
    }
   },
   "outputs": [],
   "source": [
    "-- 585. 2016年的投资\n",
    "-- https://leetcode.cn/problems/investments-in-2016/description/?envType=study-plan-v2&envId=sql-free-50\n",
    "\n",
    "-- 挺妙的，至少有一个相同，所以找分类后只有一个数的\n",
    "SELECT ROUND(SUM(tiv_2016), 2) tiv_2016\n",
    "FROM Insurance\n",
    "WHERE pid NOT IN (\n",
    "    SELECT pid\n",
    "    FROM Insurance\n",
    "    GROUP BY tiv_2015\n",
    "    HAVING COUNT(*)=1\n",
    ") AND pid IN (\n",
    "    SELECT pid\n",
    "    FROM Insurance\n",
    "    GROUP BY lat, lon\n",
    "    HAVING COUNT(*)=1\n",
    ")"
   ]
  },
  {
   "cell_type": "code",
   "execution_count": null,
   "metadata": {
    "vscode": {
     "languageId": "sql"
    }
   },
   "outputs": [],
   "source": [
    "-- 185. 部门工资前三高的所有员工\n",
    "-- https://leetcode.cn/problems/department-top-three-salaries/description/?envType=study-plan-v2&envId=sql-free-50\n",
    "\n",
    "-- 子查询代表对于e1的每一个薪资来看，统计e2中大于这个薪资的薪资个数\n",
    "-- 个数必须小于3，从而e1中的这个薪资才能排进前三\n",
    "SELECT\n",
    "    d.Name AS 'Department', e1.Name AS 'Employee', e1.Salary\n",
    "FROM\n",
    "    Employee e1\n",
    "        JOIN\n",
    "    Department d ON e1.DepartmentId = d.Id\n",
    "WHERE\n",
    "    3 > (SELECT\n",
    "            COUNT(DISTINCT e2.Salary)\n",
    "        FROM\n",
    "            Employee e2\n",
    "        WHERE\n",
    "            e2.Salary > e1.Salary\n",
    "                AND e1.DepartmentId = e2.DepartmentId\n",
    "        )"
   ]
  },
  {
   "cell_type": "code",
   "execution_count": null,
   "metadata": {
    "vscode": {
     "languageId": "sql"
    }
   },
   "outputs": [],
   "source": [
    "-- 1667. 修复表中的名字\n",
    "-- https://leetcode.cn/problems/fix-names-in-a-table/?envType=study-plan-v2&envId=sql-free-50\n",
    "\n",
    "-- SUBSTRING(column_name, start, length)提取一个子字符串\n",
    "-- UPPER(expression)\n",
    "-- LOWER(expression)\n",
    "-- CONCAT(string1, string2, ...)连接成一个字符串\n",
    "SELECT user_id, CONCAT(UPPER(SUBSTRING(name,1,1)),LOWER(SUBSTRING(name,2))) name\n",
    "FROM Users\n",
    "ORDER BY user_id"
   ]
  },
  {
   "cell_type": "code",
   "execution_count": null,
   "metadata": {},
   "outputs": [],
   "source": [
    "# 1667. 修复表中的名字\n",
    "# https://leetcode.cn/problems/fix-names-in-a-table/?envType=study-plan-v2&envId=sql-free-50\n",
    "\n",
    "import pandas as pd\n",
    "\n",
    "def fix_names(users: pd.DataFrame) -> pd.DataFrame:\n",
    "    users[\"name\"] = users[\"name\"].str[0].str.upper() + users[\"name\"].str[1:].str.lower()\n",
    "    return users.sort_values(\"user_id\")"
   ]
  },
  {
   "cell_type": "code",
   "execution_count": null,
   "metadata": {
    "vscode": {
     "languageId": "sql"
    }
   },
   "outputs": [],
   "source": [
    "-- 1527. 患某种疾病的患者\n",
    "-- https://leetcode.cn/problems/patients-with-a-condition/description/?envType=study-plan-v2&envId=sql-free-50\n",
    "\n",
    "SELECT patient_id, patient_name, conditions\n",
    "FROM Patients\n",
    "WHERE conditions LIKE 'DIAB1%' OR conditions LIKE '% DIAB1%'"
   ]
  },
  {
   "cell_type": "code",
   "execution_count": null,
   "metadata": {
    "vscode": {
     "languageId": "sql"
    }
   },
   "outputs": [],
   "source": [
    "-- 196. 删除重复的电子邮箱\n",
    "-- https://leetcode.cn/problems/delete-duplicate-emails/description/?envType=study-plan-v2&envId=sql-free-50\n",
    "\n",
    "DELETE A\n",
    "FROM Person A, Person B\n",
    "WHERE A.email = B.email\n",
    "AND A.id>B.id"
   ]
  }
 ],
 "metadata": {
  "language_info": {
   "name": "python"
  }
 },
 "nbformat": 4,
 "nbformat_minor": 2
}
