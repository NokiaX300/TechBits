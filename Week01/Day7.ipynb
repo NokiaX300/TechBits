{
 "cells": [
  {
   "cell_type": "code",
   "execution_count": null,
   "metadata": {
    "vscode": {
     "languageId": "sql"
    }
   },
   "outputs": [],
   "source": [
    "-- 626. 换座位\n",
    "-- https://leetcode.cn/problems/exchange-seats/description/?envType=study-plan-v2&envId=sql-free-50\n",
    "\n",
    "-- 首先查询座位的数量\n",
    "-- SELECT COUNT(*) C\n",
    "-- FROM Seat\n",
    "SELECT\n",
    "(\n",
    "    CASE\n",
    "    WHEN MOD(id,2)!=0 AND id!=C THEN id+1\n",
    "    WHEN MOD(id,2)!=0 AND id=C THEN id\n",
    "    ELSE id-1\n",
    "    END\n",
    ") id,\n",
    "student\n",
    "FROM\n",
    "Seat,\n",
    "(\n",
    "    SELECT COUNT(*) C\n",
    "    FROM Seat\n",
    ") A\n",
    "ORDER BY id"
   ]
  },
  {
   "cell_type": "code",
   "execution_count": null,
   "metadata": {
    "vscode": {
     "languageId": "sql"
    }
   },
   "outputs": [],
   "source": [
    "-- 1341. 电影评分\n",
    "-- https://leetcode.cn/problems/movie-rating/description/?envType=study-plan-v2&envId=sql-free-50\n",
    "\n",
    "(SELECT\n",
    "U.name results\n",
    "FROM Users U\n",
    "JOIN MovieRating M\n",
    "ON U.user_id=M.user_id\n",
    "GROUP BY U.user_id\n",
    "ORDER BY COUNT(*) DESC, U.name\n",
    "LIMIT 1)\n",
    "\n",
    "UNION ALL\n",
    "\n",
    "(SELECT\n",
    "M.title results\n",
    "FROM Movies M\n",
    "JOIN MovieRating R\n",
    "ON M.movie_id=R.movie_id\n",
    "AND R.created_at LIKE '2020-02%'\n",
    "GROUP BY M.title\n",
    "ORDER BY AVG(R.rating) DESC, M.title\n",
    "LIMIT 1)"
   ]
  },
  {
   "cell_type": "code",
   "execution_count": null,
   "metadata": {
    "vscode": {
     "languageId": "sql"
    }
   },
   "outputs": [],
   "source": [
    "-- 1321. 餐馆营业额变化增长\n",
    "-- https://leetcode.cn/problems/restaurant-growth/description/?envType=study-plan-v2&envId=sql-free-50\n",
    "\n"
   ]
  }
 ],
 "metadata": {
  "language_info": {
   "name": "python"
  }
 },
 "nbformat": 4,
 "nbformat_minor": 2
}
