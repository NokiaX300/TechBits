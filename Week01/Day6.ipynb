{
 "cells": [
  {
   "cell_type": "code",
   "execution_count": null,
   "metadata": {
    "vscode": {
     "languageId": "sql"
    }
   },
   "outputs": [],
   "source": [
    "-- 619. 只出现一次的最大数字\n",
    "-- https://leetcode.cn/problems/biggest-single-number/?envType=study-plan-v2&envId=sql-free-50\n",
    "\n",
    "-- 子查询必须有一个别名\n",
    "SELECT MAX(num) num\n",
    "FROM (\n",
    "    SELECT num\n",
    "    FROM MyNumbers\n",
    "    GROUP BY num\n",
    "    HAVING COUNT(num)=1\n",
    ") A"
   ]
  },
  {
   "cell_type": "code",
   "execution_count": null,
   "metadata": {
    "vscode": {
     "languageId": "sql"
    }
   },
   "outputs": [],
   "source": [
    "-- 1045. 买下所有产品的客户\n",
    "-- https://leetcode.cn/problems/customers-who-bought-all-products/description/?envType=study-plan-v2&envId=sql-free-50\n",
    "\n",
    "SELECT customer_id\n",
    "FROM Customer\n",
    "GROUP BY customer_id\n",
    "HAVING COUNT(DISTINCT(product_key))=(\n",
    "    SELECT COUNT(*)\n",
    "    FROM Product\n",
    ")"
   ]
  },
  {
   "cell_type": "code",
   "execution_count": null,
   "metadata": {
    "vscode": {
     "languageId": "sql"
    }
   },
   "outputs": [],
   "source": [
    "-- 1731. 每位经理的下属员工数量\n",
    "-- https://leetcode.cn/problems/the-number-of-employees-which-report-to-each-employee/?envType=study-plan-v2&envId=sql-free-50\n",
    "\n",
    "SELECT A.employee_id, A.name,\n",
    "COUNT(*) reports_count, ROUND(AVG(B.age),0) average_age\n",
    "FROM Employees A JOIN Employees B\n",
    "ON A.employee_id = B.reports_to\n",
    "GROUP BY A.employee_id\n",
    "ORDER BY A.employee_id"
   ]
  },
  {
   "cell_type": "code",
   "execution_count": null,
   "metadata": {
    "vscode": {
     "languageId": "sql"
    }
   },
   "outputs": [],
   "source": [
    "-- 1789. 员工的直属部门\n",
    "-- https://leetcode.cn/problems/primary-department-for-each-employee/?envType=study-plan-v2&envId=sql-free-50\n",
    "\n",
    "SELECT employee_id, department_id\n",
    "FROM Employee\n",
    "WHERE primary_flag = 'Y'\n",
    "UNION\n",
    "SELECT employee_id, MIN(department_id)\n",
    "FROM Employee\n",
    "GROUP BY employee_id\n",
    "HAVING COUNT(*)=1"
   ]
  },
  {
   "cell_type": "code",
   "execution_count": null,
   "metadata": {
    "vscode": {
     "languageId": "sql"
    }
   },
   "outputs": [],
   "source": [
    "-- 610. 判断三角形\n",
    "-- https://leetcode.cn/problems/triangle-judgement/description/?envType=study-plan-v2&envId=sql-free-50\n",
    "\n",
    "SELECT x,y,z,case when\n",
    "x+y>z AND y+z>x AND x+z>y\n",
    "THEN 'Yes'\n",
    "ELSE 'No'\n",
    "end triangle\n",
    "FROM Triangle"
   ]
  },
  {
   "cell_type": "code",
   "execution_count": null,
   "metadata": {
    "vscode": {
     "languageId": "sql"
    }
   },
   "outputs": [],
   "source": [
    "-- 180. 连续出现的数字\n",
    "-- https://leetcode.cn/problems/consecutive-numbers/description/?envType=study-plan-v2&envId=sql-free-50\n",
    "\n",
    "SELECT DISTINCT A.num ConsecutiveNums\n",
    "FROM Logs A, Logs B, Logs C\n",
    "WHERE A.id = B.id-1 AND B.id = C.id-1\n",
    "AND A.num = B.num AND B.num = C.num"
   ]
  },
  {
   "cell_type": "code",
   "execution_count": null,
   "metadata": {
    "vscode": {
     "languageId": "sql"
    }
   },
   "outputs": [],
   "source": [
    "-- 1164. 指定日期的产品价格\n",
    "-- https://leetcode.cn/problems/product-price-at-a-given-date/description/?envType=study-plan-v2&envId=sql-free-50\n",
    "\n",
    "-- 如果产品没有价格，说明没有修改过，设置为 10\n",
    "select p1.product_id, ifnull(p2.new_price, 10) as price\n",
    "from (\n",
    "    select distinct product_id\n",
    "    from products\n",
    ") as p1 -- 所有的产品\n",
    "left join (\n",
    "    select product_id, new_price \n",
    "    from products\n",
    "    where (product_id, change_date) in (\n",
    "        select product_id, max(change_date)\n",
    "        from products\n",
    "        where change_date <= '2019-08-16'\n",
    "        group by product_id\n",
    "    )\n",
    ") as p2 -- 在 2019-08-16 之前有过修改的产品和最新的价格\n",
    "on p1.product_id = p2.product_id"
   ]
  },
  {
   "cell_type": "code",
   "execution_count": null,
   "metadata": {
    "vscode": {
     "languageId": "sql"
    }
   },
   "outputs": [],
   "source": [
    "-- 1204. 最后一个能进入巴士的人\n",
    "-- https://leetcode.cn/problems/last-person-to-fit-in-the-bus/description/?envType=study-plan-v2&envId=sql-free-50\n",
    "\n",
    "-- 直到当前人的重量的总和\n",
    "SELECT a.person_name\n",
    "FROM Queue a, Queue b\n",
    "WHERE a.turn >= b.turn\n",
    "GROUP BY a.person_id HAVING SUM(b.weight) <= 1000\n",
    "ORDER BY a.turn DESC\n",
    "LIMIT 1"
   ]
  },
  {
   "cell_type": "code",
   "execution_count": null,
   "metadata": {
    "vscode": {
     "languageId": "sql"
    }
   },
   "outputs": [],
   "source": [
    "-- 1907. 按分类统计薪水\n",
    "-- https://leetcode.cn/problems/count-salary-categories/?envType=study-plan-v2&envId=sql-free-50\n",
    "\n",
    "-- CASE\n",
    "--     WHEN condition1 THEN result1\n",
    "--     WHEN condition2 THEN result2\n",
    "--     ...\n",
    "--     ELSE resultN\n",
    "-- END\n",
    "SELECT \n",
    "    'Low Salary' AS category,\n",
    "    SUM(CASE WHEN income < 20000 THEN 1 ELSE 0 END) AS accounts_count\n",
    "FROM \n",
    "    Accounts\n",
    "    \n",
    "UNION\n",
    "SELECT  \n",
    "    'Average Salary' category,\n",
    "    SUM(CASE WHEN income >= 20000 AND income <= 50000 THEN 1 ELSE 0 END) \n",
    "    AS accounts_count\n",
    "FROM \n",
    "    Accounts\n",
    "\n",
    "UNION\n",
    "SELECT \n",
    "    'High Salary' category,\n",
    "    SUM(CASE WHEN income > 50000 THEN 1 ELSE 0 END) AS accounts_count\n",
    "FROM \n",
    "    Accounts"
   ]
  },
  {
   "cell_type": "code",
   "execution_count": null,
   "metadata": {
    "vscode": {
     "languageId": "sql"
    }
   },
   "outputs": [],
   "source": [
    "-- 1978. 上级经理已离职的公司员工\n",
    "-- https://leetcode.cn/problems/employees-whose-manager-left-the-company/description/?envType=study-plan-v2&envId=sql-free-50\n",
    "\n",
    "SELECT employee_id\n",
    "FROM Employees\n",
    "WHERE salary<30000\n",
    "AND manager_id NOT IN (\n",
    "    SELECT employee_id\n",
    "    FROM Employees\n",
    ")\n",
    "ORDER BY employee_id"
   ]
  }
 ],
 "metadata": {
  "language_info": {
   "name": "python"
  }
 },
 "nbformat": 4,
 "nbformat_minor": 2
}
