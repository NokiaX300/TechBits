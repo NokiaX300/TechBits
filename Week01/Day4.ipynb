{
 "cells": [
  {
   "cell_type": "code",
   "execution_count": null,
   "metadata": {
    "vscode": {
     "languageId": "sql"
    }
   },
   "outputs": [],
   "source": [
    "-- 577. 员工奖金\n",
    "-- https://leetcode.cn/problems/employee-bonus/description/?envType=study-plan-v2&envId=sql-free-50\n",
    "\n",
    "SELECT A.name, B.bonus\n",
    "FROM Employee A LEFT JOIN Bonus B\n",
    "ON A.empId = B.empId\n",
    "WHERE B.bonus<1000 OR B.bonus IS NULL"
   ]
  },
  {
   "cell_type": "code",
   "execution_count": null,
   "metadata": {
    "vscode": {
     "languageId": "sql"
    }
   },
   "outputs": [],
   "source": [
    "-- 1280. 学生们参加各科测试的次数\n",
    "-- https://leetcode.cn/problems/students-and-examinations/description/?envType=study-plan-v2&envId=sql-free-50\n",
    "\n",
    "-- join等价于inner join，不用关联条件的join等价于cross join\n",
    "SELECT\n",
    "    s.student_id,\n",
    "    s.student_name,\n",
    "    su.subject_name,\n",
    "   COUNT(e.subject_name) AS attended_exams\n",
    "FROM\n",
    "    Students AS s\n",
    "JOIN\n",
    "    Subjects AS su\n",
    "LEFT JOIN\n",
    "    Examinations AS e\n",
    "ON\n",
    "    e.student_id = s.student_id\n",
    "AND\n",
    "    e.subject_name = su.subject_name\n",
    "GROUP BY\n",
    "    s.student_id,\n",
    "    su.subject_name\n",
    "ORDER BY\n",
    "    s.student_id,\n",
    "    su.subject_name"
   ]
  },
  {
   "cell_type": "code",
   "execution_count": null,
   "metadata": {
    "vscode": {
     "languageId": "sql"
    }
   },
   "outputs": [],
   "source": [
    "-- 570. 至少有5名直接下属的经理\n",
    "-- https://leetcode.cn/problems/managers-with-at-least-5-direct-reports/?envType=study-plan-v2&envId=sql-free-50\n",
    "\n",
    "SELECT A.name\n",
    "FROM Employee A JOIN Employee B\n",
    "ON A.id = B.managerId\n",
    "GROUP BY A.id\n",
    "HAVING COUNT(B.id)>=5"
   ]
  },
  {
   "cell_type": "code",
   "execution_count": null,
   "metadata": {
    "vscode": {
     "languageId": "sql"
    }
   },
   "outputs": [],
   "source": [
    "-- 1934. 确认率\n",
    "-- https://leetcode.cn/problems/confirmation-rate/?envType=study-plan-v2&envId=sql-free-50\n",
    "\n",
    "-- 使用 IFNULL 把 NULL 值转换为0\n",
    "-- 学习 AVG 的用法\n",
    "SELECT\n",
    "    s.user_id,\n",
    "    ROUND(IFNULL(AVG(c.action='confirmed'), 0), 2) AS confirmation_rate\n",
    "FROM\n",
    "    Signups AS s\n",
    "LEFT JOIN\n",
    "    Confirmations AS c\n",
    "ON\n",
    "    s.user_id = c.user_id\n",
    "GROUP BY\n",
    "    s.user_id"
   ]
  },
  {
   "cell_type": "code",
   "execution_count": null,
   "metadata": {
    "vscode": {
     "languageId": "sql"
    }
   },
   "outputs": [],
   "source": [
    "-- 620. 有趣的电影\n",
    "-- https://leetcode.cn/problems/not-boring-movies/?envType=study-plan-v2&envId=sql-free-50\n",
    "\n",
    "-- 注意是 id%2=1\n",
    "SELECT id, movie, description, rating\n",
    "FROM cinema\n",
    "WHERE description != 'boring' AND id%2=1\n",
    "ORDER BY rating DESC"
   ]
  },
  {
   "cell_type": "code",
   "execution_count": null,
   "metadata": {
    "vscode": {
     "languageId": "sql"
    }
   },
   "outputs": [],
   "source": [
    "-- 1251. 平均售价\n",
    "-- https://leetcode.cn/problems/average-selling-price/?envType=study-plan-v2&envId=sql-free-50\n",
    "\n",
    "SELECT A.product_id, ROUND(IFNULL(SUM(units*price)/SUM(units), 0) ,2) average_price\n",
    "FROM Prices A LEFT JOIN UnitsSold B\n",
    "ON A.product_id = B.product_id\n",
    "WHERE B.purchase_date BETWEEN A.start_date AND end_date OR B.product_id IS NULL\n",
    "GROUP BY A.product_id"
   ]
  },
  {
   "cell_type": "code",
   "execution_count": null,
   "metadata": {
    "vscode": {
     "languageId": "sql"
    }
   },
   "outputs": [],
   "source": [
    "-- 1075. 项目员工 I\n",
    "-- https://leetcode.cn/problems/project-employees-i/description/?envType=study-plan-v2&envId=sql-free-50\n",
    "\n",
    "SELECT A.project_id, ROUND(AVG(experience_years),2) average_years\n",
    "FROM Project A LEFT JOIN Employee B\n",
    "ON A.employee_id = B.employee_id\n",
    "GROUP BY A.project_id"
   ]
  },
  {
   "cell_type": "code",
   "execution_count": null,
   "metadata": {
    "vscode": {
     "languageId": "sql"
    }
   },
   "outputs": [],
   "source": [
    "-- 1633. 各赛事的用户注册率\n",
    "-- https://leetcode.cn/problems/percentage-of-users-attended-a-contest/description/?envType=study-plan-v2&envId=sql-free-50\n",
    "\n",
    "-- 注意分母写法\n",
    "-- 分子代表根据contest_id分组后每组中user_id个数\n",
    "-- 分母代表Users表中user_id个数\n",
    "SELECT\n",
    "    r.contest_id,\n",
    "    ROUND(COUNT(r.user_id)/(SELECT COUNT(*) FROM Users) * 100,2) percentage\n",
    "FROM\n",
    "    Users AS u \n",
    "RIGHT JOIN\n",
    "    Register AS r \n",
    "ON\n",
    "    u.user_id = r.user_id\n",
    "GROUP BY\n",
    "    r.contest_id\n",
    "ORDER BY\n",
    "    percentage DESC,\n",
    "    contest_id ASC"
   ]
  },
  {
   "cell_type": "code",
   "execution_count": null,
   "metadata": {
    "vscode": {
     "languageId": "sql"
    }
   },
   "outputs": [],
   "source": [
    "-- 1211. 查询结果的质量和占比\n",
    "-- https://leetcode.cn/problems/queries-quality-and-percentage/description/?envType=study-plan-v2&envId=sql-free-50\n",
    "\n",
    "-- SUM(rating < 3) / COUNT(1)\n",
    "SELECT\n",
    "query_name,\n",
    "ROUND(AVG(rating/position),2) quality,\n",
    "ROUND(100*AVG(rating<3),2) poor_query_percentage\n",
    "FROM Queries\n",
    "GROUP BY query_name\n",
    "HAVING query_name IS NOT NULL"
   ]
  },
  {
   "cell_type": "code",
   "execution_count": null,
   "metadata": {
    "vscode": {
     "languageId": "sql"
    }
   },
   "outputs": [],
   "source": [
    "-- 1193. 每月交易 I\n",
    "-- https://leetcode.cn/problems/monthly-transactions-i/description/?envType=study-plan-v2&envId=sql-free-50\n",
    "\n",
    "-- left(trans_date,7)\n",
    "SELECT \n",
    "    DATE_FORMAT(trans_date, '%Y-%m') month,\n",
    "    country,\n",
    "    COUNT(state) trans_count,\n",
    "    SUM(IF(state = 'approved', 1, 0)) approved_count,\n",
    "    SUM(amount) trans_total_amount,\n",
    "    SUM(IF(state = 'approved', amount, 0)) approved_total_amount\n",
    "FROM \n",
    "    Transactions\n",
    "GROUP BY\n",
    "    month, country;"
   ]
  }
 ],
 "metadata": {
  "language_info": {
   "name": "python"
  }
 },
 "nbformat": 4,
 "nbformat_minor": 2
}
