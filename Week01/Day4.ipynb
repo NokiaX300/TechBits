{
 "cells": [
  {
   "cell_type": "code",
   "execution_count": null,
   "metadata": {
    "vscode": {
     "languageId": "sql"
    }
   },
   "outputs": [],
   "source": [
    "-- 577. 员工奖金\n",
    "-- https://leetcode.cn/problems/employee-bonus/description/?envType=study-plan-v2&envId=sql-free-50\n",
    "\n",
    "SELECT A.name, B.bonus\n",
    "FROM Employee A LEFT JOIN Bonus B\n",
    "ON A.empId = B.empId\n",
    "WHERE B.bonus<1000 OR B.bonus IS NULL"
   ]
  },
  {
   "cell_type": "code",
   "execution_count": null,
   "metadata": {
    "vscode": {
     "languageId": "sql"
    }
   },
   "outputs": [],
   "source": [
    "-- 1280. 学生们参加各科测试的次数\n",
    "-- https://leetcode.cn/problems/students-and-examinations/description/?envType=study-plan-v2&envId=sql-free-50\n",
    "\n",
    "-- join等价于inner join，不用关联条件的join等价于cross join\n",
    "SELECT\n",
    "    s.student_id,\n",
    "    s.student_name,\n",
    "    su.subject_name,\n",
    "   COUNT(e.subject_name) AS attended_exams\n",
    "FROM\n",
    "    Students AS s\n",
    "JOIN\n",
    "    Subjects AS su\n",
    "LEFT JOIN\n",
    "    Examinations AS e\n",
    "ON\n",
    "    e.student_id = s.student_id\n",
    "AND\n",
    "    e.subject_name = su.subject_name\n",
    "GROUP BY\n",
    "    s.student_id,\n",
    "    su.subject_name\n",
    "ORDER BY\n",
    "    s.student_id,\n",
    "    su.subject_name"
   ]
  }
 ],
 "metadata": {
  "language_info": {
   "name": "python"
  }
 },
 "nbformat": 4,
 "nbformat_minor": 2
}
