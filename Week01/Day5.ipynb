{
 "cells": [
  {
   "cell_type": "code",
   "execution_count": null,
   "metadata": {
    "vscode": {
     "languageId": "sql"
    }
   },
   "outputs": [],
   "source": [
    "-- 1174. 即时食物配送 II\n",
    "-- https://leetcode.cn/problems/immediate-food-delivery-ii/?envType=study-plan-v2&envId=sql-free-50\n",
    "\n",
    "SELECT ROUND(COUNT(a.customer_id)/COUNT(b.customer_id)*100,2) 'immediate_percentage'\n",
    "FROM (\n",
    "    SELECT customer_id,MIN(order_date) AS 'fir_ins_o'\n",
    "    FROM Delivery\n",
    "    WHERE order_date = customer_pref_delivery_date\n",
    "    GROUP BY customer_id\n",
    ")a RIGHT JOIN (\n",
    "    SELECT customer_id,MIN(order_date) AS 'fir_o'\n",
    "    FROM Delivery\n",
    "    GROUP BY customer_id\n",
    ")b ON a.customer_id = b.customer_id AND a.fir_ins_o = b.fir_o"
   ]
  }
 ],
 "metadata": {
  "language_info": {
   "name": "python"
  }
 },
 "nbformat": 4,
 "nbformat_minor": 2
}
