{
 "cells": [
  {
   "cell_type": "code",
   "execution_count": null,
   "metadata": {
    "vscode": {
     "languageId": "sql"
    }
   },
   "outputs": [],
   "source": [
    "-- 1174. 即时食物配送 II\n",
    "-- https://leetcode.cn/problems/immediate-food-delivery-ii/?envType=study-plan-v2&envId=sql-free-50\n",
    "\n",
    "SELECT ROUND(COUNT(a.customer_id)/COUNT(b.customer_id)*100,2) 'immediate_percentage'\n",
    "FROM (\n",
    "    SELECT customer_id,MIN(order_date) AS 'fir_ins_o'\n",
    "    FROM Delivery\n",
    "    WHERE order_date = customer_pref_delivery_date\n",
    "    GROUP BY customer_id\n",
    ")a RIGHT JOIN (\n",
    "    SELECT customer_id,MIN(order_date) AS 'fir_o'\n",
    "    FROM Delivery\n",
    "    GROUP BY customer_id\n",
    ")b ON a.customer_id = b.customer_id AND a.fir_ins_o = b.fir_o"
   ]
  },
  {
   "cell_type": "code",
   "execution_count": null,
   "metadata": {
    "vscode": {
     "languageId": "sql"
    }
   },
   "outputs": [],
   "source": [
    "-- 511. 游戏玩法分析 I\n",
    "-- https://leetcode.cn/problems/game-play-analysis-i/description/\n",
    "\n",
    "-- 所有玩家首次登录的时间及ID\n",
    "SELECT player_id, MIN(event_date) first_login\n",
    "FROM Activity\n",
    "GROUP BY player_id"
   ]
  },
  {
   "cell_type": "code",
   "execution_count": null,
   "metadata": {
    "vscode": {
     "languageId": "sql"
    }
   },
   "outputs": [],
   "source": [
    "-- 512. 游戏玩法分析 II\n",
    "-- https://leetcode.cn/problems/game-play-analysis-ii/description/\n",
    "\n",
    "-- 首次登陆之后第二天也登录的玩家数量\n",
    "SELECT COUNT(*) replay_num\n",
    "FROM Activity a\n",
    "JOIN (\n",
    "    SELECT player_id, MIN(event_date) event_date\n",
    "    FROM Activity\n",
    "    GROUP BY player_id\n",
    ") b ON a.player_id=b.player_id AND DATEDIFF(a.event_date,b.event_date)=1"
   ]
  },
  {
   "cell_type": "code",
   "execution_count": null,
   "metadata": {
    "vscode": {
     "languageId": "sql"
    }
   },
   "outputs": [],
   "source": [
    "-- 534. 游戏玩法分析 III\n",
    "-- https://leetcode.cn/problems/game-play-analysis-iii/\n",
    "\n",
    "-- 玩家总数\n",
    "SELECT COUNT(DISTINCT player_id) total_num\n",
    "FROM Activity"
   ]
  },
  {
   "cell_type": "code",
   "execution_count": null,
   "metadata": {
    "vscode": {
     "languageId": "sql"
    }
   },
   "outputs": [],
   "source": [
    "-- 550. 游戏玩法分析 IV\n",
    "-- https://leetcode.cn/problems/game-play-analysis-iv/?envType=study-plan-v2&envId=sql-free-50\n",
    "\n",
    "SELECT ROUND(replay_num/total_num, 2) fraction\n",
    "FROM (\n",
    "    SELECT COUNT(*) replay_num\n",
    "    FROM Activity a\n",
    "    JOIN (\n",
    "        SELECT player_id, MIN(event_date) event_date\n",
    "        FROM Activity\n",
    "        GROUP BY player_id\n",
    "    ) b ON a.player_id=b.player_id AND DATEDIFF(a.event_date,b.event_date)=1\n",
    ") re JOIN (\n",
    "    SELECT COUNT(DISTINCT player_id) total_num\n",
    "    FROM Activity\n",
    ") tot"
   ]
  },
  {
   "cell_type": "code",
   "execution_count": null,
   "metadata": {
    "vscode": {
     "languageId": "sql"
    }
   },
   "outputs": [],
   "source": [
    "-- 2356. 每位教师所教授的科目种类的数量\n",
    "-- https://leetcode.cn/problems/number-of-unique-subjects-taught-by-each-teacher/description/?envType=study-plan-v2&envId=sql-free-50\n",
    "\n",
    "SELECT teacher_id, COUNT(DISTINCT(subject_id)) cnt\n",
    "FROM Teacher\n",
    "GROUP BY teacher_id"
   ]
  },
  {
   "cell_type": "code",
   "execution_count": null,
   "metadata": {
    "vscode": {
     "languageId": "sql"
    }
   },
   "outputs": [],
   "source": [
    "-- 1141. 查询近30天活跃用户数\n",
    "-- https://leetcode.cn/problems/user-activity-for-the-past-30-days-i/description/?envType=study-plan-v2&envId=sql-free-50\n",
    "\n",
    "-- 首选 WHERE\n",
    "SELECT activity_date day, COUNT(DISTINCT(user_id)) active_users\n",
    "FROM Activity\n",
    "GROUP BY activity_date\n",
    "HAVING activity_date BETWEEN '2019-06-28' and '2019-07-27'"
   ]
  },
  {
   "cell_type": "code",
   "execution_count": null,
   "metadata": {
    "vscode": {
     "languageId": "sql"
    }
   },
   "outputs": [],
   "source": [
    "-- 1084. 销售分析III\n",
    "-- https://leetcode.cn/problems/sales-analysis-iii/?envType=study-plan-v2&envId=sql-free-50\n",
    "\n",
    "-- 注意先分组再找范围\n",
    "SELECT A.product_id, A.product_name\n",
    "FROM Product A RIGHT JOIN Sales B\n",
    "ON A.product_id = B.product_id\n",
    "GROUP BY B.product_id\n",
    "HAVING MIN(sale_date) >= '2019-01-01' AND MAX(sale_date) <= '2019-03-31'"
   ]
  },
  {
   "cell_type": "code",
   "execution_count": null,
   "metadata": {
    "vscode": {
     "languageId": "sql"
    }
   },
   "outputs": [],
   "source": [
    "-- 596. 超过 5 名学生的课\n",
    "-- https://leetcode.cn/problems/classes-more-than-5-students/description/?envType=study-plan-v2&envId=sql-free-50\n",
    "\n",
    "-- SELECT A.class\n",
    "-- FROM Courses A JOIN Courses B\n",
    "-- ON A.class = B.class\n",
    "-- GROUP BY A.class\n",
    "-- HAVING COUNT(DISTINCT(B.student))>=5\n",
    "SELECT class\n",
    "FROM Courses\n",
    "GROUP BY class\n",
    "HAVING COUNT(*)>=5"
   ]
  },
  {
   "cell_type": "code",
   "execution_count": null,
   "metadata": {
    "vscode": {
     "languageId": "sql"
    }
   },
   "outputs": [],
   "source": [
    "-- 1729. 求关注者的数量\n",
    "-- https://leetcode.cn/problems/find-followers-count/?envType=study-plan-v2&envId=sql-free-50\n",
    "\n",
    "-- COUNT(*)：计数所有的行，不管行中是否有空值。\n",
    "-- COUNT(B.user_id)：只计数 B.user_id 非空的行。\n",
    "SELECT user_id, COUNT(follower_id) followers_count\n",
    "FROM Followers\n",
    "GROUP BY user_id\n",
    "ORDER BY user_id"
   ]
  }
 ],
 "metadata": {
  "language_info": {
   "name": "python"
  }
 },
 "nbformat": 4,
 "nbformat_minor": 2
}
