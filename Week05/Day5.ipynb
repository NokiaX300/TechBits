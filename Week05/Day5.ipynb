{
 "cells": [
  {
   "cell_type": "markdown",
   "metadata": {},
   "source": [
    "面向对象思想"
   ]
  },
  {
   "cell_type": "code",
   "execution_count": null,
   "metadata": {
    "vscode": {
     "languageId": "plaintext"
    }
   },
   "outputs": [],
   "source": [
    "三大特性\n",
    "\n",
    "封装\n",
    "用户无需关心对象内部的细节，但可以通过对象对外提供的接口来访问该对象。\n",
    "\n",
    "继承\n",
    "继承应该遵循里氏替换原则，子类对象必须能够替换掉所有父类对象。\n",
    "\n",
    "多态\n",
    "允许不同的对象在相同的接口下展现不同的行为。\n",
    "    多态分为编译时多态和运行时多态：\n",
    "    编译时多态主要指方法的重载\n",
    "    运行时多态指程序中定义的对象引用所指向的具体类型在运行期间才确定"
   ]
  }
 ],
 "metadata": {
  "language_info": {
   "name": "python"
  }
 },
 "nbformat": 4,
 "nbformat_minor": 2
}
