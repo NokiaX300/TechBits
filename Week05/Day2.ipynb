{
 "cells": [
  {
   "cell_type": "markdown",
   "metadata": {},
   "source": [
    "分布式"
   ]
  },
  {
   "cell_type": "code",
   "execution_count": null,
   "metadata": {
    "vscode": {
     "languageId": "plaintext"
    }
   },
   "outputs": [],
   "source": [
    "分布式锁\n",
    "\n",
    "在分布式场景下，需要同步的进程可能位于不同的节点上，那么就需要使用分布式锁。\n",
    "获得锁时向表中插入一条记录，释放锁时删除这条记录。\n",
    "唯一索引可以保证该记录只被插入一次，那么就可以用这个记录是否存在来判断是否处于锁定状态。"
   ]
  },
  {
   "cell_type": "code",
   "execution_count": null,
   "metadata": {
    "vscode": {
     "languageId": "plaintext"
    }
   },
   "outputs": [],
   "source": [
    "分布式事务\n",
    "\n",
    "分布式锁和分布式事务区别:\n",
    "锁问题的关键在于进程操作的互斥关系，例如多个进程同时修改账户的余额，如果没有互斥关系则会导致该账户的余额不正确。\n",
    "而事务问题的关键则在于事务涉及的一系列操作需要满足 ACID 特性，例如要满足原子性操作则需要这些操作要么都执行，要么都不执行。"
   ]
  },
  {
   "cell_type": "code",
   "execution_count": null,
   "metadata": {
    "vscode": {
     "languageId": "plaintext"
    }
   },
   "outputs": [],
   "source": [
    "两阶段提交（Two-phase Commit，2PC），通过引入协调者（Coordinator）来协调参与者的行为\n",
    "任意一个节点失败就会导致整个事务失败，没有完善的容错机制\n",
    "\n",
    "本地消息表与业务数据表处于同一个数据库中，这样就能利用本地事务来保证在对这两个表的操作满足事务特性，并且使用了消息队列来保证最终一致性"
   ]
  },
  {
   "cell_type": "code",
   "execution_count": null,
   "metadata": {
    "vscode": {
     "languageId": "plaintext"
    }
   },
   "outputs": [],
   "source": [
    "CAP\n",
    "\n",
    "分布式系统不可能同时满足一致性（C：Consistency）、可用性（A：Availability）和分区容忍性（P：Partition Tolerance），最多只能同时满足其中两项。\n",
    "\n",
    "为了保证一致性（CP），不能访问未同步完成的节点，也就失去了部分可用性；\n",
    "为了保证可用性（AP），允许读取所有节点的数据，但是数据可能不一致。"
   ]
  }
 ],
 "metadata": {
  "language_info": {
   "name": "python"
  }
 },
 "nbformat": 4,
 "nbformat_minor": 2
}
