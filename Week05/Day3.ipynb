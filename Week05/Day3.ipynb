{
 "cells": [
  {
   "cell_type": "markdown",
   "metadata": {},
   "source": [
    "集群"
   ]
  },
  {
   "cell_type": "code",
   "execution_count": null,
   "metadata": {
    "vscode": {
     "languageId": "plaintext"
    }
   },
   "outputs": [],
   "source": [
    "负载均衡器可以用来实现高可用以及伸缩性\n",
    "\n",
    "负载均衡器运行过程包含两个部分：\n",
    "    根据负载均衡算法得到转发的节点；\n",
    "    进行转发。"
   ]
  },
  {
   "cell_type": "code",
   "execution_count": null,
   "metadata": {
    "vscode": {
     "languageId": "plaintext"
    }
   },
   "outputs": [],
   "source": [
    "负载均衡算法\n",
    "\n",
    "轮询\n",
    "加权轮询\n",
    "最少连接\n",
    "加权最少连接\n",
    "随机算法\n",
    "源地址哈希法"
   ]
  },
  {
   "cell_type": "code",
   "execution_count": null,
   "metadata": {
    "vscode": {
     "languageId": "plaintext"
    }
   },
   "outputs": [],
   "source": [
    "Sticky Session\n",
    "需要配置负载均衡器，使得一个用户的所有请求都路由到同一个服务器，这样就可以把用户的 Session 存放在该服务器中。\n",
    "缺点：当服务器宕机时，将丢失该服务器上的所有 Session。\n",
    "\n",
    "Session Replication\n",
    "在服务器之间进行 Session 同步操作，每个服务器都有所有用户的 Session 信息，因此用户可以向任何一个服务器进行请求。\n",
    "\n",
    "Session Server\n",
    "使用一个单独的服务器存储 Session 数据"
   ]
  }
 ],
 "metadata": {
  "language_info": {
   "name": "python"
  }
 },
 "nbformat": 4,
 "nbformat_minor": 2
}
