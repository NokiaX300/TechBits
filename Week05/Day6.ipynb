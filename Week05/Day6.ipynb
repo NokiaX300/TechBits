{
 "cells": [
  {
   "cell_type": "markdown",
   "metadata": {},
   "source": [
    "设计模式"
   ]
  },
  {
   "cell_type": "code",
   "execution_count": null,
   "metadata": {
    "vscode": {
     "languageId": "plaintext"
    }
   },
   "outputs": [],
   "source": [
    "可以分为三大类：创建型模式（Creational Patterns）、结构型模式（Structural Patterns）、行为型模式（Behavioral Patterns）"
   ]
  },
  {
   "cell_type": "code",
   "execution_count": null,
   "metadata": {
    "vscode": {
     "languageId": "plaintext"
    }
   },
   "outputs": [],
   "source": [
    "创建型模式"
   ]
  },
  {
   "cell_type": "code",
   "execution_count": null,
   "metadata": {
    "vscode": {
     "languageId": "plaintext"
    }
   },
   "outputs": [],
   "source": [
    "单例\n",
    "确保一个类只有一个实例，并提供该实例的全局访问点。\n",
    "简单工厂\n",
    "在创建一个对象时不向客户暴露内部细节，并提供一个创建对象的通用接口。\n",
    "工厂方法\n",
    "定义了一个创建对象的接口，但由子类决定要实例化哪个类。工厂方法把实例化操作推迟到子类。\n",
    "抽象工厂\n",
    "提供一个接口，用于创建相关的对象家族。\n",
    "建造者\n",
    "封装一个对象的构造过程，并允许按步骤构造。\n",
    "原型模式\n",
    "使用原型实例指定要创建对象的类型，通过复制这个原型来创建新对象。"
   ]
  },
  {
   "cell_type": "code",
   "execution_count": null,
   "metadata": {
    "vscode": {
     "languageId": "plaintext"
    }
   },
   "outputs": [],
   "source": [
    "结构型模式"
   ]
  },
  {
   "cell_type": "code",
   "execution_count": null,
   "metadata": {
    "vscode": {
     "languageId": "plaintext"
    }
   },
   "outputs": [],
   "source": [
    "适配器\n",
    "把一个类接口转换成另一个用户需要的接口。\n",
    "桥接\n",
    "将抽象与实现分离开来，使它们可以独立变化。\n",
    "组合\n",
    "将对象组合成树形结构来表示“整体/部分”层次关系，允许用户以相同的方式处理单独对象和组合对象。\n",
    "装饰\n",
    "为对象动态添加功能。\n",
    "外观\n",
    "提供了一个统一的接口，用来访问子系统中的一群接口，从而让子系统更容易使用。\n",
    "享元\n",
    "利用共享的方式来支持大量细粒度的对象，这些对象一部分内部状态是相同的。\n",
    "代理\n",
    "控制对其它对象的访问。"
   ]
  },
  {
   "cell_type": "code",
   "execution_count": null,
   "metadata": {
    "vscode": {
     "languageId": "plaintext"
    }
   },
   "outputs": [],
   "source": [
    "行为型模式"
   ]
  },
  {
   "cell_type": "code",
   "execution_count": null,
   "metadata": {
    "vscode": {
     "languageId": "plaintext"
    }
   },
   "outputs": [],
   "source": [
    "责任链\n",
    "将这些对象连成一条链，并沿着这条链发送该请求，直到有一个对象处理它为止。\n",
    "迭代器\n",
    "提供一种顺序访问聚合对象元素的方法，并且不暴露聚合对象的内部表示。\n",
    "备忘录\n",
    "在不违反封装的情况下获得对象的内部状态，从而在需要时可以将对象恢复到最初状态。\n",
    "观察者\n",
    "定义对象之间的一对多依赖，当一个对象状态改变时，它的所有依赖都会收到通知并且自动更新状态。\n",
    "..."
   ]
  }
 ],
 "metadata": {
  "language_info": {
   "name": "python"
  }
 },
 "nbformat": 4,
 "nbformat_minor": 2
}
