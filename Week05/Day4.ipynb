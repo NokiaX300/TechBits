{
 "cells": [
  {
   "cell_type": "markdown",
   "metadata": {},
   "source": [
    "缓存"
   ]
  },
  {
   "cell_type": "code",
   "execution_count": null,
   "metadata": {
    "vscode": {
     "languageId": "plaintext"
    }
   },
   "outputs": [],
   "source": [
    "当某个请求能够通过访问缓存而得到响应时，称为缓存命中。\n",
    "\n",
    "缓存命中率越高，缓存的利用率也就越高。"
   ]
  },
  {
   "cell_type": "code",
   "execution_count": null,
   "metadata": {
    "vscode": {
     "languageId": "plaintext"
    }
   },
   "outputs": [],
   "source": [
    "缓存通常位于内存中，内存的空间通常比磁盘空间小的多，因此缓存的最大空间不可能非常大\n",
    "\n",
    "FIFO\n",
    "LRU\n",
    "LFU"
   ]
  },
  {
   "cell_type": "code",
   "execution_count": null,
   "metadata": {
    "vscode": {
     "languageId": "plaintext"
    }
   },
   "outputs": [],
   "source": [
    "CDN\n",
    "\n",
    "内容分发网络（Content distribution network，CDN）是一种互连的网络系统，\n",
    "它利用更靠近用户的服务器从而更快更可靠地将 HTML、CSS、JavaScript、音乐、图片、视频等静态资源分发给用户。"
   ]
  },
  {
   "cell_type": "code",
   "execution_count": null,
   "metadata": {
    "vscode": {
     "languageId": "plaintext"
    }
   },
   "outputs": [],
   "source": [
    "缓存穿透\n",
    "\n",
    "通常情况下，系统会先检查缓存中是否有所需数据，如果没有，再去数据库查询。\n",
    "而缓存穿透的发生，是因为查询的数据不在缓存和数据库中，导致系统每次都要向数据库请求，缓存根本无法发挥作用，严重影响性能。\n",
    "    对这些不存在的数据缓存一个空数据"
   ]
  },
  {
   "cell_type": "code",
   "execution_count": null,
   "metadata": {
    "vscode": {
     "languageId": "plaintext"
    }
   },
   "outputs": [],
   "source": [
    "缓存雪崩\n",
    "\n",
    "如果大量缓存的数据在同一时间点失效，所有请求会瞬间涌向数据库\n",
    "    合理设置缓存过期时间\n",
    "    分布式缓存"
   ]
  },
  {
   "cell_type": "code",
   "execution_count": null,
   "metadata": {
    "vscode": {
     "languageId": "plaintext"
    }
   },
   "outputs": [],
   "source": [
    "缓存 “无底洞” 现象\n",
    "\n",
    "添加了大量缓存节点，但是性能不但没有好转反而下降了的现象\n",
    "    优化批量数据操作命令"
   ]
  },
  {
   "cell_type": "code",
   "execution_count": null,
   "metadata": {
    "vscode": {
     "languageId": "plaintext"
    }
   },
   "outputs": [],
   "source": [
    "哈希分布\n",
    "\n",
    "哈希分布就是将数据计算哈希值之后，按照哈希值分配到不同的节点上。\n",
    "例如有 N 个节点，数据的主键为 key，则将该数据分配的节点序号为：hash(key)%N"
   ]
  },
  {
   "cell_type": "code",
   "execution_count": null,
   "metadata": {
    "vscode": {
     "languageId": "plaintext"
    }
   },
   "outputs": [],
   "source": [
    "一致性哈希\n",
    "Distributed Hash Table（DHT） 是一种哈希分布方式，其目的是为了克服传统哈希分布在服务器节点数量变化时大量数据迁移的问题\n",
    "\n",
    "将哈希空间 [0, 2n-1] 看成一个哈希环，\n",
    "每个服务器节点都配置到哈希环上。\n",
    "每个数据对象通过哈希取模得到哈希值之后，存放到哈希环中顺时针方向第一个大于等于该哈希值的节点上。\n",
    "\n",
    "一致性哈希在增加或者删除节点时只会影响到哈希环中相邻的节点\n",
    "数据不均匀\n",
    "    解决方式是通过增加虚拟节点"
   ]
  }
 ],
 "metadata": {
  "language_info": {
   "name": "python"
  }
 },
 "nbformat": 4,
 "nbformat_minor": 2
}
