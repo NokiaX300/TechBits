{
 "cells": [
  {
   "cell_type": "markdown",
   "metadata": {},
   "source": [
    "数据分析师"
   ]
  },
  {
   "cell_type": "code",
   "execution_count": null,
   "metadata": {
    "vscode": {
     "languageId": "plaintext"
    }
   },
   "outputs": [],
   "source": [
    "Business analyst\n",
    "业务分析师离业务更近，是解释来自可视化效果的数据的专家\n",
    "\n",
    "Data analyst\n",
    "分析、清理和转换数据，构建模型，PowerBI\n",
    "\n",
    "Data engineer\n",
    "构建和管理数据平台\n",
    "\n",
    "Data scientist\n",
    "特征工程\n",
    "\n",
    "Database administrator\n",
    "Azure   SQL Server"
   ]
  },
  {
   "cell_type": "code",
   "execution_count": null,
   "metadata": {
    "vscode": {
     "languageId": "plaintext"
    }
   },
   "outputs": [],
   "source": [
    "Data Analyst： 专注于解释过去和现在的业务数据。\n",
    "Data Engineer： 确保数据的可用性和流动。\n",
    "Data Scientist： 开发预测模型，解决未来问题。"
   ]
  },
  {
   "cell_type": "code",
   "execution_count": null,
   "metadata": {
    "vscode": {
     "languageId": "plaintext"
    }
   },
   "outputs": [],
   "source": [
    "数据分析师\n",
    "\n",
    "准备：分析、清理和转换数据\n",
    "\n",
    "建模：\n",
    "    数据之间的关系是什么？\n",
    "    需要哪些计算或指标来支持分析？\n",
    "    如何组织数据以提高查询效率？\n",
    "\n",
    "可视化：作为数据分析师，应该花些时间来完全了解企业尝试解决的问题。 确定是否所有数据点都是必需的\n",
    "\n",
    "分析：\n",
    "    find insights, identify patterns and trends, predict outcomes, \n",
    "    and then communicate those insights in a way that everyone can understand"
   ]
  },
  {
   "cell_type": "code",
   "execution_count": null,
   "metadata": {
    "vscode": {
     "languageId": "plaintext"
    }
   },
   "outputs": [],
   "source": [
    "语义数据模型（Semantic Data Model）\n",
    "更关注表达数据的业务意义和语义关系\n",
    "强调对用户友好的数据表示方式"
   ]
  }
 ],
 "metadata": {
  "language_info": {
   "name": "python"
  }
 },
 "nbformat": 4,
 "nbformat_minor": 2
}
