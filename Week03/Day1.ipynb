{
 "cells": [
  {
   "cell_type": "code",
   "execution_count": null,
   "metadata": {},
   "outputs": [],
   "source": [
    "# GitHub & GitLab\n",
    "# 获得一个服务器地址并输入密码\n",
    "# 项目-代码-使用HTTP克隆\n",
    "# 在本地选定文件夹-右键OpenGitBash-git clone [复制的链接]\n",
    "# VSCode中打开到根目录的文件夹"
   ]
  },
  {
   "cell_type": "code",
   "execution_count": null,
   "metadata": {},
   "outputs": [],
   "source": [
    "# JSON 的常见用途\n",
    "# 系统用 JSON 来保存设置\n",
    "# Web 应用或移动端本地存储数据\n",
    "# 客户端与服务器通信\n",
    "\n",
    "# JSON 不支持注释"
   ]
  },
  {
   "cell_type": "code",
   "execution_count": null,
   "metadata": {},
   "outputs": [],
   "source": [
    "# WIN+X 可以打开磁盘管理\n",
    "# WIN+R 可以打开运行，再 cmd 打开 cmd"
   ]
  },
  {
   "cell_type": "code",
   "execution_count": null,
   "metadata": {
    "vscode": {
     "languageId": "powershell"
    }
   },
   "outputs": [],
   "source": [
    "# linux基本操作\n",
    "# pwd 查看当前目录\n",
    "# ls 列出目录内容\n",
    "# cd /path/to/directory 切换目录\n",
    "# cat file.txt 查看文件内容\n",
    "# ps 查看进程\n",
    "# Ctrl + C 终止当前命令\n",
    "# Tab 自动补全\n",
    "\n",
    "sudo apt update           # 更新软件源\n",
    "sudo apt install package  # 安装软件\n",
    "sudo apt remove package   # 删除软件"
   ]
  },
  {
   "cell_type": "code",
   "execution_count": null,
   "metadata": {},
   "outputs": [],
   "source": [
    "# Embedding 是一种将高维数据（如单词、句子、图像等）映射到低维空间的表示方法\n",
    "\n",
    "# 为什么需要 Embedding\n",
    "# 高维数据问题：原始数据（如文本或图像）通常是高维且稀疏的，直接处理会消耗大量资源\n",
    "# 机器学习兼容性：多数机器学习算法需要数值型输入，Embedding 可以将数据转换成模型可用的数值向量\n",
    "# 保留语义信息：Embedding 可以通过优化让语义相似的数据在低维空间中更接近"
   ]
  },
  {
   "cell_type": "code",
   "execution_count": null,
   "metadata": {},
   "outputs": [],
   "source": [
    "# 包含 __init__.py 文件的目录都被认为是一个Python包\n",
    "\n",
    "# utils/\n",
    "# ├── __init__.py\n",
    "# ├── add.py\n",
    "# ├── subtract.py\n",
    "\n",
    "# 在 __init__.py 中\n",
    "# from .add import add\n",
    "# from .subtract import subtract\n",
    "# 现在就可以 from utils import add, subtract\n",
    "\n",
    "# 如果没有 __init__.py 就只能 from utils.add import add"
   ]
  },
  {
   "cell_type": "code",
   "execution_count": null,
   "metadata": {},
   "outputs": [],
   "source": [
    "# 从零开始配置环境\n",
    "# 下载 VSCode\n",
    "# 下载 Anaconda\n",
    "\n",
    "# 安装 Anaconda 流程\n",
    "# https://blog.csdn.net/qq_44000789/article/details/142214660\n",
    "# 安装包时遇到只读怎么解决\n",
    "# https://blog.csdn.net/qq_57308836/article/details/143573672\n",
    "# Solving environment: / 卡住\n",
    "# 未能解决。但是新建虚拟环境中可以正常下载\n",
    "# 虚拟环境没有基础包\n",
    "# conda create -n your_env_name python=X.X anaconda\n",
    "# 最终解决方案：重装不改盘。完全按默认走"
   ]
  },
  {
   "cell_type": "code",
   "execution_count": null,
   "metadata": {},
   "outputs": [],
   "source": [
    "# conda 常用命令\n",
    "# conda create -n your_env_name python=X.X anaconda\n",
    "# conda activate env_name\n",
    "# conda remove --name env_name --all\n",
    "# conda env list\n",
    "# conda info\n",
    "# conda list\n",
    "# conda list pkgname\n",
    "# conda install package_name"
   ]
  },
  {
   "cell_type": "code",
   "execution_count": null,
   "metadata": {},
   "outputs": [],
   "source": [
    "# conda可以管理非python包，pip只能管理python包\n",
    "# conda安装的包是编译好的二进制文件，安装包文件过程中会自动安装依赖包\n",
    "# 不建议混用"
   ]
  },
  {
   "cell_type": "code",
   "execution_count": 1,
   "metadata": {},
   "outputs": [],
   "source": [
    "# 将 Hexo 与 GitHub Pages 集成可以让你轻松地将使用 Hexo 搭建的静态网站部署到 GitHub 上"
   ]
  }
 ],
 "metadata": {
  "kernelspec": {
   "display_name": "test",
   "language": "python",
   "name": "python3"
  },
  "language_info": {
   "codemirror_mode": {
    "name": "ipython",
    "version": 3
   },
   "file_extension": ".py",
   "mimetype": "text/x-python",
   "name": "python",
   "nbconvert_exporter": "python",
   "pygments_lexer": "ipython3",
   "version": "3.12.7"
  }
 },
 "nbformat": 4,
 "nbformat_minor": 2
}
