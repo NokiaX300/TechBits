{
 "cells": [
  {
   "cell_type": "code",
   "execution_count": 1,
   "metadata": {},
   "outputs": [],
   "source": [
    "# https://blog.csdn.net/cat_bayi/article/details/128725230"
   ]
  },
  {
   "cell_type": "code",
   "execution_count": null,
   "metadata": {},
   "outputs": [],
   "source": [
    "# 创建虚拟环境后一定注意是否进行了切换\n",
    "# 建议用 cmd 替换 powershell\n",
    "# 能更清晰地看到当前的虚拟环境"
   ]
  },
  {
   "cell_type": "code",
   "execution_count": null,
   "metadata": {
    "vscode": {
     "languageId": "powershell"
    }
   },
   "outputs": [],
   "source": [
    "# 当你从一个磁盘路径切换到另一个磁盘路径时，除了使用 cd 命令指定目录路径，还需要切换磁盘驱动器\n",
    "\n",
    "# 例如启动流程\n",
    "activate d2l\n",
    "D:\n",
    "cd D:\\Program\\d2l\\pytorch\n",
    "jupyter notebook"
   ]
  }
 ],
 "metadata": {
  "kernelspec": {
   "display_name": "test",
   "language": "python",
   "name": "python3"
  },
  "language_info": {
   "codemirror_mode": {
    "name": "ipython",
    "version": 3
   },
   "file_extension": ".py",
   "mimetype": "text/x-python",
   "name": "python",
   "nbconvert_exporter": "python",
   "pygments_lexer": "ipython3",
   "version": "3.12.7"
  }
 },
 "nbformat": 4,
 "nbformat_minor": 2
}
