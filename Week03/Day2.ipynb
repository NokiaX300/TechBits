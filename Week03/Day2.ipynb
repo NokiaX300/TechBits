{
 "cells": [
  {
   "cell_type": "code",
   "execution_count": 1,
   "metadata": {},
   "outputs": [],
   "source": [
    "# https://blog.csdn.net/cat_bayi/article/details/128725230"
   ]
  },
  {
   "cell_type": "code",
   "execution_count": null,
   "metadata": {},
   "outputs": [],
   "source": [
    "# 创建虚拟环境后一定注意是否进行了切换\n",
    "# 建议用 cmd 替换 powershell\n",
    "# 能更清晰地看到当前的虚拟环境"
   ]
  },
  {
   "cell_type": "code",
   "execution_count": null,
   "metadata": {
    "vscode": {
     "languageId": "powershell"
    }
   },
   "outputs": [],
   "source": [
    "# 当你从一个磁盘路径切换到另一个磁盘路径时，除了使用 cd 命令指定目录路径，还需要切换磁盘驱动器\n",
    "\n",
    "# 例如启动流程\n",
    "activate d2l\n",
    "D:\n",
    "cd D:\\Program\\d2l\\pytorch\n",
    "jupyter notebook"
   ]
  },
  {
   "cell_type": "code",
   "execution_count": null,
   "metadata": {},
   "outputs": [],
   "source": [
    "# 注意merge代表取交集，不是覆盖\n",
    "# 记得先fetch from all remotes"
   ]
  },
  {
   "cell_type": "code",
   "execution_count": null,
   "metadata": {},
   "outputs": [],
   "source": [
    "# linux中路径若有书名号或空格会自动加引号"
   ]
  },
  {
   "cell_type": "code",
   "execution_count": null,
   "metadata": {},
   "outputs": [],
   "source": [
    "# 网页F12打开开发者模式\n",
    "# 控制台\n",
    "# 网络（响应、负载）"
   ]
  },
  {
   "cell_type": "code",
   "execution_count": null,
   "metadata": {},
   "outputs": [],
   "source": [
    "# Qdrant搜索\n",
    "# metadata.title:《安全生产许可证条例》"
   ]
  }
 ],
 "metadata": {
  "kernelspec": {
   "display_name": "test",
   "language": "python",
   "name": "python3"
  },
  "language_info": {
   "codemirror_mode": {
    "name": "ipython",
    "version": 3
   },
   "file_extension": ".py",
   "mimetype": "text/x-python",
   "name": "python",
   "nbconvert_exporter": "python",
   "pygments_lexer": "ipython3",
   "version": "3.12.7"
  }
 },
 "nbformat": 4,
 "nbformat_minor": 2
}
