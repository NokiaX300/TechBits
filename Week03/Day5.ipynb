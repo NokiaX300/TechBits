{
 "cells": [
  {
   "cell_type": "markdown",
   "metadata": {},
   "source": [
    "计算机网络 - 传输层"
   ]
  },
  {
   "cell_type": "code",
   "execution_count": null,
   "metadata": {
    "vscode": {
     "languageId": "plaintext"
    }
   },
   "outputs": [],
   "source": [
    "网络层的ip帮我们区分子网，以太网层的mac帮我们找到主机，再通过端口来标识主机上的应用程序\n",
    "端口即应用程序与网卡关联的编号\n",
    "\n",
    "传输层功能:建立端口到端口的通信\n",
    "端口范围0-65535，0-1023为系统占用端口"
   ]
  },
  {
   "cell_type": "code",
   "execution_count": null,
   "metadata": {
    "vscode": {
     "languageId": "plaintext"
    }
   },
   "outputs": [],
   "source": [
    "UDP协议的优点是比较简单，容易实现，但是缺点是可靠性较差，一旦数据包发出，无法知道对方是否收到。"
   ]
  },
  {
   "cell_type": "code",
   "execution_count": null,
   "metadata": {
    "vscode": {
     "languageId": "plaintext"
    }
   },
   "outputs": [],
   "source": [
    "可以近似认为，TCP是有确认机制的UDP协议\n",
    "TCP基于连接，UDP基于非连接\n",
    "TCP没有长度限制"
   ]
  },
  {
   "cell_type": "code",
   "execution_count": null,
   "metadata": {
    "vscode": {
     "languageId": "plaintext"
    }
   },
   "outputs": [],
   "source": [
    "三次握手\n",
    "\n",
    "假设 A 为客户端，B 为服务器端。\n",
    "首先 B 处于 LISTEN（监听）状态，等待客户的连接请求。\n",
    "\n",
    "A 向 B 发送连接请求报文，SYN=1，ACK=0，选择一个初始的序号 x。\n",
    "\n",
    "B 收到连接请求报文，如果同意建立连接，则向 A 发送连接确认报文，SYN=1，ACK=1，确认号为 x+1，同时也选择一个初始的序号 y。\n",
    "\n",
    "A 收到 B 的连接确认报文后，还要向 B 发出确认，确认号为 y+1，序号为 x+1。\n",
    "B 收到 A 的确认后，连接建立。"
   ]
  },
  {
   "cell_type": "code",
   "execution_count": null,
   "metadata": {
    "vscode": {
     "languageId": "plaintext"
    }
   },
   "outputs": [],
   "source": [
    "四次挥手\n",
    "\n",
    "1.  A 发送连接释放报文，FIN=1。\n",
    "\n",
    "2.  B 收到之后发出确认，此时 TCP 属于半关闭状态，B 能向 A 发送数据但是 A 不能向 B 发送数据。\n",
    "\n",
    "3.  当 B 不再需要连接时，发送连接释放报文，FIN=1。\n",
    "\n",
    "4.  A 收到后发出确认，进入 TIME-WAIT 状态，等待 2 MSL（最大报文存活时间）后释放连接。\n",
    "\n",
    "    B 收到 A 的确认后释放连接。"
   ]
  },
  {
   "cell_type": "code",
   "execution_count": null,
   "metadata": {
    "vscode": {
     "languageId": "plaintext"
    }
   },
   "outputs": [],
   "source": [
    "1.  假设Client端发起中断连接请求，也就是发送FIN报文\n",
    "    Server端接到FIN报文'我Client端没有数据要发给你了，但是如果你还有数据没有发送完成，则不必急着关闭Socket，可以继续发送数据'\n",
    "\n",
    "2.  所以你先发送ACK，'告诉cient端，你的请求我收到了，但是我还没准备好，请继续你等我的消息'\n",
    "    这个时候Client就进入FIN_WAIT状态，继续等待server端的FiN报文\n",
    "\n",
    "3.  当server端确定数据已发送完成，则向Cient操发送FIN报文，告诉Cient端，'好了，我这边数据发完了，准备好关闭连接了'\n",
    "\n",
    "4.  Cient端收到FIN报文后，就知道可以关团连接了，但是他还是不相信网络，怕senver端不知道要关团，所以发送ACK后进入TIMEWAT状态，\n",
    "    如果server端设有收到ACK则可以重传。Server收到ACK后，就知道可以断开连接了。\n",
    "\n",
    "    clien端等待了2MSL后依然没有收到回复，则证明server端已正常关闭，好，我cient端也可以关连接了"
   ]
  }
 ],
 "metadata": {
  "language_info": {
   "name": "python"
  }
 },
 "nbformat": 4,
 "nbformat_minor": 2
}
