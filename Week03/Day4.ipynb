{
 "cells": [
  {
   "cell_type": "markdown",
   "metadata": {},
   "source": [
    "计算机网络 - 网络层"
   ]
  },
  {
   "cell_type": "code",
   "execution_count": null,
   "metadata": {
    "vscode": {
     "languageId": "plaintext"
    }
   },
   "outputs": [],
   "source": [
    "以太网包只能在局域网内发送，跨广播域通信只能通过路由转发"
   ]
  },
  {
   "cell_type": "code",
   "execution_count": null,
   "metadata": {
    "vscode": {
     "languageId": "plaintext"
    }
   },
   "outputs": [],
   "source": [
    "必须找到一种方法，能够区分哪些MAC地址属于同一个子网络"
   ]
  },
  {
   "cell_type": "code",
   "execution_count": null,
   "metadata": {
    "vscode": {
     "languageId": "plaintext"
    }
   },
   "outputs": [],
   "source": [
    "IPv4是比较老的版本，只能提供有限数量的地址。IPv6是新版，可以提供更多地址，因为网络设备越来越多，IPv4的地址不够用了"
   ]
  },
  {
   "cell_type": "code",
   "execution_count": null,
   "metadata": {
    "vscode": {
     "languageId": "plaintext"
    }
   },
   "outputs": [],
   "source": [
    "IP 数据报的源地址和目的地址始终不变，而 MAC 地址随着链路的改变而改变\n",
    "ARP 实现由 IP 地址得到 MAC 地址"
   ]
  },
  {
   "cell_type": "code",
   "execution_count": null,
   "metadata": {
    "vscode": {
     "languageId": "plaintext"
    }
   },
   "outputs": [],
   "source": [
    "网际控制报文协议 ICMP\n",
    "用来检测网络是否通畅\n",
    "Ping 是 ICMP 的一个重要应用\n",
    "traceroute 查看从当前主机到某地址一共经过多少跳路由"
   ]
  },
  {
   "cell_type": "code",
   "execution_count": null,
   "metadata": {
    "vscode": {
     "languageId": "plaintext"
    }
   },
   "outputs": [],
   "source": [
    "由于 IP 地址的紧缺，一个机构能申请到的 IP 地址数往往远小于本机构所拥有的主机数。\n",
    "并且一个机构并不需要把所有的主机接入到外部的互联网中，机构内的计算机可以使用仅在本机构有效的 IP 地址（专用地址）\n",
    "\n",
    "有三个专用地址块：\n",
    "10.0.0.0 ~ 10.255.255.255\n",
    "172.16.0.0 ~ 172.31.255.255\n",
    "192.168.0.0 ~ 192.168.255.255"
   ]
  },
  {
   "cell_type": "code",
   "execution_count": null,
   "metadata": {
    "vscode": {
     "languageId": "plaintext"
    }
   },
   "outputs": [],
   "source": [
    "VPN的工作原理就像一个“隧道”，它把你的数据包（信息）包裹起来，经过加密后通过这个隧道传送到目的地。这样就保证了：\n",
    "\n",
    "数据加密：你的数据在传输过程中是加密的，外界无法直接读取。\n",
    "IP地址隐藏：VPN会隐藏你的真实IP地址，替换为VPN服务器的地址。这样，网站或应用只能看到VPN服务器的地址，而不能确定你的真实位置。"
   ]
  },
  {
   "cell_type": "code",
   "execution_count": null,
   "metadata": {
    "vscode": {
     "languageId": "plaintext"
    }
   },
   "outputs": [],
   "source": [
    "专用网内部的主机使用本地 IP 地址又想和互联网上的主机通信时，可以使用 NAT 来将本地 IP 转换为全球 IP"
   ]
  },
  {
   "cell_type": "code",
   "execution_count": null,
   "metadata": {
    "vscode": {
     "languageId": "plaintext"
    }
   },
   "outputs": [],
   "source": [
    "路由协议\n",
    "\n",
    "RIP（Routing Information Protocol）：适合小型网络，它每隔一段时间就会把整个网络的路由信息发送给其他路由器。这种方法相对简单，但数据传递的速度可能比较慢。\n",
    "\n",
    "OSPF（Open Shortest Path First）：适合大型网络，使用最短路径算法来找到最佳路径。OSPF可以更快地适应网络变化，在企业和更复杂的网络环境中广泛使用。\n",
    "\n",
    "BGP（Border Gateway Protocol）：是互联网的核心路由协议，用于连接不同的网络或自治系统（例如不同的ISP或国家网络）。BGP帮助路由器选择更可靠的路径来连接远程网络。"
   ]
  }
 ],
 "metadata": {
  "language_info": {
   "name": "python"
  }
 },
 "nbformat": 4,
 "nbformat_minor": 2
}
