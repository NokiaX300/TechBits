{
 "cells": [
  {
   "cell_type": "code",
   "execution_count": null,
   "metadata": {
    "vscode": {
     "languageId": "plaintext"
    }
   },
   "outputs": [],
   "source": [
    "Sensitivity, Recall\n",
    "TPR = TP / (TP + FN)\n",
    "\n",
    "Precision = TP / (TP + FP)"
   ]
  },
  {
   "cell_type": "markdown",
   "metadata": {},
   "source": [
    "<img src=\"F1.jpg\" style=\"zoom:50%\" />"
   ]
  },
  {
   "cell_type": "code",
   "execution_count": null,
   "metadata": {
    "vscode": {
     "languageId": "plaintext"
    }
   },
   "outputs": [],
   "source": [
    "ROC:    纵坐标 TPR\n",
    "        横坐标 FPR\n",
    "AUC:    ROC曲线下方的面积"
   ]
  },
  {
   "cell_type": "code",
   "execution_count": null,
   "metadata": {
    "vscode": {
     "languageId": "plaintext"
    }
   },
   "outputs": [],
   "source": [
    "大数据模型的原理是通过大规模的数据收集、存储、处理和分析来提取有价值的信息和模式。\n",
    "\n",
    "ChatGPT 工作的核心原理：\n",
    "1. 数据收集和预处理\n",
    "    去重和清洗\n",
    "    分词和标注\n",
    "2. 数据存储和分布式计算\n",
    "3. 模型构建\n",
    "    ChatGPT 是基于 Transformer 架构构建的\n",
    "    自注意力机制\n",
    "4. 训练过程\n",
    "    自监督学习\n",
    "    损失函数\n",
    "    优化算法\n",
    "5. 推理和生成\n",
    "6. 模型部署和优化"
   ]
  }
 ],
 "metadata": {
  "language_info": {
   "name": "python"
  }
 },
 "nbformat": 4,
 "nbformat_minor": 2
}
