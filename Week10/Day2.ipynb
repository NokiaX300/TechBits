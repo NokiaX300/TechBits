{
 "cells": [
  {
   "cell_type": "code",
   "execution_count": null,
   "metadata": {
    "vscode": {
     "languageId": "plaintext"
    }
   },
   "outputs": [],
   "source": [
    "石油精神以大庆精神铁人精神为主体\n",
    "其核心是“苦干实干”“三老四严”\n",
    "\n",
    "“三老四严”是一种作风与精神：\n",
    "对待革命事业，要当老实人，说老实话，办老实事；\n",
    "对待工作，要有严格的要求，严密的组织，严肃的态度，严明的纪律。"
   ]
  },
  {
   "cell_type": "code",
   "execution_count": null,
   "metadata": {
    "vscode": {
     "languageId": "plaintext"
    }
   },
   "outputs": [],
   "source": [
    "在设计公安局与商业银行之间的查账系统时，数据传输的模式和数据格式非常重要。\n",
    "\n",
    "实时查询：可以使用请求-响应模式，采用 JSON、XML 等格式。\n",
    "批量处理：可以使用批量模式，采用 CSV、Parquet 等格式。\n",
    "异步高并发：可以使用消息队列模式，采用 Protobuf 等高效格式。"
   ]
  },
  {
   "cell_type": "code",
   "execution_count": null,
   "metadata": {
    "vscode": {
     "languageId": "plaintext"
    }
   },
   "outputs": [],
   "source": [
    "HTTPS（HyperText Transfer Protocol Secure）是 HTTP 的安全版本，它在 HTTP 基础上增加了数据加密和身份认证\n",
    "通过 SSL/TLS 协议对数据进行加密\n",
    "\n",
    "HTTP：使用默认端口 80。\n",
    "HTTPS：使用默认端口 443。"
   ]
  },
  {
   "cell_type": "code",
   "execution_count": null,
   "metadata": {
    "vscode": {
     "languageId": "plaintext"
    }
   },
   "outputs": [],
   "source": [
    "SWOT分析是一种评估内部优势和劣势，以及外部机会和威胁的工具，用于制定战略决策。"
   ]
  },
  {
   "cell_type": "code",
   "execution_count": null,
   "metadata": {
    "vscode": {
     "languageId": "plaintext"
    }
   },
   "outputs": [],
   "source": [
    "回归模型\n",
    "\n",
    "线性回归：这是最简单、常用的回归模型，假设因变量和自变量之间存在线性关系。常见的线性回归模型有普通最小二乘法（OLS）和岭回归（Ridge Regression）等。\n",
    "\n",
    "多元线性回归：在线性回归的基础上引入多个自变量来预测因变量，适用于多个因素共同影响目标变量的情况。\n",
    "\n",
    "逻辑回归：一种分类模型，基于Sigmoid函数，将输出压缩到0和1之间，表示某个类的概率。\n",
    "\n",
    "多项式回归：适用于因变量和自变量呈现非线性关系的情况。通过引入自变量的多项式项（例如平方、立方）来更好地拟合非线性数据。\n",
    "\n",
    "岭回归（Ridge）与套索回归（Lasso）：这两种是带有正则化的线性回归模型，用于解决线性回归中多重共线性问题。岭回归通过L2正则化，Lasso通过L1正则化，还可以进行变量选择。\n",
    "\n",
    "广义线性模型（GLM）：是一种扩展的回归模型，适用于不同类型的响应变量。GLM包括泊松回归、负二项回归等，用于计数数据的回归分析。\n",
    "\n",
    "弹性网络回归（Elastic Net）：结合了岭回归和套索回归的优点，既能解决多重共线性问题，又能进行变量选择，适合高维数据。\n",
    "\n",
    "贝叶斯回归：基于贝叶斯统计原理，通过先验信息和观测数据的结合来估计参数，适合不确定性较大的情况。\n",
    "\n",
    "支持向量回归（SVR）：SVR是支持向量机（SVM）的回归形式，适合高维数据的回归问题，常用于解决非线性回归问题。\n",
    "\n",
    "决策树回归和随机森林回归：基于树的结构进行回归分析，随机森林回归通过集成多棵决策树来提高预测的准确性，能处理非线性、复杂的数据。"
   ]
  },
  {
   "cell_type": "code",
   "execution_count": null,
   "metadata": {
    "vscode": {
     "languageId": "plaintext"
    }
   },
   "outputs": [],
   "source": [
    "主键一定是一个索引：主键会自动创建唯一索引，以便快速定位记录。\n",
    "索引不一定是主键：你可以为任意列创建索引，即使该列不是主键。"
   ]
  },
  {
   "cell_type": "code",
   "execution_count": null,
   "metadata": {
    "vscode": {
     "languageId": "plaintext"
    }
   },
   "outputs": [],
   "source": [
    "无监督学习：\n",
    "K-Means，PCA\n",
    "剩下都是监督学习"
   ]
  },
  {
   "cell_type": "code",
   "execution_count": null,
   "metadata": {
    "vscode": {
     "languageId": "plaintext"
    }
   },
   "outputs": [],
   "source": [
    "深度学习模型需要大量的训练数据，才能展现出神奇的效果，但现实生活中往往会遇到小样本问题，此时深度学习方法无法入手，传统的机器学习方法就可以处理\n",
    "\n",
    "深度学习的训练样本是有标签的，强化学习的训练是没有标签的\n",
    "\n",
    "机器学习：一切通过优化方法挖掘数据中规律的学科，多用于数据挖掘、数据分析和预测等领域。\n",
    "\n",
    "深度学习：一切运用了神经网络作为参数结构进行优化的机器学习算法，广泛地应用于是计算机视觉和自然语言处理领域。"
   ]
  },
  {
   "cell_type": "markdown",
   "metadata": {},
   "source": [
    "<img src=\"COV.jpg\" style=\"zoom:50%\" />"
   ]
  }
 ],
 "metadata": {
  "language_info": {
   "name": "python"
  }
 },
 "nbformat": 4,
 "nbformat_minor": 2
}
