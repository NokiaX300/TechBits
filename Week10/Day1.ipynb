{
 "cells": [
  {
   "cell_type": "code",
   "execution_count": null,
   "metadata": {},
   "outputs": [],
   "source": [
    "# Points 指的是collection中的基本元素，每个点包含一个向量vector和可选的payload\n",
    "# Payload 指的是附加在向量上的数据，这些数据用于存储额外的信息，如标签或属性，可以在搜索过程中用于过滤或排序结果\n",
    "# Payload 中 metadata 和 page_content 很重要"
   ]
  },
  {
   "cell_type": "code",
   "execution_count": null,
   "metadata": {},
   "outputs": [],
   "source": [
    "# Database API key\n",
    "# 不许偷看\n",
    "# 5L34wBMk4uBjWLU5ECKL08veZVzOnnHCvke7846uHpG-I1dXCQS2Gw"
   ]
  },
  {
   "cell_type": "code",
   "execution_count": null,
   "metadata": {},
   "outputs": [],
   "source": [
    "# Create a collection\n",
    "PUT collections/star_charts\n",
    "{\n",
    "  \"vectors\": {\n",
    "    \"size\": 4,\n",
    "    \"distance\": \"Dot\"\n",
    "  }\n",
    "}"
   ]
  },
  {
   "cell_type": "code",
   "execution_count": null,
   "metadata": {},
   "outputs": [],
   "source": [
    "# Load data into the collection\n",
    "PUT collections/star_charts/points\n",
    "{\n",
    "  \"points\": [\n",
    "    {\n",
    "      \"id\": 1,\n",
    "      \"vector\": [0.05, 0.61, 0.76, 0.74],\n",
    "      \"payload\": {\n",
    "        \"colony\": \"Mars\"\n",
    "      }\n",
    "    },\n",
    "    {\n",
    "      \"id\": 2,\n",
    "      \"vector\": [0.19, 0.81, 0.75, 0.11],\n",
    "      \"payload\": {\n",
    "        \"colony\": \"Jupiter\"\n",
    "      }\n",
    "    },\n",
    "    {\n",
    "      \"id\": 3,\n",
    "      \"vector\": [0.36, 0.55, 0.47, 0.94],\n",
    "      \"payload\": {\n",
    "        \"colony\": \"Venus\"\n",
    "      }\n",
    "    },\n",
    "    {\n",
    "      \"id\": 4,\n",
    "      \"vector\": [0.18, 0.01, 0.85, 0.80],\n",
    "      \"payload\": {\n",
    "        \"colony\": \"Moon\"\n",
    "      }\n",
    "    },\n",
    "    {\n",
    "      \"id\": 5,\n",
    "      \"vector\": [0.24, 0.18, 0.22, 0.44],\n",
    "      \"payload\": {\n",
    "        \"colony\": \"Pluto\"\n",
    "      }\n",
    "    }\n",
    "  ]\n",
    "}"
   ]
  },
  {
   "cell_type": "code",
   "execution_count": null,
   "metadata": {},
   "outputs": [],
   "source": [
    "# Run a search query\n",
    "POST collections/star_charts/points/search\n",
    "{\n",
    "  \"vector\": [0.2, 0.1, 0.9, 0.7],\n",
    "  \"limit\": 3,\n",
    "  \"with_payload\": true\n",
    "}"
   ]
  },
  {
   "cell_type": "code",
   "execution_count": null,
   "metadata": {},
   "outputs": [],
   "source": [
    "# size:\n",
    "# 向量的维度大小\n",
    "# 1024优先\n",
    "# distance:\n",
    "# 用于计算向量相似性的度量方式\n",
    "# Cosine优先"
   ]
  },
  {
   "cell_type": "code",
   "execution_count": null,
   "metadata": {},
   "outputs": [],
   "source": [
    "# 精确匹配筛选\n",
    "# must\n",
    "# must_not\n",
    "POST collections/terraforming/points/scroll\n",
    "{\n",
    "  \"filter\": {\n",
    "    \"must\": [\n",
    "      { \"key\": \"life\", \"match\": { \"value\": true } },\n",
    "      { \"key\": \"color\", \"match\": { \"value\": \"green\" } }\n",
    "    ]\n",
    "  },\n",
    "  \"limit\": 3,\n",
    "  \"with_payload\": true\n",
    "}"
   ]
  },
  {
   "cell_type": "code",
   "execution_count": null,
   "metadata": {},
   "outputs": [],
   "source": [
    "# 或\n",
    "# should\n",
    "POST collections/terraforming/points/scroll\n",
    "{\n",
    "  \"filter\": {\n",
    "    \"should\": [\n",
    "      {\n",
    "        \"key\": \"life\",\n",
    "        \"match\": { \"value\": false }\n",
    "      }, {\n",
    "        \"key\": \"color\",\n",
    "        \"match\": { \"value\": \"black\" }\n",
    "      }\n",
    "    ]\n",
    "  }\n",
    "}"
   ]
  },
  {
   "cell_type": "code",
   "execution_count": null,
   "metadata": {},
   "outputs": [],
   "source": [
    "# range\n",
    "# gte: 大于等于\n",
    "# lte: 小于等于\n",
    "POST collections/terraforming/points/scroll\n",
    "{\n",
    "  \"filter\": {\n",
    "    \"must\": [\n",
    "      {\n",
    "       \"key\": \"humidity\",\n",
    "       \"range\": {\n",
    "         \"gte\": 40,\n",
    "         \"lte\": 40\n",
    "       }\n",
    "      }\n",
    "    ]\n",
    "  },\n",
    "  \"limit\": 3,\n",
    "  \"with_payload\": true\n",
    "}"
   ]
  },
  {
   "cell_type": "code",
   "execution_count": null,
   "metadata": {},
   "outputs": [],
   "source": [
    "POST collections/terraforming/points/scroll\n",
    "# POST 方法：用于发送筛选条件和分页参数\n",
    "# points/scroll:\n",
    "# 表示对集合中的数据点进行滚动查询（scroll query）"
   ]
  }
 ],
 "metadata": {
  "kernelspec": {
   "display_name": "base",
   "language": "python",
   "name": "python3"
  },
  "language_info": {
   "name": "python",
   "version": "3.11.5"
  }
 },
 "nbformat": 4,
 "nbformat_minor": 2
}
