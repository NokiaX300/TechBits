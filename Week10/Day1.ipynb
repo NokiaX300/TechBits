{
 "cells": [
  {
   "cell_type": "code",
   "execution_count": null,
   "metadata": {
    "vscode": {
     "languageId": "plaintext"
    }
   },
   "outputs": [],
   "source": [
    "A/B 测试\n",
    "1.确定你要优化的指标（如点击率、转化率、销售量等）\n",
    "2.将用户或样本随机分配到两个组\n",
    "3.t 检验或 z 检验，分析结果的统计显著性"
   ]
  },
  {
   "cell_type": "code",
   "execution_count": null,
   "metadata": {
    "vscode": {
     "languageId": "plaintext"
    }
   },
   "outputs": [],
   "source": [
    "1字节 = 8位\n",
    "因此32位系统的最小字节数是4字节，64位系统的最小字节数是8字节"
   ]
  },
  {
   "cell_type": "code",
   "execution_count": null,
   "metadata": {
    "vscode": {
     "languageId": "plaintext"
    }
   },
   "outputs": [],
   "source": [
    "I/O操作指的是输入/输出操作（Input/Output）"
   ]
  },
  {
   "cell_type": "code",
   "execution_count": null,
   "metadata": {
    "vscode": {
     "languageId": "plaintext"
    }
   },
   "outputs": [],
   "source": [
    "A端：开发界面\n",
    "B端：商家界面\n",
    "C端：用户界面"
   ]
  },
  {
   "cell_type": "code",
   "execution_count": null,
   "metadata": {
    "vscode": {
     "languageId": "plaintext"
    }
   },
   "outputs": [],
   "source": [
    "栈 后进先出 LIFO\n",
    "看一个出栈序列是否合法，据卡特兰数的思想，可以倒着采取递归的方式去验证。\n",
    "比如验证出栈序列：2 1 4 5 3看最后一个元素是3，\n",
    "那么3一定是最后出栈的，而1，2一定在3之前入栈并且出栈。4，5一定在3之后入栈，并且在3之前出栈。\n",
    "那么可以根据3将原序列分成2 1和4 5再分别独立检查2 1 和4 5这两个出栈序列是否合法就可以了\n",
    "（如果不能分成两段使得各段中数字是连续数字，那也是不合法的）。\n",
    "方法同上，递归操作下去"
   ]
  },
  {
   "cell_type": "code",
   "execution_count": null,
   "metadata": {
    "vscode": {
     "languageId": "plaintext"
    }
   },
   "outputs": [],
   "source": [
    "卡特兰数\n",
    "1，2，5，14，42\n",
    "ABCD出栈方式14种"
   ]
  },
  {
   "cell_type": "code",
   "execution_count": null,
   "metadata": {
    "vscode": {
     "languageId": "plaintext"
    }
   },
   "outputs": [],
   "source": [
    "容斥原理\n",
    "三集合标准型公式:   A+B+C-A∩B-A∩C-B∩C+A∩B∩C = 全-都不\n",
    "三集合非标准型公式: A+B+C-满足两项-2*满足三项 = 全-都不"
   ]
  },
  {
   "cell_type": "code",
   "execution_count": null,
   "metadata": {
    "vscode": {
     "languageId": "plaintext"
    }
   },
   "outputs": [],
   "source": [
    "为公安局设计一个身份证管理系统：\n",
    "包含身份证号码、照片、居民住址、签发机关、有效期等等\n",
    "由于住址、签发机关、有效期可能发生变动，要求可以记录变动\n",
    "如户籍 D1→D2→D3\n",
    "写出建表语句（包含主键），并简述思路"
   ]
  },
  {
   "cell_type": "code",
   "execution_count": null,
   "metadata": {
    "vscode": {
     "languageId": "sql"
    }
   },
   "outputs": [],
   "source": [
    "-- 我们可以设计两张表：一张是身份证基本信息表，另一张是变动历史表\n",
    "\n",
    "CREATE TABLE citizen_id (\n",
    "    id_number VARCHAR(18) PRIMARY KEY,      -- 身份证号码，主键\n",
    "    photo BLOB,                             -- 照片\n",
    "    current_address VARCHAR(255),           -- 当前住址\n",
    "    current_issuing_agency VARCHAR(255),    -- 当前签发机关\n",
    "    current_validity_date DATE              -- 当前有效期\n",
    ")\n",
    "\n",
    "CREATE TABLE citizen_change_history (\n",
    "    id INT AUTO_INCREMENT PRIMARY KEY,       -- 自增主键\n",
    "    id_number VARCHAR(18),                   -- 对应的身份证号码\n",
    "    change_type VARCHAR(50),                 -- 变动类型（住址、签发机关、有效期）\n",
    "    old_value VARCHAR(255),                  -- 旧值\n",
    "    new_value VARCHAR(255),                  -- 新值\n",
    "    change_date DATE,                        -- 变动日期\n",
    "    FOREIGN KEY (id_number) REFERENCES citizen_id(id_number)\n",
    ")"
   ]
  }
 ],
 "metadata": {
  "language_info": {
   "name": "python"
  }
 },
 "nbformat": 4,
 "nbformat_minor": 2
}
