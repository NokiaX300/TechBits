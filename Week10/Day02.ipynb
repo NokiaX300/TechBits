{
 "cells": [
  {
   "cell_type": "code",
   "execution_count": null,
   "metadata": {},
   "outputs": [],
   "source": [
    "PUT collections/dinosaurs/points\n",
    "{\n",
    "  \"points\": [\n",
    "    {\n",
    "      \"id\": 1,\n",
    "      \"vector\": [0.1, 0.2, 0.3, 0.4],\n",
    "      \"payload\": {\n",
    "        \"dinosaur\": \"t-rex\",\n",
    "        \"diet\": [\n",
    "          { \"food\": \"leaves\", \"likes\": false },\n",
    "          { \"food\": \"meat\", \"likes\": true }\n",
    "        ]\n",
    "      }\n",
    "    },\n",
    "    {\n",
    "      \"id\": 2,\n",
    "      \"vector\": [0.2, 0.3, 0.4, 0.5],\n",
    "      \"payload\": {\n",
    "        \"dinosaur\": \"diplodocus\",\n",
    "        \"diet\": [\n",
    "          { \"food\": \"leaves\", \"likes\": true },\n",
    "          { \"food\": \"meat\", \"likes\": false }\n",
    "        ]\n",
    "      }\n",
    "    }\n",
    "  ]\n",
    "}"
   ]
  },
  {
   "cell_type": "code",
   "execution_count": null,
   "metadata": {},
   "outputs": [],
   "source": [
    "# 如果想查询同时满足{ \"food\": \"meat\", \"likes\": true }的dinosaur\n",
    "# 需要使用 nested filter\n",
    "POST /collections/dinosaurs/points/scroll\n",
    "{\n",
    "  \"filter\": {\n",
    "    \"must\": [\n",
    "      {\n",
    "        \"nested\": {\n",
    "          \"key\": \"diet\",\n",
    "          \"filter\": {\n",
    "            \"must\": [\n",
    "              {\n",
    "                \"key\": \"food\",\n",
    "                \"match\": {\n",
    "                  \"value\": \"meat\"\n",
    "                }\n",
    "              },\n",
    "              {\n",
    "                \"key\": \"likes\",\n",
    "                \"match\": {\n",
    "                  \"value\": true\n",
    "                }\n",
    "              }\n",
    "            ]\n",
    "          }\n",
    "        }\n",
    "      }\n",
    "    ]\n",
    "  }\n",
    "}"
   ]
  },
  {
   "cell_type": "code",
   "execution_count": null,
   "metadata": {},
   "outputs": [],
   "source": [
    "# has_id 不能嵌套在其他过滤条件中，所以必须作为独立的条件与其他过滤逻辑组合\n",
    "\"has_id\": [1]"
   ]
  },
  {
   "cell_type": "code",
   "execution_count": null,
   "metadata": {},
   "outputs": [],
   "source": [
    "# 直接删除\n",
    "DELETE /collections/star_charts\n",
    "# 添加新数据到现有集合，如果已存在数据则覆盖\n",
    "PUT collections/star_charts/points"
   ]
  },
  {
   "cell_type": "code",
   "execution_count": null,
   "metadata": {},
   "outputs": [],
   "source": [
    "# POST 通常用于发送数据或请求服务器执行某些操作，而不仅仅是获取资源（这是 GET 的职责）"
   ]
  },
  {
   "cell_type": "code",
   "execution_count": null,
   "metadata": {},
   "outputs": [],
   "source": [
    "PUT /collections/star_charts/index\n",
    "{\n",
    "    \"field_name\": \"description\",\n",
    "    \"field_schema\": {\n",
    "        \"type\": \"text\",\n",
    "        \"tokenizer\": \"word\",\n",
    "        \"lowercase\": true\n",
    "    }\n",
    "}"
   ]
  },
  {
   "cell_type": "code",
   "execution_count": null,
   "metadata": {},
   "outputs": [],
   "source": [
    "# Sparse Vector Search\n",
    "\"id\": 1,\n",
    "    \"vector\": {\n",
    "        \"keywords\": {\n",
    "            \"indices\": [1, 42],\n",
    "            \"values\": [0.22, 0.8]\n",
    "# Point 1 has sparse vector values of 0.22 and 0.8 at positions 1 and 42"
   ]
  },
  {
   "cell_type": "code",
   "execution_count": null,
   "metadata": {},
   "outputs": [],
   "source": [
    "POST /collections/sparse_charts/points/query\n",
    "{\n",
    "    \"query\": {\n",
    "        \"indices\": [0, 2, 4],\n",
    "        \"values\": [0.4, 0.9, 0.8]\n",
    "    },\n",
    "    \"using\": \"keywords\"\n",
    "}\n",
    "# Dot product for Point 5:\n",
    "\n",
    "# Query: [0.4, 0, 0.9, 0, 0.8]\n",
    "# Point 5: [0, 0, 0.9, 0, 0.8]\n",
    "# Dot product: ( 0.9 * 0.9 + 0.8 * 0.8 = 0.81 + 0.64 = 1.45 )"
   ]
  },
  {
   "cell_type": "code",
   "execution_count": null,
   "metadata": {},
   "outputs": [],
   "source": [
    "# 密集向量 (Dense Vector):\n",
    "# 定义： 用数值形式表示数据点的语义特征\n",
    "\n",
    "# 稀疏向量 (Sparse Vector - Keywords):\n",
    "# 定义： 用于表示关键词特征，其中索引与特定关键词对应，值表示它们的相关性"
   ]
  },
  {
   "cell_type": "code",
   "execution_count": null,
   "metadata": {},
   "outputs": [],
   "source": []
  }
 ],
 "metadata": {
  "language_info": {
   "name": "python"
  }
 },
 "nbformat": 4,
 "nbformat_minor": 2
}
