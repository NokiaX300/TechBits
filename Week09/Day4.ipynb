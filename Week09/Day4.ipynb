{
 "cells": [
  {
   "cell_type": "code",
   "execution_count": null,
   "metadata": {},
   "outputs": [],
   "source": [
    "# 弃用参数\n",
    "deprecated=True"
   ]
  },
  {
   "cell_type": "code",
   "execution_count": null,
   "metadata": {},
   "outputs": [],
   "source": [
    "# 如果你将带有「默认值」的参数放在没有「默认值」的参数之前，Python 将会报错\n",
    "# 对 FastAPI 来说不在乎参数的顺序"
   ]
  },
  {
   "cell_type": "code",
   "execution_count": null,
   "metadata": {},
   "outputs": [],
   "source": [
    "# 传递 * 作为函数的第一个参数\n",
    "# Python 不会对该 * 做任何事情，但是它将知道之后的所有参数都应作为关键字参数（键值对），也被称为 kwargs，来调用。即使它们没有默认值"
   ]
  },
  {
   "cell_type": "code",
   "execution_count": null,
   "metadata": {},
   "outputs": [],
   "source": [
    "# Query 为 查询参数 声明更多的校验和元数据\n",
    "# Path 为 路径参数 声明相同类型的校验和元数据"
   ]
  },
  {
   "cell_type": "code",
   "execution_count": null,
   "metadata": {},
   "outputs": [],
   "source": [
    "# gt：大于（greater than）\n",
    "# ge：大于等于（greater than or equal）\n",
    "# lt：小于（less than）\n",
    "# le：小于等于（less than or equal）"
   ]
  },
  {
   "cell_type": "code",
   "execution_count": null,
   "metadata": {},
   "outputs": [],
   "source": [
    "async def read_items(filter_query: Annotated[FilterParams, Query()])\n",
    "# Annotated：\n",
    "# 用于结合类型和附加元数据\n",
    "# 类型是 FilterParams。\n",
    "# 元数据是 Query()，表示 filter_query 的值来源于查询参数。"
   ]
  },
  {
   "cell_type": "code",
   "execution_count": null,
   "metadata": {},
   "outputs": [],
   "source": [
    "model_config = {\"extra\": \"forbid\"}\n",
    "# 禁止额外的查询参数"
   ]
  },
  {
   "cell_type": "code",
   "execution_count": null,
   "metadata": {},
   "outputs": [],
   "source": [
    "# 可以使用 Body 指示 FastAPI 将其作为请求体的另一个键进行处理\n",
    "async def update_item(\n",
    "    item_id: int, item: Item, user: User, importance: Annotated[int, Body()]\n",
    ")\n",
    "# 请求体：\n",
    "{\n",
    "    \"item\": {\n",
    "        \"name\": \"Foo\",\n",
    "        \"description\": \"The pretender\",\n",
    "        \"price\": 42.0,\n",
    "        \"tax\": 3.2\n",
    "    },\n",
    "    \"user\": {\n",
    "        \"username\": \"dave\",\n",
    "        \"full_name\": \"Dave Grohl\"\n",
    "    },\n",
    "    \"importance\": 5\n",
    "}"
   ]
  },
  {
   "cell_type": "code",
   "execution_count": null,
   "metadata": {},
   "outputs": [],
   "source": [
    "# 可以使用 Pydantic 的 Field 在 Pydantic 模型内部声明校验和元数据"
   ]
  },
  {
   "cell_type": "code",
   "execution_count": null,
   "metadata": {},
   "outputs": [],
   "source": [
    "tags: set[str] = set()\n",
    "# 转换为集合并去重"
   ]
  }
 ],
 "metadata": {
  "kernelspec": {
   "display_name": "base",
   "language": "python",
   "name": "python3"
  },
  "language_info": {
   "codemirror_mode": {
    "name": "ipython",
    "version": 3
   },
   "file_extension": ".py",
   "mimetype": "text/x-python",
   "name": "python",
   "nbconvert_exporter": "python",
   "pygments_lexer": "ipython3",
   "version": "3.11.5"
  }
 },
 "nbformat": 4,
 "nbformat_minor": 2
}
