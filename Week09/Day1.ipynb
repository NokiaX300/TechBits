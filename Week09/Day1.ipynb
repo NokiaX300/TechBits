{
 "cells": [
  {
   "cell_type": "code",
   "execution_count": null,
   "metadata": {
    "vscode": {
     "languageId": "plaintext"
    }
   },
   "outputs": [],
   "source": [
    "Business analyst\n",
    "业务分析师离业务更近，是解释来自可视化效果的数据的专家\n",
    "\n",
    "Data analyst\n",
    "分析、清理和转换数据，构建模型，PowerBI\n",
    "\n",
    "Data engineer\n",
    "构建和管理数据平台\n",
    "\n",
    "Data scientist\n",
    "特征工程\n",
    "\n",
    "Database administrator\n",
    "Azure   SQL Server"
   ]
  },
  {
   "cell_type": "code",
   "execution_count": null,
   "metadata": {
    "vscode": {
     "languageId": "plaintext"
    }
   },
   "outputs": [],
   "source": [
    "Data Analyst： 专注于解释过去和现在的业务数据。\n",
    "Data Engineer： 确保数据的可用性和流动。\n",
    "Data Scientist： 开发预测模型，解决未来问题。"
   ]
  }
 ],
 "metadata": {
  "language_info": {
   "name": "python"
  }
 },
 "nbformat": 4,
 "nbformat_minor": 2
}
