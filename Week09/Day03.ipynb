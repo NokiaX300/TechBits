{
 "cells": [
  {
   "cell_type": "code",
   "execution_count": null,
   "metadata": {},
   "outputs": [],
   "source": [
    "# http://127.0.0.1:8000/items/?skip=24&limit=10"
   ]
  },
  {
   "cell_type": "code",
   "execution_count": null,
   "metadata": {},
   "outputs": [],
   "source": [
    "# FastAPI 可以识别同时声明的多个路径参数和查询参数。\n",
    "\n",
    "# 而且声明查询参数的顺序并不重要。\n",
    "# @app.get(\"/users/{user_id}/items/{item_id}\")"
   ]
  },
  {
   "cell_type": "code",
   "execution_count": null,
   "metadata": {},
   "outputs": [],
   "source": [
    "# 把默认值设为 None 即可声明可选的查询参数"
   ]
  },
  {
   "cell_type": "code",
   "execution_count": null,
   "metadata": {},
   "outputs": [],
   "source": [
    "# 请求体是客户端发送给 API 的数据。响应体是 API 发送给客户端的数据。\n",
    "# API 基本上肯定要发送响应体，但是客户端不一定发送请求体。\n",
    "\n",
    "# 发送数据使用 POST（最常用）、PUT、DELETE、PATCH 等操作"
   ]
  },
  {
   "cell_type": "code",
   "execution_count": null,
   "metadata": {},
   "outputs": [],
   "source": [
    "# BaseModel 是请求体数据的模板，它定义了字段、类型和默认值"
   ]
  },
  {
   "cell_type": "code",
   "execution_count": null,
   "metadata": {},
   "outputs": [],
   "source": [
    "# 函数参数按如下规则进行识别：\n",
    "\n",
    "# 路径中声明了相同参数的参数，是路径参数\n",
    "# 类型是（int、float、str、bool 等）单类型的参数，是查询参数\n",
    "# 类型是 Pydantic 模型的参数，是请求体"
   ]
  },
  {
   "cell_type": "code",
   "execution_count": null,
   "metadata": {},
   "outputs": [],
   "source": [
    "# item: Item\n",
    "# item.dict() 是 Pydantic 模型的一个方法。\n",
    "# 它会将 Pydantic 模型对象（item）的所有字段及其值转换为一个普通的 Python 字典（dict）"
   ]
  },
  {
   "cell_type": "code",
   "execution_count": null,
   "metadata": {},
   "outputs": [],
   "source": [
    "# Query 是 FastAPI 提供的一个工具，用于定义查询参数的校验规则"
   ]
  },
  {
   "cell_type": "code",
   "execution_count": null,
   "metadata": {},
   "outputs": [],
   "source": [
    "# 有另一种方法可以显式的声明一个值是必需的，即将默认参数的默认值设为 ...\n",
    "async def read_items(q: str = Query(default=..., min_length=3))"
   ]
  },
  {
   "cell_type": "code",
   "execution_count": null,
   "metadata": {},
   "outputs": [],
   "source": [
    "# 用 alias 参数声明一个别名\n",
    "# http://127.0.0.1:8000/items/?item-query=foobaritems\n",
    "q: Union[str, None] = Query(default=None, alias=\"item-query\")"
   ]
  }
 ],
 "metadata": {
  "language_info": {
   "name": "python"
  }
 },
 "nbformat": 4,
 "nbformat_minor": 2
}
