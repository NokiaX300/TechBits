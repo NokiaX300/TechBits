{
 "cells": [
  {
   "cell_type": "code",
   "execution_count": null,
   "metadata": {},
   "outputs": [],
   "source": [
    "# 安装fastapi后找不到包\n",
    "# ctrl+shift+P 选择解释器"
   ]
  },
  {
   "cell_type": "code",
   "execution_count": null,
   "metadata": {},
   "outputs": [],
   "source": [
    "# Could not import module \"main\"\n",
    "# set PYTHONPATH=S:\\Nokia\\AI\n",
    "# uvicorn AI.FastAPI.main:app --reload\n",
    "\n",
    "# --reload: 在代码改变后重启服务器，只能在开发的时候使用"
   ]
  },
  {
   "cell_type": "code",
   "execution_count": null,
   "metadata": {},
   "outputs": [],
   "source": [
    "# https://example.com/items/foo\n",
    "# 路径是/items/foo\n",
    "\n",
    "# 「路径」也通常被称为「端点」或「路由」\n",
    "# 路由就是URL到函数的映射"
   ]
  },
  {
   "cell_type": "code",
   "execution_count": null,
   "metadata": {},
   "outputs": [],
   "source": [
    "# Union 类型，用于支持多种数据类型的参数注解"
   ]
  },
  {
   "cell_type": "code",
   "execution_count": null,
   "metadata": {},
   "outputs": [],
   "source": [
    "# 127.0.0.1 是 本地主机地址\n",
    "# 8000 是 FastAPI 默认监听的 端口号"
   ]
  },
  {
   "cell_type": "code",
   "execution_count": null,
   "metadata": {},
   "outputs": [],
   "source": [
    "# 协议://主机名:端口/路径?查询参数\n",
    "# http://127.0.0.1:8000/items/5?q=runoob"
   ]
  },
  {
   "cell_type": "code",
   "execution_count": null,
   "metadata": {},
   "outputs": [],
   "source": [
    "# 路径参数 是通过路径变量 {} 定义的\n",
    "# 声明的参数不是路径参数时，路径操作函数会把该参数自动解释为查询参数"
   ]
  },
  {
   "cell_type": "code",
   "execution_count": null,
   "metadata": {},
   "outputs": [],
   "source": [
    "# 「操作」指的是一种 HTTP「方法」\n",
    "# POST\n",
    "# GET\n",
    "# PUT\n",
    "# DELETE"
   ]
  },
  {
   "cell_type": "code",
   "execution_count": null,
   "metadata": {},
   "outputs": [],
   "source": [
    "# 路径操作装饰器\n",
    "# @app.get(\"/\") 告诉 FastAPI 在它下方的函数负责处理如下访问请求：\n",
    "\n",
    "# 请求路径为 /\n",
    "# 使用 get 操作"
   ]
  },
  {
   "cell_type": "code",
   "execution_count": null,
   "metadata": {},
   "outputs": [],
   "source": [
    "# 访问 /items/1 时，FastAPI 不会调用 / 路由的逻辑"
   ]
  }
 ],
 "metadata": {
  "kernelspec": {
   "display_name": "base",
   "language": "python",
   "name": "python3"
  },
  "language_info": {
   "name": "python",
   "version": "3.11.5"
  }
 },
 "nbformat": 4,
 "nbformat_minor": 2
}
