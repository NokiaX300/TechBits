{
 "cells": [
  {
   "cell_type": "code",
   "execution_count": null,
   "metadata": {},
   "outputs": [],
   "source": [
    "# GitLab\n",
    "# 获得一个服务器地址并输入密码\n",
    "# 项目-代码-使用HTTP克隆\n",
    "# 在本地选定文件夹-右键OpenGitBash-git clone [复制的链接]\n",
    "# VSCode中打开到根目录的文件夹"
   ]
  },
  {
   "cell_type": "code",
   "execution_count": null,
   "metadata": {},
   "outputs": [],
   "source": [
    "# JSON 的常见用途\n",
    "# 系统用 JSON 来保存设置\n",
    "# Web 应用或移动端本地存储数据\n",
    "# 客户端与服务器通信\n",
    "\n",
    "# JSON 不支持注释"
   ]
  },
  {
   "cell_type": "code",
   "execution_count": null,
   "metadata": {},
   "outputs": [],
   "source": [
    "# WIN+R 可以打开磁盘管理"
   ]
  },
  {
   "cell_type": "code",
   "execution_count": null,
   "metadata": {},
   "outputs": [],
   "source": [
    "# linux基本操作"
   ]
  },
  {
   "cell_type": "code",
   "execution_count": null,
   "metadata": {},
   "outputs": [],
   "source": [
    "# embedding基础知识\n",
    "# 31blue"
   ]
  },
  {
   "cell_type": "code",
   "execution_count": null,
   "metadata": {},
   "outputs": [],
   "source": [
    "# 包含 __init__.py 文件的目录都被认为是一个Python包\n",
    "\n",
    "# utils/\n",
    "# ├── __init__.py\n",
    "# ├── add.py\n",
    "# ├── subtract.py\n",
    "\n",
    "# 在 __init__.py 中\n",
    "# from .add import add\n",
    "# from .subtract import subtract\n",
    "# 现在就可以 from utils import add, subtract\n",
    "\n",
    "# 如果没有 __init__.py 就只能 from utils.add import add"
   ]
  }
 ],
 "metadata": {
  "kernelspec": {
   "display_name": "base",
   "language": "python",
   "name": "python3"
  },
  "language_info": {
   "name": "python",
   "version": "3.11.5"
  }
 },
 "nbformat": 4,
 "nbformat_minor": 2
}
