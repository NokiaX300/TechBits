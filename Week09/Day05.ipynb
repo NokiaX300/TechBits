{
 "cells": [
  {
   "cell_type": "code",
   "execution_count": null,
   "metadata": {},
   "outputs": [],
   "source": [
    "# 与 Pydantic 模型不同，dict 不需要事先定义字段的名称，只需要指定键和值的类型\n",
    "weights: dict[int, float]"
   ]
  },
  {
   "cell_type": "code",
   "execution_count": null,
   "metadata": {},
   "outputs": [],
   "source": [
    "# 可以使用 Config 和 schema_extra 为Pydantic模型声明一个示例"
   ]
  },
  {
   "cell_type": "code",
   "execution_count": null,
   "metadata": {},
   "outputs": [],
   "source": [
    "# UUID:\n",
    "# 一种标准的 \"通用唯一标识符\" ，在许多数据库和系统中用作ID\n",
    "# 在请求和响应中将以 str 表示"
   ]
  }
 ],
 "metadata": {
  "kernelspec": {
   "display_name": "base",
   "language": "python",
   "name": "python3"
  },
  "language_info": {
   "name": "python",
   "version": "3.11.5"
  }
 },
 "nbformat": 4,
 "nbformat_minor": 2
}
