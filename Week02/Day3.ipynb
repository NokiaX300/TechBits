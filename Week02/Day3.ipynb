{
 "cells": [
  {
   "cell_type": "markdown",
   "metadata": {},
   "source": [
    "MySQL"
   ]
  },
  {
   "cell_type": "code",
   "execution_count": null,
   "metadata": {
    "vscode": {
     "languageId": "plaintext"
    }
   },
   "outputs": [],
   "source": [
    "索引\n",
    "通过为特定的列创建索引，MySQL可以快速定位该列上的数据，减少扫描的行数\n",
    "大部分MySQL的索引结构是B+树"
   ]
  },
  {
   "cell_type": "markdown",
   "metadata": {},
   "source": [
    "<img src=\"BTREE.jpg\" style=\"zoom:50%\" />"
   ]
  },
  {
   "cell_type": "code",
   "execution_count": null,
   "metadata": {
    "vscode": {
     "languageId": "plaintext"
    }
   },
   "outputs": [],
   "source": [
    "B+Tree相对于B-Tree有几点不同：\n",
    "1.非叶子节点只存储键值信息\n",
    "2.所有叶子节点之间都有一个链指针\n",
    "3.数据记录都存放在叶子节点中\n",
    "\n",
    "数据库中，B+Tree的高度一般都在2~4层\n",
    "查找某一键值的行记录时最多只需要1~3次磁盘I/O操作"
   ]
  },
  {
   "cell_type": "markdown",
   "metadata": {},
   "source": [
    "<img src=\"B+TREE.jpg\" style=\"zoom:50%\" />"
   ]
  }
 ],
 "metadata": {
  "language_info": {
   "name": "python"
  }
 },
 "nbformat": 4,
 "nbformat_minor": 2
}
