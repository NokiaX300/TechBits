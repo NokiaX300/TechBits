{
 "cells": [
  {
   "cell_type": "code",
   "execution_count": null,
   "metadata": {},
   "outputs": [],
   "source": [
    "# HNSW\n",
    "# 基于图的近似最近邻搜索算法\n",
    "# 对 KNN 进行优化得到 ANN\n",
    "# 每层都是 NSW"
   ]
  },
  {
   "cell_type": "markdown",
   "metadata": {},
   "source": [
    "<img src=\"HNSW.png\\\" style=\"zoom:50%\">"
   ]
  },
  {
   "cell_type": "code",
   "execution_count": null,
   "metadata": {},
   "outputs": [],
   "source": [
    "# 向量类型WW\n",
    "# Dense Vectors\n",
    "[\n",
    "    -0.013052909,\n",
    "    0.020387933,\n",
    "    -0.032948174,\n",
    "    -0.062975034,\n",
    "    -0.024837125,\n",
    "    ....\n",
    "]\n",
    "# Sparse Vectors\n",
    "# 需要提供非零元素及其索引的列表\n",
    "{\n",
    "    \"points\": [\n",
    "        {\n",
    "            \"id\": 1,\n",
    "            \"vector\": {\n",
    "                \"text\": {\n",
    "                    \"indices\": [1, 3, 5, 7],\n",
    "                    \"values\": [0.1, 0.2, 0.3, 0.4]\n",
    "                }\n",
    "            }\n",
    "        }\n",
    "    ]\n",
    "}"
   ]
  },
  {
   "cell_type": "code",
   "execution_count": null,
   "metadata": {},
   "outputs": [],
   "source": [
    "# 分布式部署\n",
    "# 平衡成本、弹性和性能：运行具有复制分片的双节点 Qdrant 集群\n",
    "# 当一个节点关闭时，集群无法对集合执行操作。这些操作需要 >50% 的节点才能运行"
   ]
  },
  {
   "cell_type": "code",
   "execution_count": null,
   "metadata": {},
   "outputs": [],
   "source": [
    "# 内部通信端口默认6335\n",
    "# 应与外部隔离"
   ]
  },
  {
   "cell_type": "code",
   "execution_count": null,
   "metadata": {},
   "outputs": [],
   "source": [
    "# 分片确保具有不相交的点子集\n",
    "# 自动分片（一致性哈希算法）\n",
    "# 手动分片（多个用户隔离时很管用）\n",
    "\n",
    "# ID在不同分片中可能重复，尽量避免（可以添加全局唯一性检查）\n",
    "# 分片键是用于决定数据会被分布在哪个分片中的字段\n",
    "# replication_factor 复制"
   ]
  },
  {
   "cell_type": "markdown",
   "metadata": {},
   "source": [
    "<img src=\"hash.png\\\" style=\"zoom:50%\">"
   ]
  },
  {
   "cell_type": "code",
   "execution_count": 2,
   "metadata": {},
   "outputs": [
    {
     "data": {
      "text/plain": [
       "'5.72 G'"
      ]
     },
     "execution_count": 2,
     "metadata": {},
     "output_type": "execute_result"
    }
   ],
   "source": [
    "# RAM size\n",
    "# memory_size = number_of_vectors * vector_dimension * 4 bytes * 1.5\n",
    "\n",
    "# 1.5 是因为\n",
    "# 元数据（索引和点的版本信息）\n",
    "# 优化过程中会创建一些临时段\n",
    "def cal(number_of_vectors, vector_dimension=1024):\n",
    "    memory_size = number_of_vectors * vector_dimension * 4 * 1.5\n",
    "    memory_size /= (1024**3)\n",
    "    return f'{memory_size:.2f} G'\n",
    "cal(int(input()))"
   ]
  },
  {
   "cell_type": "code",
   "execution_count": null,
   "metadata": {},
   "outputs": [],
   "source": [
    "# 浮点数占用 8 个字节\n",
    "# 布尔字段占用 1 个字节\n",
    "# total_payload_size = number_of_points * payload_size * 1.5 "
   ]
  },
  {
   "cell_type": "code",
   "execution_count": null,
   "metadata": {},
   "outputs": [],
   "source": [
    "# RAM：随机存取存储器（Random Access Memory）\n",
    "# Disk：磁盘\n",
    "\n",
    "# 应该只将经常访问的数据存储在 RAM 中。其余的在磁盘上\n",
    "# 不用于筛选的额外负载字段可以存储在磁盘上"
   ]
  }
 ],
 "metadata": {
  "kernelspec": {
   "display_name": "test",
   "language": "python",
   "name": "python3"
  },
  "language_info": {
   "codemirror_mode": {
    "name": "ipython",
    "version": 3
   },
   "file_extension": ".py",
   "mimetype": "text/x-python",
   "name": "python",
   "nbconvert_exporter": "python",
   "pygments_lexer": "ipython3",
   "version": "3.12.7"
  }
 },
 "nbformat": 4,
 "nbformat_minor": 2
}
