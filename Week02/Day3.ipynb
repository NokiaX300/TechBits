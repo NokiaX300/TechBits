{
 "cells": [
  {
   "cell_type": "markdown",
   "metadata": {},
   "source": [
    "MySQL"
   ]
  },
  {
   "cell_type": "code",
   "execution_count": null,
   "metadata": {
    "vscode": {
     "languageId": "plaintext"
    }
   },
   "outputs": [],
   "source": [
    "索引\n",
    "通过为特定的列创建索引，MySQL可以快速定位该列上的数据，减少扫描的行数\n",
    "大部分MySQL的索引结构是B+树"
   ]
  },
  {
   "cell_type": "markdown",
   "metadata": {},
   "source": [
    "<img src=\"BTREE.jpg\" style=\"zoom:50%\" />"
   ]
  },
  {
   "cell_type": "code",
   "execution_count": null,
   "metadata": {
    "vscode": {
     "languageId": "plaintext"
    }
   },
   "outputs": [],
   "source": [
    "B+Tree相对于B-Tree有几点不同：\n",
    "1.非叶子节点只存储键值信息\n",
    "2.所有叶子节点之间都有一个链指针\n",
    "3.数据记录都存放在叶子节点中\n",
    "\n",
    "数据库中，B+Tree的高度一般都在2~4层\n",
    "查找某一键值的行记录时最多只需要1~3次磁盘I/O操作"
   ]
  },
  {
   "cell_type": "markdown",
   "metadata": {},
   "source": [
    "<img src=\"B+TREE.jpg\" style=\"zoom:50%\" />"
   ]
  },
  {
   "cell_type": "code",
   "execution_count": null,
   "metadata": {
    "vscode": {
     "languageId": "plaintext"
    }
   },
   "outputs": [],
   "source": [
    "B-Tree 和 B+Tree 都可以实现随机查找，但 B+Tree 的顺序查找效率更高"
   ]
  },
  {
   "cell_type": "code",
   "execution_count": null,
   "metadata": {
    "vscode": {
     "languageId": "plaintext"
    }
   },
   "outputs": [],
   "source": [
    "InnoDB 存储引擎有一个特殊的功能叫“自适应哈希索引”，\n",
    "当某个索引值被使用的非常频繁时，会在 B+Tree 索引之上再创建一个哈希索引，\n",
    "这样就让 B+Tree 索引具有哈希索引的一些优点，比如快速的哈希查找。"
   ]
  },
  {
   "cell_type": "code",
   "execution_count": null,
   "metadata": {
    "vscode": {
     "languageId": "plaintext"
    }
   },
   "outputs": [],
   "source": [
    "对于特大型的表，使用分区技术"
   ]
  },
  {
   "cell_type": "code",
   "execution_count": null,
   "metadata": {
    "vscode": {
     "languageId": "plaintext"
    }
   },
   "outputs": [],
   "source": [
    "CHAR 定长\n",
    "VARCHAR 变长"
   ]
  },
  {
   "cell_type": "code",
   "execution_count": null,
   "metadata": {
    "vscode": {
     "languageId": "plaintext"
    }
   },
   "outputs": [],
   "source": [
    "尽量使用 TIMESTAMP，因为它比 DATETIME 空间效率更高"
   ]
  },
  {
   "cell_type": "code",
   "execution_count": null,
   "metadata": {
    "vscode": {
     "languageId": "plaintext"
    }
   },
   "outputs": [],
   "source": [
    "水平切分又称为 Sharding，它是将同一个表中的记录拆分到多个结构相同的表中。\n",
    "Sharding 策略\n",
    "哈希取模：hash(key) % N"
   ]
  }
 ],
 "metadata": {
  "language_info": {
   "name": "python"
  }
 },
 "nbformat": 4,
 "nbformat_minor": 2
}
