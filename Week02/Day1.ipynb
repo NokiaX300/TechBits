{
 "cells": [
  {
   "cell_type": "code",
   "execution_count": null,
   "metadata": {
    "vscode": {
     "languageId": "sql"
    }
   },
   "outputs": [],
   "source": [
    "-- 176. 第二高的薪水\n",
    "-- https://leetcode.cn/problems/second-highest-salary/description/?envType=study-plan-v2&envId=sql-free-50\n",
    "\n",
    "SELECT IFNULL(\n",
    "    (\n",
    "        SELECT A.salary\n",
    "        FROM Employee A\n",
    "        WHERE 1 = (\n",
    "            SELECT COUNT(DISTINCT B.salary)\n",
    "            FROM Employee B\n",
    "            WHERE B.salary > A.salary\n",
    "        )\n",
    "        LIMIT 1\n",
    "    ), NULL\n",
    ") AS SecondHighestSalary"
   ]
  },
  {
   "cell_type": "code",
   "execution_count": null,
   "metadata": {
    "vscode": {
     "languageId": "sql"
    }
   },
   "outputs": [],
   "source": [
    "-- 1484. 按日期分组销售产品\n",
    "-- https://leetcode.cn/problems/group-sold-products-by-the-date/description/?envType=study-plan-v2&envId=sql-free-50\n",
    "\n",
    "-- GROUP_CONCAT(\n",
    "--     DISTINCT expression1\n",
    "--     ORDER BY expression2\n",
    "--     SEPARATOR sep\n",
    "-- )\n",
    "SELECT\n",
    "    sell_date,\n",
    "    COUNT(DISTINCT(product)) num_sold,\n",
    "    GROUP_CONCAT(\n",
    "        DISTINCT product\n",
    "        ORDER BY product\n",
    "        SEPARATOR ','\n",
    "    ) products\n",
    "FROM Activities\n",
    "GROUP BY sell_date\n",
    "ORDER BY sell_date"
   ]
  },
  {
   "cell_type": "code",
   "execution_count": null,
   "metadata": {
    "vscode": {
     "languageId": "sql"
    }
   },
   "outputs": [],
   "source": [
    "-- 1327. 列出指定时间段内所有的下单产品\n",
    "-- https://leetcode.cn/problems/list-the-products-ordered-in-a-period/description/?envType=study-plan-v2&envId=sql-free-50\n",
    "\n"
   ]
  }
 ],
 "metadata": {
  "language_info": {
   "name": "python"
  }
 },
 "nbformat": 4,
 "nbformat_minor": 2
}
