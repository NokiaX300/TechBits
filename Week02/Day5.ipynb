{
 "cells": [
  {
   "cell_type": "code",
   "execution_count": null,
   "metadata": {},
   "outputs": [],
   "source": [
    "# deleted_threshold\n",
    "# 已删除向量的数量占该段中总向量数量的比例达到阈值时，触发段优化\n",
    "# 回收被删除向量"
   ]
  },
  {
   "cell_type": "code",
   "execution_count": null,
   "metadata": {},
   "outputs": [],
   "source": [
    "# default_segment_number\n",
    "\n",
    "# =16 最小化延迟（单个请求所花费的时间）\n",
    "# =2 最大化吞吐量（每秒处理的请求数）\n",
    "# =0 根据 CPU 核心数自动选择"
   ]
  },
  {
   "cell_type": "code",
   "execution_count": null,
   "metadata": {},
   "outputs": [],
   "source": [
    "# memmap_threshold\n",
    "\n",
    "# 当一个 segment 中存储的向量数据的大小小于或等于 memmap_threshold 时，\n",
    "# 这些向量数据将存储在内存中。内存存储的优点是访问速度快，适合于快速的数据检索和操作，因为内存的读写速度通常比磁盘快很多。\n",
    "# 当一个 segment 中存储的向量数据的大小超过 memmap_threshold 时，\n",
    "# 该 segment 将以只读的内存映射文件（memory-mapped file）的形式存储。\n",
    "# 内存映射文件是一种将磁盘文件映射到内存地址空间的技术，允许文件的部分内容被加载到内存中进行访问，\n",
    "# 同时在需要时将其他部分从磁盘交换到内存中，以节省内存空间。"
   ]
  },
  {
   "cell_type": "code",
   "execution_count": null,
   "metadata": {},
   "outputs": [],
   "source": [
    "# flush_interval_sec 决定了将缓存中的数据强制刷新到磁盘的时间间隔"
   ]
  },
  {
   "cell_type": "code",
   "execution_count": null,
   "metadata": {},
   "outputs": [],
   "source": [
    "# max_optimization_threads 指定每个分片（shard）运行优化操作时可使用的最大线程数\n",
    "# =0 时禁用优化线程\n",
    "\n",
    "# 注意 max_indexing_threads 也占用线程，两个不同阶段一般不竞争\n",
    "# 一个进程可以包含多个线程，它们共享进程的资源，如内存空间、文件描述符等\n",
    "# max_indexing_threads=0 automatically select from 8 to 16"
   ]
  },
  {
   "cell_type": "code",
   "execution_count": null,
   "metadata": {},
   "outputs": [],
   "source": [
    "# QuantizationConfig = Union[\n",
    "#     ScalarQuantization,\n",
    "#     ProductQuantization,\n",
    "#     BinaryQuantization,\n",
    "# ]"
   ]
  },
  {
   "cell_type": "code",
   "execution_count": null,
   "metadata": {},
   "outputs": [],
   "source": [
    "# wal_config\n",
    "# Write-Ahead Logging\n",
    "\n",
    "# wal_capacity_mb：\n",
    "# 指定了 WAL 的容量大小\n",
    "\n",
    "# wal_segments_ahead\n",
    "# 对于高并发的数据操作，将 wal_segments_ahead 设置为一个较大的值可以减少 WAL 段分配的开销"
   ]
  },
  {
   "cell_type": "code",
   "execution_count": null,
   "metadata": {},
   "outputs": [],
   "source": [
    "# replication_factor 仅适用于分布式\n",
    "# 如果 replication_factor 为 2，每个分片将有两份副本，存储在不同的节点上，\n",
    "# 这样即使一个节点失效，数据仍然可以通过另一个节点上的副本进行访问"
   ]
  },
  {
   "cell_type": "code",
   "execution_count": null,
   "metadata": {},
   "outputs": [],
   "source": [
    "# ID是否自带索引？\n",
    "\n",
    "# 自动生成的是唯一的 ID（64 位无符号整数）\n",
    "# 或者自定义 uuid\n",
    "\n",
    "# 以下为推断\n",
    "# 由于Qdrant的API提供了直接通过id进行增删改查的接口（例如upsert、delete），这些操作依赖于id索引的高效性\n",
    "# 在需要根据id检索、更新或删除点时，直接调用相关API即可\n",
    "# 手动为id创建索引可能导致资源浪费，因为系统已默认支持"
   ]
  },
  {
   "cell_type": "code",
   "execution_count": null,
   "metadata": {},
   "outputs": [],
   "source": [
    "# 一个point\n",
    "# 两个vector\n",
    "# bge 和 bm42\n",
    "# 一个payload\n",
    "\n",
    "# 检索时可以选择 bge 或 bm42"
   ]
  }
 ],
 "metadata": {
  "kernelspec": {
   "display_name": "test",
   "language": "python",
   "name": "python3"
  },
  "language_info": {
   "name": "python",
   "version": "3.12.7"
  }
 },
 "nbformat": 4,
 "nbformat_minor": 2
}
