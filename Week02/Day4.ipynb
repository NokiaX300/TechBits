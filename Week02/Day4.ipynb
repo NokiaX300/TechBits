{
 "cells": [
  {
   "cell_type": "markdown",
   "metadata": {},
   "source": [
    "Redis"
   ]
  },
  {
   "cell_type": "code",
   "execution_count": null,
   "metadata": {
    "vscode": {
     "languageId": "plaintext"
    }
   },
   "outputs": [],
   "source": [
    "Redis 是速度非常快的非关系型（NoSQL）内存键值数据库"
   ]
  },
  {
   "cell_type": "code",
   "execution_count": null,
   "metadata": {
    "vscode": {
     "languageId": "plaintext"
    }
   },
   "outputs": [],
   "source": [
    "拉链法\n",
    "为避免不同关键字会被映射到同一个地址空间中，便将所有同义词存储在同一个线性链表中"
   ]
  }
 ],
 "metadata": {
  "language_info": {
   "name": "python"
  }
 },
 "nbformat": 4,
 "nbformat_minor": 2
}
