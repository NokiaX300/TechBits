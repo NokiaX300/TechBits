{
 "cells": [
  {
   "cell_type": "code",
   "execution_count": null,
   "metadata": {},
   "outputs": [],
   "source": [
    "for point in updated_data:\n",
    "    id_ = point['metadata']['uuid']\n",
    "    print(id_)\n",
    "    # 使用稠密加稀疏向量格式便于后续混合检索\n",
    "    # vector_ = {\n",
    "    #             \"bge\": bge_t(point['page_content']),\n",
    "    #             \"bm42\": bm42_t(point['page_content'])\n",
    "    #         }, \n",
    "\n",
    "    # payload_ = point\n",
    "    # final_points.append(PointStruct(\n",
    "    #     id=id_,\n",
    "    #     vector=vector_,\n",
    "    #     payload=payload_\n",
    "    # ))"
   ]
  },
  {
   "cell_type": "code",
   "execution_count": null,
   "metadata": {},
   "outputs": [],
   "source": [
    "# \"uuid\": str(uuid5(NAMESPACE_DNS, split_doc))\n",
    "# 故若切分后的 split_doc 恰好相同，则 uuid 相同\n",
    "# 建议在最初确定 uuid 时将 split_doc 替换为 title+valid_time+split_doc"
   ]
  },
  {
   "cell_type": "code",
   "execution_count": null,
   "metadata": {},
   "outputs": [],
   "source": [
    "# 403 Forbidden\n",
    "# 权限问题\n",
    "\n",
    "# 404 Not Found\n",
    "# 服务器找不到客户端请求的资源\n",
    "\n",
    "# 422 Unprocessable Entity\n",
    "# 客户端提供的数据格式或者内容不符合服务器预期的情况\n",
    "\n",
    "# 423 Locked\n",
    "# 被请求的资源被锁定\n",
    "\n",
    "# 500 Internal Server Error\n",
    "# 服务器在处理请求时出现的意外错误"
   ]
  },
  {
   "cell_type": "code",
   "execution_count": null,
   "metadata": {},
   "outputs": [],
   "source": [
    "# 创建临时路径\n",
    "if not os.path.exists(settings.TEMP_FILE_PATH):\n",
    "    os.makedirs(settings.TEMP_FILE_PATH, exist_ok=True)\n",
    "\n",
    "# 末尾添加删除临时文件代码\n",
    "if os.path.exists(settings.TEMP_FILE_PATH):\n",
    "    shutil.rmtree(settings.TEMP_FILE_PATH)"
   ]
  },
  {
   "cell_type": "code",
   "execution_count": null,
   "metadata": {},
   "outputs": [],
   "source": [
    ",\n",
    "    {\n",
    "        \"metadata\": {\n",
    "            \"uuid\": \"690819e6-3d6c-5230-8da7-1d3867b070fe\",\n",
    "            \"other_key\": \"value2\"\n",
    "        },\n",
    "        \"page_content\": \"我是原始数据 2\"\n",
    "    },\n",
    "    {\n",
    "        \"metadata\": {\n",
    "            \"uuid\": \"bad34c41-7fa3-56bc-8fef-8bfc4bbb5bb6\",\n",
    "            \"other_key\": \"value3\"\n",
    "        },\n",
    "        \"page_content\": \"我是原始数据 3\"\n",
    "    }"
   ]
  },
  {
   "cell_type": "code",
   "execution_count": 1,
   "metadata": {},
   "outputs": [
    {
     "name": "stdout",
     "output_type": "stream",
     "text": [
      "2025-02-10 14:45:53.json\n",
      "20250210144553.json\n"
     ]
    }
   ],
   "source": [
    "import datetime\n",
    "\n",
    "def get_current_time():\n",
    "    return datetime.datetime.now().strftime(\"%Y-%m-%d %H:%M:%S\")\n",
    "\n",
    "timestamp = datetime.datetime.now().strftime(\"%Y%m%d%H%M%S\")\n",
    "\n",
    "print(f\"{get_current_time()}.json\")\n",
    "print(f\"{timestamp}.json\")"
   ]
  },
  {
   "cell_type": "code",
   "execution_count": 2,
   "metadata": {},
   "outputs": [
    {
     "data": {
      "text/plain": [
       "'法典'"
      ]
     },
     "execution_count": 2,
     "metadata": {},
     "output_type": "execute_result"
    }
   ],
   "source": [
    "# 从字符串的右侧开始进行分割\n",
    "# maxsplit：指定最大分割次数\n",
    "name= '法典_20250123100000.json'\n",
    "name.rsplit('_', 1)[0]"
   ]
  },
  {
   "cell_type": "code",
   "execution_count": null,
   "metadata": {},
   "outputs": [],
   "source": [
    "# 注意：\n",
    "# poetry run python run.py 后修改代码不会影响运行中的进程\n",
    "# 所以想修改代码需要先 ctrl+c 停止当前进程"
   ]
  }
 ],
 "metadata": {
  "kernelspec": {
   "display_name": "test",
   "language": "python",
   "name": "python3"
  },
  "language_info": {
   "codemirror_mode": {
    "name": "ipython",
    "version": 3
   },
   "file_extension": ".py",
   "mimetype": "text/x-python",
   "name": "python",
   "nbconvert_exporter": "python",
   "pygments_lexer": "ipython3",
   "version": "3.12.7"
  }
 },
 "nbformat": 4,
 "nbformat_minor": 2
}
