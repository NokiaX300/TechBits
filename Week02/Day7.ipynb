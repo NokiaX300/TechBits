{
 "cells": [
  {
   "cell_type": "code",
   "execution_count": null,
   "metadata": {},
   "outputs": [],
   "source": [
    "# 创建临时路径\n",
    "if not os.path.exists(settings.TEMP_FILE_PATH):\n",
    "    os.makedirs(settings.TEMP_FILE_PATH, exist_ok=True)\n",
    "\n",
    "# 末尾添加删除临时文件代码\n",
    "if os.path.exists(settings.TEMP_FILE_PATH):\n",
    "    shutil.rmtree(settings.TEMP_FILE_PATH)"
   ]
  },
  {
   "cell_type": "code",
   "execution_count": null,
   "metadata": {},
   "outputs": [],
   "source": [
    ",\n",
    "    {\n",
    "        \"metadata\": {\n",
    "            \"uuid\": \"690819e6-3d6c-5230-8da7-1d3867b070fe\",\n",
    "            \"other_key\": \"value2\"\n",
    "        },\n",
    "        \"page_content\": \"我是原始数据 2\"\n",
    "    },\n",
    "    {\n",
    "        \"metadata\": {\n",
    "            \"uuid\": \"bad34c41-7fa3-56bc-8fef-8bfc4bbb5bb6\",\n",
    "            \"other_key\": \"value3\"\n",
    "        },\n",
    "        \"page_content\": \"我是原始数据 3\"\n",
    "    }"
   ]
  },
  {
   "cell_type": "code",
   "execution_count": 1,
   "metadata": {},
   "outputs": [
    {
     "name": "stdout",
     "output_type": "stream",
     "text": [
      "2025-02-10 14:45:53.json\n",
      "20250210144553.json\n"
     ]
    }
   ],
   "source": [
    "import datetime\n",
    "\n",
    "def get_current_time():\n",
    "    return datetime.datetime.now().strftime(\"%Y-%m-%d %H:%M:%S\")\n",
    "\n",
    "timestamp = datetime.datetime.now().strftime(\"%Y%m%d%H%M%S\")\n",
    "\n",
    "print(f\"{get_current_time()}.json\")\n",
    "print(f\"{timestamp}.json\")"
   ]
  },
  {
   "cell_type": "code",
   "execution_count": 2,
   "metadata": {},
   "outputs": [
    {
     "data": {
      "text/plain": [
       "'法典'"
      ]
     },
     "execution_count": 2,
     "metadata": {},
     "output_type": "execute_result"
    }
   ],
   "source": [
    "# 从字符串的右侧开始进行分割\n",
    "# maxsplit：指定最大分割次数\n",
    "name= '法典_20250123100000.json'\n",
    "name.rsplit('_', 1)[0]"
   ]
  }
 ],
 "metadata": {
  "kernelspec": {
   "display_name": "test",
   "language": "python",
   "name": "python3"
  },
  "language_info": {
   "codemirror_mode": {
    "name": "ipython",
    "version": 3
   },
   "file_extension": ".py",
   "mimetype": "text/x-python",
   "name": "python",
   "nbconvert_exporter": "python",
   "pygments_lexer": "ipython3",
   "version": "3.12.7"
  }
 },
 "nbformat": 4,
 "nbformat_minor": 2
}
