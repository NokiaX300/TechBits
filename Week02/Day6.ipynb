{
 "cells": [
  {
   "cell_type": "code",
   "execution_count": null,
   "metadata": {},
   "outputs": [],
   "source": [
    "# Qdrant/bm42-all-minilm-l6-v2-attentions\n",
    "# import os\n",
    "# os.environ[\"HF_ENDPOINT\"] = \"https://hf-mirror.com\"\n",
    "# 原代码针对英文\n",
    "# 微调后获得了一份针对中文的代码"
   ]
  },
  {
   "cell_type": "code",
   "execution_count": null,
   "metadata": {},
   "outputs": [],
   "source": [
    "# 模型可以从 hf-mirror.com 下载到本地\n",
    "# model_bm42 = SparseTextEmbedding(model_name=\"Qdrant/bm42-all-minilm-l6-v2-attentions\", cache_dir='W:\\\\Work\\\\Qdrant')"
   ]
  },
  {
   "cell_type": "code",
   "execution_count": null,
   "metadata": {},
   "outputs": [],
   "source": [
    "# local_files_only=True 0.1s调用完成\n",
    "model_bm42 = SparseTextEmbedding(model_name=\"Qdrant/bm42-all-minilm-l6-v2-attentions\", cache_dir= '/home/datagov/model/embedding', local_files_only=True)"
   ]
  },
  {
   "cell_type": "code",
   "execution_count": null,
   "metadata": {},
   "outputs": [],
   "source": [
    "# 将 np.ndarray 转换为字典\n",
    "for key, value in result.items():\n",
    "    result[key] = value.tolist()"
   ]
  },
  {
   "cell_type": "code",
   "execution_count": null,
   "metadata": {},
   "outputs": [],
   "source": [
    "# 配置环境变量\n",
    "# 将路径添加到系统变量的PATH中\n",
    "# Win + R→sysdm.cpl→高级→环境变量"
   ]
  },
  {
   "cell_type": "markdown",
   "metadata": {},
   "source": [
    "<img src=\"path.png\\\" style=\"zoom:50%\">"
   ]
  },
  {
   "cell_type": "code",
   "execution_count": null,
   "metadata": {},
   "outputs": [],
   "source": [
    "# C:\\Users\\DELL\\AppData\\Roaming\\Python\\Scripts\\poetry --version\n",
    "# poetry init\n",
    "# poetry install --no-root\n",
    "# poetry shell\n",
    "# poetry show\n",
    "# poetry list\n",
    "# poetry run python run.py\n",
    "# poetry add uuid"
   ]
  },
  {
   "cell_type": "code",
   "execution_count": null,
   "metadata": {},
   "outputs": [],
   "source": [
    "# 测试集\n",
    "{\n",
    "    \"file_path\": \"W:/Work/Input/knowledge_input/test.json\",\n",
    "    \"verified_data\": [\n",
    "        {\n",
    "            \"uuid\": \"uuid1\",\n",
    "            \"verified_content\": \"verified content 1\"\n",
    "        },\n",
    "        {\n",
    "            \"uuid\": \"uuid3\",\n",
    "            \"verified_content\": \"verified content 3\"\n",
    "        }\n",
    "    ]\n",
    "}"
   ]
  },
  {
   "cell_type": "code",
   "execution_count": null,
   "metadata": {},
   "outputs": [],
   "source": [
    "# id 是个函数，不能用作变量名"
   ]
  },
  {
   "cell_type": "code",
   "execution_count": null,
   "metadata": {},
   "outputs": [],
   "source": [
    "updated_data=[\n",
    "    {\n",
    "        \"metadata\": {\n",
    "            \"uuid\": \"uuid1\",\n",
    "            \"other_key\": \"value1\"\n",
    "        },\n",
    "        \"page_content\": \"original content 1\"\n",
    "    },\n",
    "    {\n",
    "        \"metadata\": {\n",
    "            \"uuid\": \"uuid2\",\n",
    "            \"other_key\": \"value2\"\n",
    "        },\n",
    "        \"page_content\": \"original content 2\"\n",
    "    },\n",
    "    {\n",
    "        \"metadata\": {\n",
    "            \"uuid\": \"uuid3\",\n",
    "            \"other_key\": \"value3\"\n",
    "        },\n",
    "        \"page_content\": \"original content 3\"\n",
    "    }\n",
    "]"
   ]
  }
 ],
 "metadata": {
  "kernelspec": {
   "display_name": "test",
   "language": "python",
   "name": "python3"
  },
  "language_info": {
   "codemirror_mode": {
    "name": "ipython",
    "version": 3
   },
   "file_extension": ".py",
   "mimetype": "text/x-python",
   "name": "python",
   "nbconvert_exporter": "python",
   "pygments_lexer": "ipython3",
   "version": "3.12.7"
  }
 },
 "nbformat": 4,
 "nbformat_minor": 2
}
