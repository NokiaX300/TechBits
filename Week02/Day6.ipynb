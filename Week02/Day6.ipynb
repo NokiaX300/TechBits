{
 "cells": [
  {
   "cell_type": "code",
   "execution_count": null,
   "metadata": {},
   "outputs": [],
   "source": [
    "# Qdrant/bm42-all-minilm-l6-v2-attentions\n",
    "# import os\n",
    "# os.environ[\"HF_ENDPOINT\"] = \"https://hf-mirror.com\"\n",
    "# 原代码针对英文\n",
    "# 微调后获得了一份针对中文的代码"
   ]
  },
  {
   "cell_type": "code",
   "execution_count": null,
   "metadata": {},
   "outputs": [],
   "source": [
    "# 模型可以从 hf-mirror.com 下载到本地\n",
    "# model_bm42 = SparseTextEmbedding(model_name=\"Qdrant/bm42-all-minilm-l6-v2-attentions\", cache_dir='W:\\\\Work\\\\Qdrant')"
   ]
  },
  {
   "cell_type": "code",
   "execution_count": null,
   "metadata": {},
   "outputs": [],
   "source": [
    "# local_files_only=True 0.1s调用完成\n",
    "model_bm42 = SparseTextEmbedding(model_name=\"Qdrant/bm42-all-minilm-l6-v2-attentions\", cache_dir= '/home/datagov/model/embedding', local_files_only=True)"
   ]
  },
  {
   "cell_type": "code",
   "execution_count": null,
   "metadata": {},
   "outputs": [],
   "source": [
    "# 将 np.ndarray 转换为字典\n",
    "for key, value in result.items():\n",
    "    result[key] = value.tolist()"
   ]
  },
  {
   "cell_type": "code",
   "execution_count": null,
   "metadata": {},
   "outputs": [],
   "source": [
    "# 测试集\n",
    "{\n",
    "    \"file_path\": \"W:/Work/Input/knowledge_input/test.json\",\n",
    "    \"verified_data\": [\n",
    "        {\n",
    "            \"uuid\": \"uuid1\",\n",
    "            \"verified_content\": \"verified content 1\"\n",
    "        },\n",
    "        {\n",
    "            \"uuid\": \"uuid3\",\n",
    "            \"verified_content\": \"verified content 3\"\n",
    "        }\n",
    "    ]\n",
    "}"
   ]
  },
  {
   "cell_type": "code",
   "execution_count": null,
   "metadata": {},
   "outputs": [],
   "source": [
    "for point in updated_data:\n",
    "    id_ = point['metadata']['uuid']\n",
    "    print(id_)\n",
    "    # 使用稠密加稀疏向量格式便于后续混合检索\n",
    "    # vector_ = {\n",
    "    #             \"bge\": bge_t(point['page_content']),\n",
    "    #             \"bm42\": bm42_t(point['page_content'])\n",
    "    #         }, \n",
    "\n",
    "    # payload_ = point\n",
    "    # final_points.append(PointStruct(\n",
    "    #     id=id_,\n",
    "    #     vector=vector_,\n",
    "    #     payload=payload_\n",
    "    # ))"
   ]
  },
  {
   "cell_type": "code",
   "execution_count": null,
   "metadata": {},
   "outputs": [],
   "source": [
    "# \"uuid\": str(uuid5(NAMESPACE_DNS, split_doc))\n",
    "# 故若切分后的 split_doc 恰好相同，则 uuid 相同\n",
    "# 建议在最初确定 uuid 时将 split_doc 替换为 title+valid_time+split_doc"
   ]
  },
  {
   "cell_type": "code",
   "execution_count": null,
   "metadata": {},
   "outputs": [],
   "source": [
    "# 403 Forbidden\n",
    "# 权限问题\n",
    "\n",
    "# 404 Not Found\n",
    "# 服务器找不到客户端请求的资源\n",
    "\n",
    "# 422 Unprocessable Entity\n",
    "# 客户端提供的数据格式或者内容不符合服务器预期的情况\n",
    "\n",
    "# 423 Locked\n",
    "# 被请求的资源被锁定\n",
    "\n",
    "# 500 Internal Server Error\n",
    "# 服务器在处理请求时出现的意外错误"
   ]
  },
  {
   "cell_type": "code",
   "execution_count": null,
   "metadata": {},
   "outputs": [],
   "source": [
    "# id 是个函数，不能用作变量名"
   ]
  },
  {
   "cell_type": "code",
   "execution_count": null,
   "metadata": {},
   "outputs": [],
   "source": [
    "updated_data=[\n",
    "    {\n",
    "        \"metadata\": {\n",
    "            \"uuid\": \"uuid1\",\n",
    "            \"other_key\": \"value1\"\n",
    "        },\n",
    "        \"page_content\": \"original content 1\"\n",
    "    },\n",
    "    {\n",
    "        \"metadata\": {\n",
    "            \"uuid\": \"uuid2\",\n",
    "            \"other_key\": \"value2\"\n",
    "        },\n",
    "        \"page_content\": \"original content 2\"\n",
    "    },\n",
    "    {\n",
    "        \"metadata\": {\n",
    "            \"uuid\": \"uuid3\",\n",
    "            \"other_key\": \"value3\"\n",
    "        },\n",
    "        \"page_content\": \"original content 3\"\n",
    "    }\n",
    "]"
   ]
  }
 ],
 "metadata": {
  "kernelspec": {
   "display_name": "test",
   "language": "python",
   "name": "python3"
  },
  "language_info": {
   "codemirror_mode": {
    "name": "ipython",
    "version": 3
   },
   "file_extension": ".py",
   "mimetype": "text/x-python",
   "name": "python",
   "nbconvert_exporter": "python",
   "pygments_lexer": "ipython3",
   "version": "3.12.7"
  }
 },
 "nbformat": 4,
 "nbformat_minor": 2
}
