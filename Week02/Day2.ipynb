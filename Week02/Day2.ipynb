{
 "cells": [
  {
   "cell_type": "markdown",
   "metadata": {},
   "source": [
    "数据库系统原理"
   ]
  },
  {
   "cell_type": "code",
   "execution_count": null,
   "metadata": {
    "vscode": {
     "languageId": "plaintext"
    }
   },
   "outputs": [],
   "source": [
    "ACID\n",
    "原子性（Atomicity）\n",
    "一致性（Consistency）\n",
    "隔离性（Isolation）\n",
    "持久性（Durability）"
   ]
  },
  {
   "cell_type": "code",
   "execution_count": null,
   "metadata": {
    "vscode": {
     "languageId": "plaintext"
    }
   },
   "outputs": [],
   "source": [
    "脏读 Dirty read\n",
    "脏读是指读到了别人没有commit的data。\n",
    "一个transaction虽然往数据库写了data，但是它还是可以反悔的，选择rollback。\n",
    "而脏读就是别的transaction还没有commit，就把数据读取了，结果别的transaction反悔了(rollback)。"
   ]
  },
  {
   "cell_type": "code",
   "execution_count": null,
   "metadata": {
    "vscode": {
     "languageId": "plaintext"
    }
   },
   "outputs": [],
   "source": [
    "不可重复读 non-repeatable read\n",
    "相同的记录重复读取结果不一样，因为transaction B 在A准备读第二次的时候，将数据篡改并commit了"
   ]
  },
  {
   "cell_type": "code",
   "execution_count": null,
   "metadata": {
    "vscode": {
     "languageId": "plaintext"
    }
   },
   "outputs": [],
   "source": [
    "幻影读 photom read\n",
    "两次搜索相同条件的数据时候，返回的数据不一样，比如行数不对了。因为另一个事务在该范围内插入了数据"
   ]
  },
  {
   "cell_type": "code",
   "execution_count": null,
   "metadata": {
    "vscode": {
     "languageId": "plaintext"
    }
   },
   "outputs": [],
   "source": [
    "锁定的数据量越少，发生锁争用的可能就越小，系统的并发程度就越高。但是加锁需要消耗资源。\n",
    "在选择封锁粒度时，需要在锁开销和并发程度之间做一个权衡。"
   ]
  },
  {
   "cell_type": "code",
   "execution_count": null,
   "metadata": {
    "vscode": {
     "languageId": "plaintext"
    }
   },
   "outputs": [],
   "source": [
    "共享锁（Shared Lock）：又称读锁\n",
    "只读+禁写。加锁期间其它事务能加读锁\n",
    "\n",
    "排他锁（Exclusive Lock）：又称写锁\n",
    "禁读+禁写"
   ]
  },
  {
   "cell_type": "code",
   "execution_count": null,
   "metadata": {
    "vscode": {
     "languageId": "plaintext"
    }
   },
   "outputs": [],
   "source": [
    "表级锁：开销较小，但并发性较差\n",
    "行级锁：支持高并发但开销较大"
   ]
  },
  {
   "cell_type": "code",
   "execution_count": null,
   "metadata": {
    "vscode": {
     "languageId": "plaintext"
    }
   },
   "outputs": [],
   "source": [
    "死锁：\n",
    "当两个事务互相等待对方持有的锁时，会发生死锁。\n",
    "MySQL的InnoDB引擎可以自动检测死锁，并通过回滚其中一个事务来解决问题。"
   ]
  },
  {
   "cell_type": "code",
   "execution_count": null,
   "metadata": {
    "vscode": {
     "languageId": "plaintext"
    }
   },
   "outputs": [],
   "source": [
    "任意 IS/IX 锁之间都是兼容的，因为它们只表示想要对表加锁，而不是真正加锁"
   ]
  },
  {
   "cell_type": "code",
   "execution_count": null,
   "metadata": {
    "vscode": {
     "languageId": "plaintext"
    }
   },
   "outputs": [],
   "source": [
    "Read Uncommitted\n",
    "最不严格的隔离级别\n",
    "\n",
    "Read Committed\n",
    "解决脏读，默认隔离级别\n",
    "\n",
    "Repeatable Read\n",
    "解决不可重复读\n",
    "\n",
    "Serializable\n",
    "解决幻读，无任何并发问题，所有事务以严格的顺序执行。性能会显著降低"
   ]
  },
  {
   "cell_type": "code",
   "execution_count": null,
   "metadata": {
    "vscode": {
     "languageId": "plaintext"
    }
   },
   "outputs": [],
   "source": [
    "1NF: 每一列都是不可分割的最小数据单位\n",
    "2NF: 非主属性必须依赖于整个主键\n",
    "3NF: 非主属性不能依赖于其他非主属性，必须直接依赖于主键"
   ]
  }
 ],
 "metadata": {
  "language_info": {
   "name": "python"
  }
 },
 "nbformat": 4,
 "nbformat_minor": 2
}
