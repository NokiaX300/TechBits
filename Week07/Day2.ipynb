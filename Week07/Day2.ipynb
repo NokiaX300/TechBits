{
 "cells": [
  {
   "cell_type": "code",
   "execution_count": null,
   "metadata": {
    "vscode": {
     "languageId": "plaintext"
    }
   },
   "outputs": [],
   "source": [
    "Q:  如果你和别人产生冲突怎么办\n",
    "A:  及时去沟通，说出自己的真实感受，也去理解对方的感受，及时把误会解除\n",
    "    当冲突一直无法解决，而冲突各方仅仅是为了工作，并没有私人情感因素在里面，此时最好的解决方法是用事实说话，用过往的或者可以论证的数据、事实证明某方建议的合理性\n",
    "    ！不可以说：我这个人性格挺随和的，一般不和别人起冲突"
   ]
  },
  {
   "cell_type": "code",
   "execution_count": null,
   "metadata": {
    "vscode": {
     "languageId": "plaintext"
    }
   },
   "outputs": [],
   "source": [
    "S:  数分需要外向、领导能力、沟通能力"
   ]
  },
  {
   "cell_type": "code",
   "execution_count": null,
   "metadata": {
    "vscode": {
     "languageId": "plaintext"
    }
   },
   "outputs": [],
   "source": [
    "S:  收集数据、信息检索能力十分重要\n",
    "    无论是从网上还是和供应商沟通"
   ]
  },
  {
   "cell_type": "code",
   "execution_count": null,
   "metadata": {
    "vscode": {
     "languageId": "plaintext"
    }
   },
   "outputs": [],
   "source": [
    "Q:  svm三个核原理\n",
    "A:  支持向量机（SVM）是一种强大的分类算法，通过寻找最佳分隔超平面来最大化类别间的间隔。\n",
    "    核函数负责将数据映射到高维空间以处理非线性可分的问题\n",
    "\n",
    "    线性核: 直接在原始特征空间中寻找线性分隔超平面\n",
    "    多项式核:   特征之间存在多项式交互作用\n",
    "            网格搜索，遍历不同的 degree、C 和 coef0 组合\n",
    "            交叉验证评估每组参数的性能，选择最优模型\n",
    "    径向基核(RBF):\n",
    "            网格搜索，遍历不同的 C 和 gamma 组合\n",
    "            交叉验证评估每组参数的性能，选择最优模型\n",
    "\n",
    "    较大的 C 值会导致过拟合"
   ]
  },
  {
   "cell_type": "code",
   "execution_count": null,
   "metadata": {
    "vscode": {
     "languageId": "plaintext"
    }
   },
   "outputs": [],
   "source": [
    "Q:  bfs和dfs的数据结构\n",
    "A:  bfs 队列\n",
    "    dfs 栈"
   ]
  },
  {
   "cell_type": "code",
   "execution_count": null,
   "metadata": {
    "vscode": {
     "languageId": "plaintext"
    }
   },
   "outputs": [],
   "source": [
    "Q:  讲解超参数调优具体过程\n",
    "A:  以SVM举例\n",
    "    C（正则化参数）：控制模型对误分类的容忍程度。较大的 C 值会过拟合\n",
    "    gamma（RBF 核宽度参数）：控制核函数的“影响范围”。较大的 gamma 值关注局部模式，可能过拟合\n",
    "\n",
    "    超参数调优方法：网格搜索"
   ]
  },
  {
   "cell_type": "code",
   "execution_count": null,
   "metadata": {
    "vscode": {
     "languageId": "plaintext"
    }
   },
   "outputs": [],
   "source": [
    "Q:  AIC和BIC的数学公式和原理\n",
    "A:  L：模型的似然函数（Likelihood）的最大值，衡量模型对数据的拟合程度。\n",
    "    k：模型的自由参数个数（例如线性回归中的回归系数和截距）。\n",
    "    n：样本数量。\n",
    "\n",
    "    AIC:    最小化信息损失\n",
    "    BIC:    最大化后验概率\n",
    "\n",
    "    k小意味着模型简洁，L大意味着模型精确"
   ]
  },
  {
   "cell_type": "markdown",
   "metadata": {},
   "source": [
    "<img src=\"AIC.jpg\" style=\"zoom:50%\" />"
   ]
  },
  {
   "cell_type": "code",
   "execution_count": null,
   "metadata": {
    "vscode": {
     "languageId": "plaintext"
    }
   },
   "outputs": [],
   "source": [
    "Q:  LRU和LFU的具体应用\n",
    "A:  LRU更适用于访问模式较为稳定且数据更新频繁的场景，而LFU更适用于数据访问频率差异明显的场景"
   ]
  }
 ],
 "metadata": {
  "language_info": {
   "name": "python"
  }
 },
 "nbformat": 4,
 "nbformat_minor": 2
}
