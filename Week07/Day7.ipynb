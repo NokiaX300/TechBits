{
 "cells": [
  {
   "cell_type": "code",
   "execution_count": null,
   "metadata": {
    "vscode": {
     "languageId": "plaintext"
    }
   },
   "outputs": [],
   "source": [
    "Q:  卡方检验时是否检验了分布\n",
    "A:  不需要对数据是否符合某种分布进行假设（如正态分布）\n",
    "    样本独立就可以"
   ]
  },
  {
   "cell_type": "code",
   "execution_count": null,
   "metadata": {
    "vscode": {
     "languageId": "plaintext"
    }
   },
   "outputs": [],
   "source": [
    "S:  XGBoost吊打你这些过时的算法"
   ]
  },
  {
   "cell_type": "code",
   "execution_count": null,
   "metadata": {
    "vscode": {
     "languageId": "plaintext"
    }
   },
   "outputs": [],
   "source": [
    "S:  缺少实战经验"
   ]
  },
  {
   "cell_type": "code",
   "execution_count": null,
   "metadata": {
    "vscode": {
     "languageId": "plaintext"
    }
   },
   "outputs": [],
   "source": [
    "Q:  如何去进行过去二十年国家人口统计的数据分析\n",
    "A:  数据获取与清洗\n",
    "        收集权威来源的原始数据\n",
    "        处理缺失值、重复值\n",
    "    探索性数据分析\n",
    "        Tableau\n",
    "        初步评估人口增长、迁移等动态特征\n",
    "    模型构建与预测\n",
    "        统计或机器学习\n",
    "    可视化与报告"
   ]
  }
 ],
 "metadata": {
  "language_info": {
   "name": "python"
  }
 },
 "nbformat": 4,
 "nbformat_minor": 2
}
