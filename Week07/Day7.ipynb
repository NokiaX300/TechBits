{
 "cells": [
  {
   "cell_type": "code",
   "execution_count": null,
   "metadata": {
    "vscode": {
     "languageId": "plaintext"
    }
   },
   "outputs": [],
   "source": [
    "Q:  卡方检验时是否检验了分布\n",
    "A:  不需要对数据是否符合某种分布进行假设（如正态分布）\n",
    "    样本独立就可以"
   ]
  },
  {
   "cell_type": "code",
   "execution_count": null,
   "metadata": {
    "vscode": {
     "languageId": "plaintext"
    }
   },
   "outputs": [],
   "source": [
    "S:  XGBoost吊打你这些过时的算法"
   ]
  },
  {
   "cell_type": "code",
   "execution_count": null,
   "metadata": {
    "vscode": {
     "languageId": "plaintext"
    }
   },
   "outputs": [],
   "source": [
    "S:  缺少实战经验"
   ]
  },
  {
   "cell_type": "code",
   "execution_count": null,
   "metadata": {
    "vscode": {
     "languageId": "plaintext"
    }
   },
   "outputs": [],
   "source": [
    "Q:  如何去进行过去二十年国家人口统计的数据分析\n",
    "A:  数据获取与清洗\n",
    "        收集权威来源的原始数据\n",
    "        处理缺失值、重复值\n",
    "    探索性数据分析\n",
    "        Tableau\n",
    "        初步评估人口增长、迁移等动态特征\n",
    "    模型构建与预测\n",
    "        统计或机器学习\n",
    "    可视化与报告"
   ]
  },
  {
   "cell_type": "code",
   "execution_count": null,
   "metadata": {
    "vscode": {
     "languageId": "plaintext"
    }
   },
   "outputs": [],
   "source": [
    "Q:  英文回答线性回归和逻辑回归的区别\n",
    "A:  Purpose: Linear regression is used to predict continuous outputs, \n",
    "    such as house prices, while logistic regression is used for classification tasks, \n",
    "    often binary, such as determining whether an email is spam or not.\n",
    "\n",
    "    Output: Linear regression produces a numeric value, \n",
    "    whereas logistic regression outputs probabilities (ranging between 0 and 1) \n",
    "    that are typically converted into class labels.\n",
    "\n",
    "    Equation and Function"
   ]
  },
  {
   "cell_type": "code",
   "execution_count": null,
   "metadata": {
    "vscode": {
     "languageId": "plaintext"
    }
   },
   "outputs": [],
   "source": [
    "Q:  你对奇瑞国际IT助理工程师的了解\n",
    "A:  这个岗位涵盖整车项目开发的全流程管理，\n",
    "    包括项目推进、质量管理、成本控制、市场调研与产品策略制定，以及IT规划与信息安全管理。\n",
    "    要具备市场洞察力和跨部门协作能力"
   ]
  }
 ],
 "metadata": {
  "language_info": {
   "name": "python"
  }
 },
 "nbformat": 4,
 "nbformat_minor": 2
}
