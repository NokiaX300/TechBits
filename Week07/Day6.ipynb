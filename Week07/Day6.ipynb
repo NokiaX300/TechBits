{
 "cells": [
  {
   "cell_type": "code",
   "execution_count": null,
   "metadata": {
    "vscode": {
     "languageId": "plaintext"
    }
   },
   "outputs": [],
   "source": [
    "Q:  LCA和PCA的区别\n",
    "A:  PCA 无监督\n",
    "    LCA 有监督"
   ]
  },
  {
   "cell_type": "code",
   "execution_count": null,
   "metadata": {
    "vscode": {
     "languageId": "plaintext"
    }
   },
   "outputs": [],
   "source": [
    "Q:  项目数据清洗过程中用到的算法\n",
    "A:  One-Hot Encoding\n",
    "    标准化\n",
    "    PCA"
   ]
  },
  {
   "cell_type": "code",
   "execution_count": null,
   "metadata": {
    "vscode": {
     "languageId": "plaintext"
    }
   },
   "outputs": [],
   "source": [
    "S:  更自信一些"
   ]
  },
  {
   "cell_type": "code",
   "execution_count": null,
   "metadata": {
    "vscode": {
     "languageId": "plaintext"
    }
   },
   "outputs": [],
   "source": [
    "A:  如果是银行要想清楚发展路径，做好轮岗下基层的准备\n",
    "    要对自己有清晰的职业规划"
   ]
  },
  {
   "cell_type": "code",
   "execution_count": null,
   "metadata": {
    "vscode": {
     "languageId": "plaintext"
    }
   },
   "outputs": [],
   "source": [
    "Q:  在项目中遇到最有挑战的部分\n",
    "A:  项目里技术部分其实不算特别难，例如使用了决策树模型、相关性分析、特征工程等工具来处理数据和优化模型。\n",
    "    虽然技术挑战存在，但相对有解决方案可循。真正的挑战是在和银行沟通需求上。\n",
    "    最开始他们没完全明确需要什么特征，我们就需要不断分析、反馈，再一起调整模型。\n",
    "    这过程让我意识到，做好特征选择不光靠技术，还得结合业务需求，才能让模型真正有用。"
   ]
  },
  {
   "cell_type": "code",
   "execution_count": null,
   "metadata": {
    "vscode": {
     "languageId": "plaintext"
    }
   },
   "outputs": [],
   "source": [
    "Q:  标准化时两个最常用的公式"
   ]
  },
  {
   "cell_type": "markdown",
   "metadata": {},
   "source": [
    "<img src=\"Scale1.jpg\" style=\"zoom:50%\" />"
   ]
  },
  {
   "cell_type": "markdown",
   "metadata": {},
   "source": [
    "<img src=\"Scale2.jpg\" style=\"zoom:50%\" />"
   ]
  },
  {
   "cell_type": "code",
   "execution_count": null,
   "metadata": {
    "vscode": {
     "languageId": "plaintext"
    }
   },
   "outputs": [],
   "source": [
    "Q:  距离的分类（比如knn中）\n",
    "A:  欧式距离\n",
    "    余弦相似度  两个向量之间的夹角余弦值\n",
    "    曼哈顿距离  绝对差值之和\n",
    "    Jaccard相似度   两个集合的交集与并集的比例"
   ]
  },
  {
   "cell_type": "code",
   "execution_count": null,
   "metadata": {
    "vscode": {
     "languageId": "plaintext"
    }
   },
   "outputs": [],
   "source": [
    "Q:  讲解knn算法的原理\n",
    "A:  选择距离该样本最近的 K 个邻居，根据这些邻居的类别决定新样本的类别\n",
    "    K值过小可能会导致过拟合，K值过大可能会导致欠拟合\n",
    "    工程上是根据经验选取k\n",
    "\n",
    "    基于数据规模\n",
    "        小数据集中的局部模式更重要，较小的值能捕捉局部特性\n",
    "        大数据集中噪声比例较低，较大的值能更好地平滑局部波动，体现全局趋势\n",
    "    奇数优先\n",
    "    样本总数的平方根"
   ]
  }
 ],
 "metadata": {
  "language_info": {
   "name": "python"
  }
 },
 "nbformat": 4,
 "nbformat_minor": 2
}
