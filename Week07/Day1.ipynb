{
 "cells": [
  {
   "cell_type": "markdown",
   "metadata": {},
   "source": [
    "执行一条 select 语句，期间发生了什么？"
   ]
  }
 ],
 "metadata": {
  "language_info": {
   "name": "python"
  }
 },
 "nbformat": 4,
 "nbformat_minor": 2
}
