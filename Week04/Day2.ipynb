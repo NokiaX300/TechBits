{
 "cells": [
  {
   "cell_type": "markdown",
   "metadata": {},
   "source": [
    "Socket"
   ]
  },
  {
   "cell_type": "code",
   "execution_count": null,
   "metadata": {
    "vscode": {
     "languageId": "plaintext"
    }
   },
   "outputs": [],
   "source": [
    "一个输入操作通常包括两个阶段：\n",
    "\n",
    "等待数据准备好\n",
    "从内核向进程复制数据"
   ]
  },
  {
   "cell_type": "code",
   "execution_count": null,
   "metadata": {
    "vscode": {
     "languageId": "plaintext"
    }
   },
   "outputs": [],
   "source": [
    "Socket是进行数据通信的端点，而I/O模型决定了Socket如何处理数据的传输"
   ]
  },
  {
   "cell_type": "code",
   "execution_count": null,
   "metadata": {
    "vscode": {
     "languageId": "plaintext"
    }
   },
   "outputs": [],
   "source": [
    "Unix 有五种 I/O 模型：\n",
    "\n",
    "阻塞式 I/O\n",
    "非阻塞式 I/O\n",
    "I/O 复用（select 和 poll）\n",
    "信号驱动式 I/O（SIGIO）\n",
    "异步 I/O（AIO）"
   ]
  },
  {
   "cell_type": "code",
   "execution_count": null,
   "metadata": {
    "vscode": {
     "languageId": "plaintext"
    }
   },
   "outputs": [],
   "source": [
    "阻塞式 I/O\n",
    "在银行排队等叫号，直到轮到你为止。期间你只能在那干等，不能做其他事\n",
    "应用进程被阻塞，直到数据从内核缓冲区复制到应用进程缓冲区中才返回"
   ]
  },
  {
   "cell_type": "code",
   "execution_count": null,
   "metadata": {
    "vscode": {
     "languageId": "plaintext"
    }
   },
   "outputs": [],
   "source": [
    "非阻塞式 I/O\n",
    "去柜台问工作人员“我的号到了吗？”如果没有到，就去做别的事，然后再回来问\n",
    "应用进程执行系统调用之后，内核返回一个错误码。\n",
    "应用进程可以继续执行，但是需要不断的执行系统调用来获知 I/O 是否完成，这种方式称为轮询（polling）"
   ]
  },
  {
   "cell_type": "code",
   "execution_count": null,
   "metadata": {
    "vscode": {
     "languageId": "plaintext"
    }
   },
   "outputs": [],
   "source": [
    "I/O 复用\n",
    "请了一个秘书，帮你同时监控好几个柜台，哪个柜台有空了，它会通知你去办理\n",
    "使用 select 或者 poll 等待数据，并且可以等待多个套接字中的任何一个变为可读\n",
    "相比于多进程和多线程技术，I/O 复用不需要进程线程创建和切换的开销，系统开销更小"
   ]
  },
  {
   "cell_type": "code",
   "execution_count": null,
   "metadata": {
    "vscode": {
     "languageId": "plaintext"
    }
   },
   "outputs": [],
   "source": [
    "信号驱动 I/O\n",
    "银行系统给你发短信，告诉你该去柜台办理业务了\n",
    "内核在数据到达时向应用进程发送 SIGIO 信号，应用进程收到之后在信号处理程序中调用 recvfrom 将数据从内核复制到应用进程中"
   ]
  },
  {
   "cell_type": "code",
   "execution_count": null,
   "metadata": {
    "vscode": {
     "languageId": "plaintext"
    }
   },
   "outputs": [],
   "source": [
    "异步 I/O\n",
    "程序直接把“我要接收数据”的任务交给操作系统，然后继续做其他事\n",
    "等操作系统完全处理完数据（数据准备和复制都完成了）之后，会通知程序\n",
    "异步 I/O 与信号驱动 I/O 的区别在于，异步 I/O 的信号是通知应用进程 I/O 完成，而信号驱动 I/O 的信号是通知应用进程可以开始 I/O"
   ]
  }
 ],
 "metadata": {
  "language_info": {
   "name": "python"
  }
 },
 "nbformat": 4,
 "nbformat_minor": 2
}
