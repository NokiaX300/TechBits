{
 "cells": [
  {
   "cell_type": "markdown",
   "metadata": {},
   "source": [
    "Linux"
   ]
  },
  {
   "cell_type": "code",
   "execution_count": null,
   "metadata": {
    "vscode": {
     "languageId": "plaintext"
    }
   },
   "outputs": [],
   "source": [
    "Ctrl+C：中断正在运行的程序；\n",
    "Ctrl+D：结束键盘输入（End Of File，EOF）"
   ]
  },
  {
   "cell_type": "code",
   "execution_count": null,
   "metadata": {
    "vscode": {
     "languageId": "plaintext"
    }
   },
   "outputs": [],
   "source": [
    "info 与 man 类似，但是 info 将文档分成一个个页面，每个页面可以跳转"
   ]
  },
  {
   "cell_type": "code",
   "execution_count": null,
   "metadata": {
    "vscode": {
     "languageId": "plaintext"
    }
   },
   "outputs": [],
   "source": [
    "在关机前需要先使用 who 命令查看有没有其它用户在线\n",
    "为了加快对磁盘文件的读写速度，位于内存中的文件数据不会立即同步到磁盘，因此关机之前需要先进行 sync 同步操作"
   ]
  },
  {
   "cell_type": "code",
   "execution_count": null,
   "metadata": {
    "vscode": {
     "languageId": "plaintext"
    }
   },
   "outputs": [],
   "source": [
    "VIM\n",
    "一般指令模式（Command mode）：VIM 的默认模式，可以用于移动游标查看内容；\n",
    "编辑模式（Insert mode）：按下 \"i\" 等按键之后进入，可以对文本进行编辑；\n",
    "指令列模式（Bottom-line mode）：按下 \":\" 按键之后进入，用于保存退出等操作。"
   ]
  },
  {
   "cell_type": "code",
   "execution_count": null,
   "metadata": {
    "vscode": {
     "languageId": "plaintext"
    }
   },
   "outputs": [],
   "source": [
    "GNU\n",
    "目标是创建一套完全自由的操作系统"
   ]
  },
  {
   "cell_type": "code",
   "execution_count": null,
   "metadata": {
    "vscode": {
     "languageId": "plaintext"
    }
   },
   "outputs": [],
   "source": [
    "BIOS 是开机的时候计算机执行的第一个程序，\n",
    "这个程序知道可以开机的磁盘，\n",
    "并读取磁盘第一个扇区的主要开机记录（MBR），\n",
    "由主要开机记录（MBR）执行其中的开机管理程序，\n",
    "这个开机管理程序会加载操作系统的核心文件"
   ]
  }
 ],
 "metadata": {
  "language_info": {
   "name": "python"
  }
 },
 "nbformat": 4,
 "nbformat_minor": 2
}
