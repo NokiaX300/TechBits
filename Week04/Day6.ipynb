{
 "cells": [
  {
   "cell_type": "markdown",
   "metadata": {},
   "source": [
    "计算机操作系统 - 死锁"
   ]
  },
  {
   "cell_type": "code",
   "execution_count": null,
   "metadata": {
    "vscode": {
     "languageId": "plaintext"
    }
   },
   "outputs": [],
   "source": [
    "互斥：每个资源要么已经分配给了一个进程，要么就是可用的。\n",
    "占有和等待：已经得到了某个资源的进程可以再请求新的资源。\n",
    "不可抢占：已经分配给一个进程的资源不能强制性地被抢占，它只能被占有它的进程显式地释放。\n",
    "环路等待：有两个或者两个以上的进程组成一条环路，该环路中的每个进程都在等待下一个进程所占有的资源。"
   ]
  },
  {
   "cell_type": "code",
   "execution_count": null,
   "metadata": {
    "vscode": {
     "languageId": "plaintext"
    }
   },
   "outputs": [],
   "source": [
    "主要有以下四种方法：\n",
    "\n",
    "鸵鸟策略\n",
    "死锁检测与死锁恢复\n",
    "死锁预防\n",
    "死锁避免"
   ]
  },
  {
   "cell_type": "code",
   "execution_count": null,
   "metadata": {
    "vscode": {
     "languageId": "plaintext"
    }
   },
   "outputs": [],
   "source": [
    "鸵鸟策略\n",
    "\n",
    "大多数操作系统，包括 Unix，Linux 和 Windows，处理死锁问题的办法仅仅是忽略它。"
   ]
  },
  {
   "cell_type": "code",
   "execution_count": null,
   "metadata": {
    "vscode": {
     "languageId": "plaintext"
    }
   },
   "outputs": [],
   "source": [
    "死锁检测与死锁恢复\n",
    "\n",
    "不试图阻止死锁，而是当检测到死锁发生时，采取措施进行恢复。\n",
    "每种类型一个资源的死锁检测算法是通过检测有向图是否存在环来实现\n",
    "\n",
    "利用抢占恢复\n",
    "    类似于优先级控制\n",
    "利用回滚恢复\n",
    "    checkpoint\n",
    "通过杀死进程恢复\n",
    "    被杀死的进程通常可以重新启动或恢复到检查点"
   ]
  },
  {
   "cell_type": "code",
   "execution_count": null,
   "metadata": {
    "vscode": {
     "languageId": "plaintext"
    }
   },
   "outputs": [],
   "source": [
    "死锁预防\n",
    "\n",
    "破坏互斥条件\n",
    "破坏占有和等待条件\n",
    "    规定所有进程在开始执行前请求所需要的全部资源\n",
    "破坏不可抢占条件\n",
    "破坏环路等待\n",
    "    给资源统一编号，进程只能按编号顺序来请求资源"
   ]
  },
  {
   "cell_type": "code",
   "execution_count": null,
   "metadata": {
    "vscode": {
     "languageId": "plaintext"
    }
   },
   "outputs": [],
   "source": [
    "死锁避免\n",
    "\n",
    "在程序运行时避免发生死锁"
   ]
  }
 ],
 "metadata": {
  "language_info": {
   "name": "python"
  }
 },
 "nbformat": 4,
 "nbformat_minor": 2
}
