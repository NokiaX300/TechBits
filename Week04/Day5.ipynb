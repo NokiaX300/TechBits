{
 "cells": [
  {
   "cell_type": "markdown",
   "metadata": {},
   "source": [
    "计算机操作系统 - 进程管理"
   ]
  },
  {
   "cell_type": "code",
   "execution_count": null,
   "metadata": {
    "vscode": {
     "languageId": "plaintext"
    }
   },
   "outputs": [],
   "source": [
    "QQ 和浏览器是两个进程，浏览器进程里面有很多线程，例如 HTTP 请求线程、事件响应线程、渲染线程等等"
   ]
  },
  {
   "cell_type": "code",
   "execution_count": null,
   "metadata": {
    "vscode": {
     "languageId": "plaintext"
    }
   },
   "outputs": [],
   "source": [
    "线程：创建和销毁的开销比进程小\n",
    "\n",
    "进程：适合需要隔离资源、独立运行的应用，像数据库、浏览器、服务器等。\n",
    "线程：适合轻量级并发任务，常用于多线程编程，如计算密集型任务、I/O密集型任务等。"
   ]
  },
  {
   "cell_type": "code",
   "execution_count": null,
   "metadata": {
    "vscode": {
     "languageId": "plaintext"
    }
   },
   "outputs": [],
   "source": [
    "先来先服务\n",
    "短作业优先\n",
    "最短剩余时间优先"
   ]
  },
  {
   "cell_type": "code",
   "execution_count": null,
   "metadata": {
    "vscode": {
     "languageId": "plaintext"
    }
   },
   "outputs": [],
   "source": [
    "为了能够达到进程同步的目的，需要让进程进行通信，传输一些进程同步所需要的信息"
   ]
  },
  {
   "cell_type": "code",
   "execution_count": null,
   "metadata": {
    "vscode": {
     "languageId": "plaintext"
    }
   },
   "outputs": [],
   "source": [
    "管道是通过调用 pipe 函数创建的\n",
    "\n",
    "它具有以下限制：\n",
    "只支持半双工通信（单向交替传输）；\n",
    "只能在父子进程或者兄弟进程中使用。"
   ]
  },
  {
   "cell_type": "code",
   "execution_count": null,
   "metadata": {
    "vscode": {
     "languageId": "plaintext"
    }
   },
   "outputs": [],
   "source": [
    "FIFO\n",
    "也称为命名管道，去除了管道只能在父子进程中使用的限制。"
   ]
  },
  {
   "cell_type": "code",
   "execution_count": null,
   "metadata": {
    "vscode": {
     "languageId": "plaintext"
    }
   },
   "outputs": [],
   "source": [
    "消息队列\n",
    "相比于 FIFO，消息队列具有以下优点：\n",
    "\n",
    "消息队列可以独立于读写进程存在，从而避免了 FIFO 中同步管道的打开和关闭时可能产生的困难；\n",
    "避免了 FIFO 的同步阻塞问题，不需要进程自己提供同步方法；\n",
    "读进程可以根据消息类型有选择地接收消息，而不像 FIFO 那样只能默认地接收。"
   ]
  }
 ],
 "metadata": {
  "language_info": {
   "name": "python"
  }
 },
 "nbformat": 4,
 "nbformat_minor": 2
}
